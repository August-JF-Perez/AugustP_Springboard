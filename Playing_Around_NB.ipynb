{
 "cells": [
  {
   "cell_type": "code",
   "execution_count": null,
   "id": "237d614f",
   "metadata": {},
   "outputs": [],
   "source": [
    "#import numpy as np"
   ]
  },
  {
   "cell_type": "markdown",
   "id": "53076880",
   "metadata": {
    "tags": []
   },
   "source": [
    "# Playing with functions & local vs global variables"
   ]
  },
  {
   "cell_type": "code",
   "execution_count": null,
   "id": "6c08b517",
   "metadata": {},
   "outputs": [],
   "source": [
    "#"
   ]
  },
  {
   "cell_type": "code",
   "execution_count": null,
   "id": "02be2ab8",
   "metadata": {},
   "outputs": [],
   "source": [
    "#name = 'me'\n",
    "#name = input(\"name: \")"
   ]
  },
  {
   "cell_type": "code",
   "execution_count": null,
   "id": "a1b60191",
   "metadata": {},
   "outputs": [],
   "source": [
    "#height_f = 5.8\n",
    "#height_f = int(input(\"Height feet: \")) + (int(input(\"Height inches: \"))/12)"
   ]
  },
  {
   "cell_type": "code",
   "execution_count": null,
   "id": "001ec350",
   "metadata": {},
   "outputs": [],
   "source": [
    "#weight_lb = 160\n",
    "#weight_lb = int(input('Weight: '))"
   ]
  },
  {
   "cell_type": "code",
   "execution_count": null,
   "id": "b7f1a58f",
   "metadata": {},
   "outputs": [],
   "source": [
    "#def bmi_calc(name = input(\"Name: \"), height_f = (int(input(\"Height Ft: \"))*12) + int(input('Height In: ')), weight_lb = int(input(\"Weight lb: \"))):\n",
    "    bmi = (weight_lb / (height_f ** 2)) * 703\n",
    "    print('bmi: ')\n",
    "    print(bmi)\n",
    "    if bmi < 25:\n",
    "        return name + ' is not overweight'\n",
    "    else:\n",
    "        return name + ' is overweight'"
   ]
  },
  {
   "cell_type": "raw",
   "id": "806e892d-58a6-4202-8634-564b0ef54a89",
   "metadata": {},
   "source": [
    "result1 = bmi_calc()"
   ]
  },
  {
   "cell_type": "code",
   "execution_count": null,
   "id": "7d1ddf79",
   "metadata": {
    "scrolled": true
   },
   "outputs": [],
   "source": [
    "print(result1)"
   ]
  },
  {
   "cell_type": "code",
   "execution_count": null,
   "id": "7b897141",
   "metadata": {},
   "outputs": [],
   "source": [
    "#x = 'awesome'"
   ]
  },
  {
   "cell_type": "code",
   "execution_count": null,
   "id": "a896dce7",
   "metadata": {},
   "outputs": [],
   "source": [
    "#def myfunc():\n",
    "#    x = 'fantastic'\n",
    "#    print('Python is ' + x)"
   ]
  },
  {
   "cell_type": "code",
   "execution_count": null,
   "id": "c98d128b",
   "metadata": {},
   "outputs": [],
   "source": [
    "#myfunc()"
   ]
  },
  {
   "cell_type": "code",
   "execution_count": null,
   "id": "4144d419",
   "metadata": {},
   "outputs": [],
   "source": [
    "#print('Python is ' + x)"
   ]
  },
  {
   "cell_type": "code",
   "execution_count": null,
   "id": "a5bb617e",
   "metadata": {},
   "outputs": [],
   "source": [
    "#print('text',3,'text2',5+6)"
   ]
  },
  {
   "cell_type": "code",
   "execution_count": null,
   "id": "b29c09ce",
   "metadata": {},
   "outputs": [],
   "source": [
    "#w = int(input())"
   ]
  },
  {
   "cell_type": "code",
   "execution_count": null,
   "id": "1a8aefbe",
   "metadata": {},
   "outputs": [],
   "source": [
    "#def funct1(w):\n",
    "#    y = w + 1\n",
    "#    return y"
   ]
  },
  {
   "cell_type": "code",
   "execution_count": null,
   "id": "7df1693d",
   "metadata": {},
   "outputs": [],
   "source": [
    "#r = w + 2"
   ]
  },
  {
   "cell_type": "code",
   "execution_count": null,
   "id": "cb1e14ae",
   "metadata": {},
   "outputs": [],
   "source": [
    "#print(r)"
   ]
  },
  {
   "cell_type": "code",
   "execution_count": null,
   "id": "095b6c56",
   "metadata": {},
   "outputs": [],
   "source": [
    "#print(funct1(16))"
   ]
  },
  {
   "cell_type": "code",
   "execution_count": null,
   "id": "df6ca6e6",
   "metadata": {},
   "outputs": [],
   "source": [
    "#name = input(\"name: \")"
   ]
  },
  {
   "cell_type": "code",
   "execution_count": null,
   "id": "fc43b1f1",
   "metadata": {},
   "outputs": [],
   "source": [
    "#height_in = (int(input(\"Height feet: \"))*12) + int(input(\"Height inches: \"))"
   ]
  },
  {
   "cell_type": "code",
   "execution_count": null,
   "id": "2c8473e4",
   "metadata": {},
   "outputs": [],
   "source": [
    "#weight_lb = int(input('Weight: '))"
   ]
  },
  {
   "cell_type": "code",
   "execution_count": null,
   "id": "4e4245a1",
   "metadata": {},
   "outputs": [],
   "source": [
    "#def bmi_calc(name = name, height_in = height_in, weight_lb = weight_lb):\n",
    " #   bmi = (weight_lb / (height_in ** 2)) * 703\n",
    "  #  print('bmi: ')\n",
    "   # print(bmi)\n",
    "    #if bmi < 25:\n",
    "     #   return name + ' is not overweight'\n",
    "    #else:\n",
    "     #   return name + ' is overweight'"
   ]
  },
  {
   "cell_type": "code",
   "execution_count": null,
   "id": "11f94012",
   "metadata": {},
   "outputs": [],
   "source": [
    "#result1 = bmi_calc()"
   ]
  },
  {
   "cell_type": "code",
   "execution_count": null,
   "id": "dce818fc",
   "metadata": {},
   "outputs": [],
   "source": [
    "#print(result1)"
   ]
  },
  {
   "cell_type": "code",
   "execution_count": null,
   "id": "f32cc011",
   "metadata": {},
   "outputs": [],
   "source": [
    "#name = input(\"name: \")"
   ]
  },
  {
   "cell_type": "code",
   "execution_count": null,
   "id": "40fd583a",
   "metadata": {},
   "outputs": [],
   "source": [
    "#height_in = (int(input(\"Height feet: \"))*12) + int(input(\"Height inches: \"))"
   ]
  },
  {
   "cell_type": "code",
   "execution_count": null,
   "id": "9cc13c60",
   "metadata": {},
   "outputs": [],
   "source": [
    "#weight_lb = int(input('Weight: '))"
   ]
  },
  {
   "cell_type": "code",
   "execution_count": null,
   "id": "0c5f5a01",
   "metadata": {},
   "outputs": [],
   "source": [
    "#def bmi_calc(name, height_in, weight_lb):\n",
    " #   '''Calculate BMI in imperial units'''\n",
    "  #  bmi = (weight_lb / (height_in ** 2)) * 703\n",
    "   # print('bmi: ')\n",
    "    #print(bmi)\n",
    "    #return bmi\n",
    "    #if bmi < 25:\n",
    "     #   return name + ' is not overweight'\n",
    "    #else:\n",
    "     #   return name + ' is overweight'"
   ]
  },
  {
   "cell_type": "code",
   "execution_count": null,
   "id": "3c7b660f",
   "metadata": {},
   "outputs": [],
   "source": [
    "#print(bmi_calc)"
   ]
  },
  {
   "cell_type": "code",
   "execution_count": null,
   "id": "68537033",
   "metadata": {},
   "outputs": [],
   "source": [
    "#result1 = bmi_calc()"
   ]
  },
  {
   "cell_type": "code",
   "execution_count": null,
   "id": "d364600c",
   "metadata": {},
   "outputs": [],
   "source": [
    "print(result1)"
   ]
  },
  {
   "cell_type": "markdown",
   "id": "9c76cc4d",
   "metadata": {},
   "source": [
    "## Matplot lib follow-along"
   ]
  },
  {
   "cell_type": "code",
   "execution_count": null,
   "id": "ff16b544",
   "metadata": {},
   "outputs": [],
   "source": [
    "import matplotlib.pyplot as plt\n",
    "\n",
    "%matplotlib inline\n",
    "\n",
    "x = list(range(0, 10))\n",
    "y = list(range(-10, 0))\n",
    "\n",
    "plt.plot(x, y)"
   ]
  },
  {
   "cell_type": "code",
   "execution_count": null,
   "id": "6ab850dc",
   "metadata": {},
   "outputs": [],
   "source": [
    "a = [0, -100, 25, 67, -323]\n",
    "b = [0,3, 7, 3, 9]\n",
    "plt.plot(a,b)"
   ]
  },
  {
   "cell_type": "code",
   "execution_count": null,
   "id": "311d81ff",
   "metadata": {},
   "outputs": [],
   "source": [
    "plt.axis([-50, 80, 2, 8])\n",
    "plt.plot(a, b)"
   ]
  },
  {
   "cell_type": "code",
   "execution_count": null,
   "id": "3944abef",
   "metadata": {},
   "outputs": [],
   "source": [
    "plt.title(\"Triangle\")\n",
    "plt.xlabel(\"Array A\")\n",
    "plt.ylabel(\"Array B\")\n",
    "plt.axis([-50, 80, 2, 8])\n",
    "plt.plot(a,b)"
   ]
  },
  {
   "cell_type": "code",
   "execution_count": null,
   "id": "b3e0a2d0",
   "metadata": {},
   "outputs": [],
   "source": [
    "plt.title(\"Triangle\")\n",
    "plt.xlabel(\"Array A\")\n",
    "plt.ylabel(\"Array B\")\n",
    "plt.axis([-50, 80, 2, 8])\n",
    "plt.xticks((-40, -20, 0, 20, 40, 60, 80), ('h', 'e', 'l', 'l', 'o','o','o'))\n",
    "plt.plot(a,b)"
   ]
  },
  {
   "cell_type": "code",
   "execution_count": null,
   "id": "cfd777d1",
   "metadata": {},
   "outputs": [],
   "source": [
    "plt.title(\"Triangle\")\n",
    "plt.xlabel(\"Array A\")\n",
    "plt.ylabel(\"Array B\")\n",
    "plt.axis([-50, 80, 2, 8])\n",
    "plt.xticks((-40, -20, 0, 20, 40, 60, 80), ('h', 'e', 'l', 'l', 'o','o','o'))\n",
    "plt.plot(a,b, color = 'red')"
   ]
  },
  {
   "cell_type": "code",
   "execution_count": null,
   "id": "bedc6688",
   "metadata": {},
   "outputs": [],
   "source": [
    "plt.hist(a)"
   ]
  },
  {
   "cell_type": "code",
   "execution_count": null,
   "id": "e3c30974",
   "metadata": {},
   "outputs": [],
   "source": [
    "plt.hist(x)\n",
    "plt.hist(y)"
   ]
  },
  {
   "cell_type": "markdown",
   "id": "0900ffd2-2e8e-4818-a06d-728ad3c76ede",
   "metadata": {},
   "source": [
    "# Dictionaries"
   ]
  },
  {
   "cell_type": "code",
   "execution_count": null,
   "id": "e1c9c591-1b10-4bcf-a2fa-7fdc6aa00a9f",
   "metadata": {
    "tags": []
   },
   "outputs": [],
   "source": [
    "dict_ex = {'george': 24, 'tom': 32}"
   ]
  },
  {
   "cell_type": "code",
   "execution_count": null,
   "id": "bbc40d8e-13eb-49bb-b4f8-08d3165ac7c0",
   "metadata": {
    "tags": []
   },
   "outputs": [],
   "source": [
    "print(dict_ex)"
   ]
  },
  {
   "cell_type": "code",
   "execution_count": null,
   "id": "4d89515a-04ad-4cc1-be34-0771132a69bc",
   "metadata": {
    "tags": []
   },
   "outputs": [],
   "source": [
    "#add a key:value to dictionary\n",
    "dict_ex['jenny'] = 12"
   ]
  },
  {
   "cell_type": "code",
   "execution_count": null,
   "id": "5fcb34d1-2e49-4784-b116-6b2d8c7640bf",
   "metadata": {
    "tags": []
   },
   "outputs": [],
   "source": [
    "print(dict_ex)"
   ]
  },
  {
   "cell_type": "code",
   "execution_count": null,
   "id": "8ff751d7-2964-4ecc-acee-49ccdfb1219d",
   "metadata": {
    "tags": []
   },
   "outputs": [],
   "source": [
    "print(dict_ex['george'])"
   ]
  },
  {
   "cell_type": "code",
   "execution_count": null,
   "id": "4e196b00-527c-41ab-8d04-4ff87c9f2a83",
   "metadata": {
    "tags": []
   },
   "outputs": [],
   "source": [
    "#error if value not present in dictionary\n",
    "print(dict_ex['alice'])"
   ]
  },
  {
   "cell_type": "code",
   "execution_count": null,
   "id": "2053bb3e-cb02-4624-b910-f3709ebf0b8c",
   "metadata": {
    "tags": []
   },
   "outputs": [],
   "source": [
    "#iterate over key:value pairs \n",
    "dict_ex['tom'] = 20"
   ]
  },
  {
   "cell_type": "code",
   "execution_count": null,
   "id": "240df8fa-cfed-4e3c-a2aa-0256cd64b0f9",
   "metadata": {
    "tags": []
   },
   "outputs": [],
   "source": [
    "print(dict_ex)"
   ]
  },
  {
   "cell_type": "markdown",
   "id": "3c78b089-5337-422f-bf9a-ba3738fe5524",
   "metadata": {
    "tags": []
   },
   "source": [
    "# Pandas & CRUD"
   ]
  },
  {
   "cell_type": "code",
   "execution_count": null,
   "id": "be4c2578-8d0b-4bec-84c8-41fd84bef11d",
   "metadata": {
    "tags": []
   },
   "outputs": [],
   "source": [
    "import pandas as pd"
   ]
  },
  {
   "cell_type": "code",
   "execution_count": null,
   "id": "b0d3db8d-6e4e-464c-af63-9235f76d99fc",
   "metadata": {
    "tags": []
   },
   "outputs": [],
   "source": [
    "# create from dictionary\n",
    "tempdict = {'coll':[1,2,3], 'col2':[4,5,6], 'col3':[7,8,9]}"
   ]
  },
  {
   "cell_type": "code",
   "execution_count": null,
   "id": "f986e225-f186-4a73-91cc-3e7497e6d658",
   "metadata": {
    "tags": []
   },
   "outputs": [],
   "source": [
    "dictdf = pd.DataFrame.from_dict(tempdict)"
   ]
  },
  {
   "cell_type": "code",
   "execution_count": null,
   "id": "3391e4dc-aad8-47df-ba2e-6b812be69dee",
   "metadata": {
    "tags": []
   },
   "outputs": [],
   "source": [
    "dictdf.head()"
   ]
  },
  {
   "cell_type": "markdown",
   "id": "ee2b4181-4135-4239-a2fb-6f07297526ad",
   "metadata": {},
   "source": [
    "# if elif else Statements"
   ]
  },
  {
   "cell_type": "code",
   "execution_count": null,
   "id": "d9b6d786-080e-436c-a918-2c5ee9238e1b",
   "metadata": {
    "tags": []
   },
   "outputs": [],
   "source": [
    "name = \"Me\"\n",
    "height_m = 2\n",
    "weight_kg = 110\n",
    "\n",
    "bmi = weight_kg / (height_m ** 2)\n",
    "print(\"bmi: \" + str(bmi))\n",
    "if bmi < 25:\n",
    "    print(name + \" is not overweight\")\n",
    "else:\n",
    "    print(name + \" is overweight\")"
   ]
  },
  {
   "cell_type": "code",
   "execution_count": null,
   "id": "da7ad23f-e99a-406c-a8d1-b9dab78e85fb",
   "metadata": {
    "tags": []
   },
   "outputs": [],
   "source": [
    "inputtxt = input(\"Please enter test string: \")\n",
    "\n",
    "if len(inputtxt) < 6:\n",
    "    print(\"String too short\")\n",
    "    print('Use at least 6 characters')"
   ]
  },
  {
   "cell_type": "code",
   "execution_count": null,
   "id": "f3eb8588-72d6-4b7e-8f1f-12e50f84df31",
   "metadata": {
    "tags": []
   },
   "outputs": [],
   "source": [
    "give_int = input(\"Type and integer: \")\n",
    "int_form = int(give_int)\n",
    "\n",
    "if int_form % 2 == 0: #use modulus equal to zero to determine if numerator is multiple of denominator. divide by 2 to determine if even number\n",
    "    print(\"Even\")\n",
    "else:\n",
    "    print(\"Odd\")\n",
    "# in this case, str will output error"
   ]
  },
  {
   "cell_type": "code",
   "execution_count": null,
   "id": "0647df1b-245e-4697-882b-c4803c4b81d3",
   "metadata": {
    "tags": []
   },
   "outputs": [],
   "source": [
    "# if/then for more than 3 cases - ex determine traingle shape (scalene, isoceles, equilateral)\n",
    "# note this doesn't include test of whether inputs will actually form a triangle, would need angle info\n",
    "a = int(input('a length: ')) #this format converts input function to integer with single line\n",
    "b = int(input('b length: '))\n",
    "c = int(input('c length: '))\n",
    "\n",
    "if a != b and b != c and a != c:\n",
    "    print('Scalene Triangle')\n",
    "elif a == b and b == c:\n",
    "    print('Equilateral Traingle')\n",
    "else:\n",
    "    print('Isoceles Traingle') #uses process of elimination rather than code for 2 of 3 sides having same length"
   ]
  },
  {
   "cell_type": "markdown",
   "id": "ef2fd283-f2d8-4a42-9f3b-c981413847f6",
   "metadata": {
    "tags": []
   },
   "source": [
    "## for Loops"
   ]
  },
  {
   "cell_type": "code",
   "execution_count": null,
   "id": "8d8b73a2-7aef-47ca-b328-3f0f5a65c06e",
   "metadata": {
    "tags": []
   },
   "outputs": [],
   "source": [
    "list1 = ['fruit', 'veggie', 'bean']"
   ]
  },
  {
   "cell_type": "code",
   "execution_count": null,
   "id": "326b5728-6e72-47f5-a906-8390e500a714",
   "metadata": {
    "tags": []
   },
   "outputs": [],
   "source": [
    "# long way:\n",
    "print(list1[0])\n",
    "print(list1[1])\n",
    "print(list1[2])"
   ]
  },
  {
   "cell_type": "code",
   "execution_count": null,
   "id": "83fe1fb3-c920-48a9-b61f-a5accd0c630b",
   "metadata": {
    "tags": []
   },
   "outputs": [],
   "source": [
    "# for way:\n",
    "for element in list1:\n",
    "    print(element)"
   ]
  },
  {
   "cell_type": "code",
   "execution_count": null,
   "id": "7f07b171-aeff-446d-831a-2eb39d4021c7",
   "metadata": {
    "tags": []
   },
   "outputs": [],
   "source": [
    "# ex. find sum of list\n",
    "b = [20, 10, 5]\n",
    "total = 0\n",
    "\n",
    "for e in b:\n",
    "    total = total + e\n",
    "print(total)"
   ]
  },
  {
   "cell_type": "code",
   "execution_count": null,
   "id": "072bced3-2bf5-43e8-bfa2-069eb6370e34",
   "metadata": {
    "tags": []
   },
   "outputs": [],
   "source": [
    "total2 = 0\n",
    "for i in range(1,10):\n",
    "    total2 += i\n",
    "print(total2)"
   ]
  },
  {
   "cell_type": "code",
   "execution_count": null,
   "id": "72a64582-4ee7-49ca-9890-ef22a43f019a",
   "metadata": {
    "tags": []
   },
   "outputs": [],
   "source": [
    "# add all multiple of 3 in a range\n",
    "total3 = 0\n",
    "for r in range(1, 8):\n",
    "    if r % 3 == 0:\n",
    "        total3 += r\n",
    "print(total3)"
   ]
  },
  {
   "cell_type": "code",
   "execution_count": null,
   "id": "16b14033-8723-40f4-abf1-a7093f18e026",
   "metadata": {
    "tags": []
   },
   "outputs": [],
   "source": [
    "# compute all multiples of 3 & 5 that are less than 100\n",
    "list35 = []\n",
    "for number in range(1, 100): #limit range to 100 (1-99) elements to discard need for if statements to determine if the multiple is <100\n",
    "    if number % 3 == 0:\n",
    "        list35.append(number)\n",
    "    elif number % 5 == 0:\n",
    "        list35.append(number)\n",
    "print(list35)"
   ]
  },
  {
   "cell_type": "markdown",
   "id": "5a28672a-887e-4675-b53f-97313a4d6ad5",
   "metadata": {},
   "source": [
    "## while loops"
   ]
  },
  {
   "cell_type": "code",
   "execution_count": null,
   "id": "6859d1f8-d3ce-413f-96ef-0a8060029fed",
   "metadata": {
    "tags": []
   },
   "outputs": [],
   "source": [
    "j = 0\n",
    "\n",
    "while j <= 5:\n",
    "    print(j)\n",
    "    j += 1\n",
    "print('While loop condition met, moved to next line of code')"
   ]
  },
  {
   "cell_type": "code",
   "execution_count": null,
   "id": "06979e12-dedf-4d00-8972-d28260bae557",
   "metadata": {
    "tags": []
   },
   "outputs": [],
   "source": [
    "# apply loop to only certain elements in a list (sum positive numbers of list in this example)\n",
    "\n",
    "given_list = [5,4,4,3,1,-2,-3,-5]\n",
    "\n",
    "total3 = 0\n",
    "i = 0\n",
    "\n",
    "while i < len(given_list) and given_list[i] > 0: \n",
    "    total3 += given_list[i]\n",
    "    i += 1\n",
    "    # means first check the current element in given_list starting at index location [i] (starting at zero). \n",
    "    #this makes it so if the element at index location i is >0 then it will be added to total3. after each\n",
    "    #run throught the loop i will be increased by 1 to search the next index location of given_list\n",
    "    #\n",
    "print(total3)\n"
   ]
  },
  {
   "cell_type": "code",
   "execution_count": null,
   "id": "b4c080f9-d62a-4581-a528-984194c0a103",
   "metadata": {
    "tags": []
   },
   "outputs": [],
   "source": [
    "# break out of loop when certain condition met (sum of positive numbers in list)\n",
    "\n",
    "given_list2 = [5,4,4,3,1,-2,-3,-5]\n",
    "total4 = 0\n",
    "\n",
    "for element in given_list2:\n",
    "    if element <= 0:\n",
    "        break\n",
    "    total4 += element\n",
    "print(total4)"
   ]
  },
  {
   "cell_type": "code",
   "execution_count": null,
   "id": "3ce61ee4-bfd7-41b6-a959-dd8e81bf911c",
   "metadata": {
    "tags": []
   },
   "outputs": [],
   "source": [
    "given_list2 = [5,4,4,3,1,-2,-3,-5]\n",
    "total5 = 0\n",
    "i = 0\n",
    "\n",
    "while True:\n",
    "    total5 += given_list2[i]\n",
    "    i += 1\n",
    "    if given_list2[i] <= 0:\n",
    "        break\n",
    "print(total5)"
   ]
  },
  {
   "cell_type": "markdown",
   "id": "1505cc65-7057-4bba-bc1a-4582a3a88f7b",
   "metadata": {
    "tags": []
   },
   "source": [
    "## Random number generation"
   ]
  },
  {
   "cell_type": "code",
   "execution_count": null,
   "id": "443d18c3-3c9d-4050-afcf-fe2b4b8204d1",
   "metadata": {
    "tags": []
   },
   "outputs": [],
   "source": [
    "import random"
   ]
  },
  {
   "cell_type": "code",
   "execution_count": null,
   "id": "94a44a8c-5ba8-4035-b06e-72833e77c6a5",
   "metadata": {
    "tags": []
   },
   "outputs": [],
   "source": [
    "# display 10 random #'s from zero to one\n",
    "# will generate new random numbers each time code is run\n",
    "for i in range(10):\n",
    "    print(random.random())"
   ]
  },
  {
   "cell_type": "markdown",
   "id": "a2c9ccfb-464b-448b-857c-3fc466d1ad80",
   "metadata": {},
   "source": [
    "## Random Walks"
   ]
  },
  {
   "cell_type": "code",
   "execution_count": null,
   "id": "58caa26b-fe53-4d3c-a764-0352e88276e7",
   "metadata": {
    "tags": []
   },
   "outputs": [],
   "source": [
    "import random"
   ]
  },
  {
   "cell_type": "code",
   "execution_count": null,
   "id": "75f81448-f994-4d3e-b9a2-71011b4f44d8",
   "metadata": {
    "tags": []
   },
   "outputs": [],
   "source": [
    "#long form of function: random walk in a grid\n",
    "def random_walk(n): # arbituarily chose n as functions local variable \n",
    "    \"\"\"Return coordinates after 'n' block random walks in a grid\"\"\" #docstring to explain what function does\n",
    "    x = 0 #starting coords\n",
    "    y = 0 #starting coords\n",
    "    for i in range(n):\n",
    "        step = random.choice(['N', 'S','E','W'])\n",
    "        if step == 'N':\n",
    "            y = y + 1\n",
    "        elif step == 'S':\n",
    "            y = y - 1\n",
    "        elif step == \"E\":\n",
    "            x = x + 1\n",
    "        elif step == 'W':\n",
    "            x = x - 1\n",
    "    return (x, y) #coordinates returned as a tuple"
   ]
  },
  {
   "cell_type": "code",
   "execution_count": null,
   "id": "1d41982d-74d9-4658-9e3d-052043cbd465",
   "metadata": {
    "tags": []
   },
   "outputs": [],
   "source": [
    "# test the function. 25 random walks, each 10 grid lengths long\n",
    "for i in range(25):\n",
    "    walk = random_walk(10) # call the function \n",
    "    print(walk, \"distance from home = \", abs(walk[0]) + abs(walk[1]))\n",
    "    # print coordinates and distance from home (absolute values because the +/- are for direction, not distance)"
   ]
  },
  {
   "cell_type": "code",
   "execution_count": null,
   "id": "ed00b163-32df-4db4-a35c-2f2767471778",
   "metadata": {
    "tags": []
   },
   "outputs": [],
   "source": [
    "# Short form of function: random walk\n",
    "\n",
    "def random_walk_2(n):\n",
    "    \"\"\"Return coordinates after 'n' block random walks in a grid\"\"\"\n",
    "    x, y = 0, 0 #assign x & y in single line\n",
    "    for i in range(n):\n",
    "        (dx, dy) = random.choice([(0, 1), (0, -1), (1, 0), (-1, 0)]) \n",
    "        # dx & dy arbituarily chosen as varibles used to update x & y during walks\n",
    "        # North, S, E, & W represnted by the tuples in the list in random.choice. +/- represent direction\n",
    "        x += dx\n",
    "        y += dy\n",
    "    return (x, y)"
   ]
  },
  {
   "cell_type": "code",
   "execution_count": null,
   "id": "175f41e4-97f7-4223-abd2-45e643c888a7",
   "metadata": {
    "tags": []
   },
   "outputs": [],
   "source": [
    "# test the function. 25 random walks, each 10 grid lengths long\n",
    "for i in range(25):\n",
    "    walk = random_walk_2(10) # call the function \n",
    "    print(walk, \"distance from home = \", abs(walk[0]) + abs(walk[1]))"
   ]
  },
  {
   "cell_type": "code",
   "execution_count": null,
   "id": "c275923a-9b53-4314-a6ca-b86aa6d54dd1",
   "metadata": {
    "tags": []
   },
   "outputs": [],
   "source": [
    "# longest random walk possible so that on avg you end up <4 lengths from origin\n",
    "# Use Monte Carlo method\n",
    "\n",
    "number_of_walks = 20000\n",
    "\n",
    "for walk_length in range(1, 31):\n",
    "    no_transport = 0 # Number of walks that end 4 or fewer blocks from origin\n",
    "    for i in range(number_of_walks): #begin making the Monte Carlo loop\n",
    "        (x, y) = random_walk_2(walk_length)\n",
    "        distance = abs(x) + abs(y) # calculate distance from origin\n",
    "        if distance <= 4:\n",
    "            no_transport += 1\n",
    "    no_transport_percentage = float(no_transport) / number_of_walks\n",
    "    print(\"walk size = \", walk_length, \" / % of no transport = \", 100*no_transport_percentage)"
   ]
  },
  {
   "cell_type": "markdown",
   "id": "16234b3d-10b6-48d3-9283-05f62ec22082",
   "metadata": {},
   "source": [
    "## Playing around"
   ]
  },
  {
   "cell_type": "code",
   "execution_count": null,
   "id": "a6f2e248-8e6c-4136-aaea-4b62c5d39ed6",
   "metadata": {
    "tags": []
   },
   "outputs": [],
   "source": [
    "import matplotlib.pyplot as plt"
   ]
  },
  {
   "cell_type": "code",
   "execution_count": null,
   "id": "d9cf359d-68f7-4260-b448-d0c6b17eba77",
   "metadata": {
    "tags": []
   },
   "outputs": [],
   "source": [
    "def fizzBuzz(n):\n",
    "    # Write your code here\n",
    "    for i in range(1, n+1):\n",
    "        if i % 3 == 0 and i % 5 == 0:\n",
    "            print('FizzBuzz')\n",
    "        elif i % 3 == 0 and i % 5 != 0:\n",
    "            print('Fizz')\n",
    "        elif i % 3 != 0 and i % 5 == 0:\n",
    "            print('Buzz')\n",
    "        elif i % 3 != 0 and i % 5 != 0:\n",
    "            print(i)"
   ]
  },
  {
   "cell_type": "code",
   "execution_count": null,
   "id": "2a96f7a2-ceff-4f66-afa1-11c279bcf301",
   "metadata": {
    "tags": []
   },
   "outputs": [],
   "source": [
    "fizzBuzz(15)"
   ]
  },
  {
   "cell_type": "code",
   "execution_count": null,
   "id": "1f8e225f-c403-4dcb-a027-324d05d14b62",
   "metadata": {
    "tags": []
   },
   "outputs": [],
   "source": [
    "def simpleArraySum(ar):\n",
    "    ar = []"
   ]
  },
  {
   "cell_type": "code",
   "execution_count": null,
   "id": "a2fd0fe2-a3d9-4c36-b514-321b1da9f0ac",
   "metadata": {
    "tags": []
   },
   "outputs": [],
   "source": [
    "simpleArraySum(6\n",
    "               1,2,3,4,10,11)"
   ]
  },
  {
   "cell_type": "code",
   "execution_count": null,
   "id": "91ce26ba-6225-4ea7-bc3d-b3dcce61b910",
   "metadata": {
    "tags": []
   },
   "outputs": [],
   "source": [
    "import numpy as np"
   ]
  },
  {
   "cell_type": "code",
   "execution_count": null,
   "id": "0debd638-81b4-4909-9276-f9d6f3e45258",
   "metadata": {
    "tags": []
   },
   "outputs": [],
   "source": [
    "#given Numpy array, print output: [17.2 9.5]\n",
    "numpy1 = np.array([17.2, 20.0, 8.25, 9.50])\n",
    "print(numpy1[[0, -1]])"
   ]
  },
  {
   "cell_type": "code",
   "execution_count": null,
   "id": "5df9ede2-541d-4d48-ba07-69624df1750a",
   "metadata": {
    "tags": []
   },
   "outputs": [],
   "source": [
    "import math\n",
    "import os\n",
    "import random\n",
    "import re\n",
    "import sys\n",
    "\n",
    "\n",
    "n = int(input())\n",
    "if n % 2 != 0:\n",
    "    print('Weird')\n",
    "elif n % 2 == 0:\n",
    "    if n >= 2 and n <=5:\n",
    "        print('Not Weird')\n",
    "    elif n >= 6 and n <= 20:\n",
    "        print('Weird')\n",
    "    elif n > 20:\n",
    "        print('Not Weird')"
   ]
  },
  {
   "cell_type": "code",
   "execution_count": null,
   "id": "13de8110-76d8-486a-a20b-fcf6cc93e4f9",
   "metadata": {
    "tags": []
   },
   "outputs": [],
   "source": [
    "# can also be written as:\n",
    "\n",
    "n = int(input())\n",
    "if n % 2 != 0 or n > 5 and n < 21 :\n",
    "    print(\"Weird\")\n",
    "else: \n",
    "    print(\"Not Weird\")"
   ]
  },
  {
   "cell_type": "code",
   "execution_count": null,
   "id": "bc51c924-2f75-43b1-8de7-48ed485d290f",
   "metadata": {
    "tags": []
   },
   "outputs": [],
   "source": [
    "# I want to try and print multiple lines with single print() function\n",
    "a = 3 #int(input())\n",
    "b = 5 #int(input())\n",
    "print(((a + b),\n",
    "     (a - b),\n",
    "     (a * b)))\n",
    "# verdict: I can't without some other special function or other modifier"
   ]
  },
  {
   "cell_type": "code",
   "execution_count": null,
   "id": "0c8f9085-604e-456a-8878-1a0de81a7272",
   "metadata": {
    "tags": []
   },
   "outputs": [],
   "source": [
    "# one print() function for multiple lines. sep= denotes the seperator used in the print function.\n",
    "# to make a new line use \\n this applies to more than just print()\n",
    "a, b = 3, 5\n",
    "print(a + b, a - b, a * b, sep='\\n')"
   ]
  },
  {
   "cell_type": "code",
   "execution_count": null,
   "id": "4290e20d-e204-4b18-b7af-dbcd58970e73",
   "metadata": {
    "tags": []
   },
   "outputs": [],
   "source": [
    "a, b = 3, 5\n",
    "print(a+b);print(a-b);print(a*b) # this just uses multiple functions in one line\n",
    "print('I want to make \\nmultiple lines')\n",
    "#note that if a space between \"\"\\n\" and \"multiple\" is present, there would be a space when the str is printed out"
   ]
  },
  {
   "cell_type": "markdown",
   "id": "167f1865-02c1-48b7-a781-8ae4296060f8",
   "metadata": {},
   "source": [
    "## Lists"
   ]
  },
  {
   "cell_type": "markdown",
   "id": "d7367f1b-3807-4994-9d84-111a05c692ec",
   "metadata": {},
   "source": [
    "### Append method"
   ]
  },
  {
   "cell_type": "code",
   "execution_count": null,
   "id": "4521d770-61a0-4367-beb4-fbd6e0d0dc85",
   "metadata": {
    "tags": []
   },
   "outputs": [],
   "source": [
    "numbers = [1, 2, 3, 4, 5]"
   ]
  },
  {
   "cell_type": "code",
   "execution_count": null,
   "id": "53d2cf4a-aef9-4ea9-8c6d-4b8a5e4061e5",
   "metadata": {
    "tags": []
   },
   "outputs": [],
   "source": [
    "numbers.append(6)"
   ]
  },
  {
   "cell_type": "code",
   "execution_count": null,
   "id": "be390d9b-02fa-4c20-9c36-f9095ed57d2d",
   "metadata": {
    "tags": []
   },
   "outputs": [],
   "source": [
    "print(numbers)"
   ]
  },
  {
   "cell_type": "code",
   "execution_count": null,
   "id": "e1108259-2f66-45eb-84fe-444211e44f9f",
   "metadata": {
    "tags": []
   },
   "outputs": [],
   "source": [
    "animals = ['cat', 'dog', 'turtle']\n",
    "additional_animals = ['rabbit', 'horse']"
   ]
  },
  {
   "cell_type": "code",
   "execution_count": null,
   "id": "ac511d05-42de-4eb1-ad15-022797dfa39b",
   "metadata": {
    "tags": []
   },
   "outputs": [],
   "source": [
    "animals.append(additional_animals)\n",
    "print(animals)\n",
    "# results in a list of lists because"
   ]
  },
  {
   "cell_type": "code",
   "execution_count": null,
   "id": "91d824d3-fd9c-4402-9676-9fc7bfec61ea",
   "metadata": {
    "tags": []
   },
   "outputs": [],
   "source": [
    "# output is a single list, not list of lists\n",
    "for x in additional_animals:\n",
    "    animals.append(x)\n",
    "print(animals)"
   ]
  },
  {
   "cell_type": "markdown",
   "id": "70d4cca4-a1e0-4b0b-b8fb-0f83bf2efb32",
   "metadata": {},
   "source": [
    "## Tuples"
   ]
  },
  {
   "cell_type": "code",
   "execution_count": null,
   "id": "a3812413-109a-4945-8e85-041227018c5a",
   "metadata": {
    "tags": []
   },
   "outputs": [],
   "source": [
    "# make tuple\n",
    "tuple1 = (1, 'two', 3, 'four', True) #five elements\n",
    "# assign variables withinin single line\n",
    "var1, var2, var3, var4, var5 = tuple1\n",
    "print(var1, var2, var3, var4, var5)\n",
    "#number of variables must equal number of elements within tuple"
   ]
  },
  {
   "cell_type": "markdown",
   "id": "59752c70-5e34-45cc-9ed7-d9124505923a",
   "metadata": {},
   "source": [
    "## Sets"
   ]
  },
  {
   "cell_type": "code",
   "execution_count": null,
   "id": "368f90ac-2c4b-40fb-b56e-56f67680b899",
   "metadata": {
    "tags": []
   },
   "outputs": [],
   "source": [
    "set_name1 = set()"
   ]
  },
  {
   "cell_type": "code",
   "execution_count": null,
   "id": "0b0ba551-4408-4d8b-a5ae-24dcec1831e4",
   "metadata": {
    "tags": []
   },
   "outputs": [],
   "source": [
    "set_name1.add(42)\n",
    "set_name1.add(False)\n",
    "set_name1.add(3.14159)\n",
    "set_name1.add(\"thorium\")"
   ]
  },
  {
   "cell_type": "code",
   "execution_count": null,
   "id": "60e4c08a-1bf9-43c0-bddd-264572291489",
   "metadata": {
    "tags": []
   },
   "outputs": [],
   "source": [
    "print(set_name1) #order of elements doesn't matter"
   ]
  },
  {
   "cell_type": "code",
   "execution_count": null,
   "id": "d289597c-0c1d-4e77-942c-2af1b9a42c59",
   "metadata": {
    "tags": []
   },
   "outputs": [],
   "source": [
    "set_name1 #order of elelements doesn't matter"
   ]
  },
  {
   "cell_type": "code",
   "execution_count": null,
   "id": "ab8f8d9f-af97-461a-9fb1-e3518d162009",
   "metadata": {
    "tags": []
   },
   "outputs": [],
   "source": [
    "set_name1.add(42) #if this gets added, there should be 5 elements in the set\n",
    "len(set_name1) #shows number of elements within object or str"
   ]
  },
  {
   "cell_type": "code",
   "execution_count": null,
   "id": "ab6aadfa-84a9-4ecb-b8cc-b345c38cd15b",
   "metadata": {
    "tags": []
   },
   "outputs": [],
   "source": [
    "# remove element\n",
    "set_name1.remove(42)\n",
    "print(set_name1)"
   ]
  },
  {
   "cell_type": "code",
   "execution_count": null,
   "id": "ac74729c-fe4d-4f7a-93a0-196dfc10b4a4",
   "metadata": {
    "tags": []
   },
   "outputs": [],
   "source": [
    "# discard method (alternative to remove method)\n",
    "set_name1.discard(42)\n",
    "print(set_name1)"
   ]
  },
  {
   "cell_type": "markdown",
   "id": "bddab23b-31de-4369-96fa-5702c6456edc",
   "metadata": {},
   "source": [
    "Union & intersection"
   ]
  },
  {
   "cell_type": "code",
   "execution_count": null,
   "id": "a588e4bd-586b-4294-9c13-0c3b7dc99eb7",
   "metadata": {
    "tags": []
   },
   "outputs": [],
   "source": [
    "odds = set([1,3,5,7,9])\n",
    "evens = set([2,4,6,8,10])\n",
    "primes = set([2,3,5,7])\n",
    "composites = set([4,6,8,9,10])"
   ]
  },
  {
   "cell_type": "code",
   "execution_count": null,
   "id": "38add0fe-027e-4897-8dba-3e9e514e3129",
   "metadata": {
    "tags": []
   },
   "outputs": [],
   "source": [
    "# Union\n",
    "print(odds.union(evens))\n",
    "print(evens.union(odds))\n",
    "print(primes.union(composites))\n",
    "#same output despite order of the sets in the code"
   ]
  },
  {
   "cell_type": "code",
   "execution_count": null,
   "id": "0f6aa3de-8ab7-4c77-8b38-40885a80d570",
   "metadata": {
    "tags": []
   },
   "outputs": [],
   "source": [
    "# intersection\n",
    "print(odds.intersection(primes))\n",
    "print(primes.intersection(odds))\n",
    "print(evens.intersection(odds)) #no common elements between the sets so output is an empty set"
   ]
  },
  {
   "cell_type": "code",
   "execution_count": null,
   "id": "25399497-d120-461a-8bff-83055b1edcb0",
   "metadata": {
    "tags": []
   },
   "outputs": [],
   "source": [
    "# in operator used to determine if an element is present within a set\n",
    "print(2 in primes)\n",
    "print(1 in primes)\n",
    "#can use Not in conjunction with in to determine if element not in a list\n",
    "print(9 not in evens)"
   ]
  },
  {
   "cell_type": "code",
   "execution_count": null,
   "id": "7c175599-90c7-4c1f-8b7a-09f3ed728e43",
   "metadata": {
    "tags": []
   },
   "outputs": [],
   "source": [
    "list1 = [1,'two',3,4]"
   ]
  },
  {
   "cell_type": "code",
   "execution_count": null,
   "id": "3012373c-fd6e-4841-9272-45e062dde3e8",
   "metadata": {
    "tags": []
   },
   "outputs": [],
   "source": [
    "list1.index('two')"
   ]
  },
  {
   "cell_type": "markdown",
   "id": "a5ef7a6e-1e4e-4cd3-a085-0021c28aad31",
   "metadata": {},
   "source": [
    "## List Comprehension"
   ]
  },
  {
   "cell_type": "code",
   "execution_count": null,
   "id": "6d882c94-c07e-4511-ac33-cad4f7786140",
   "metadata": {
    "tags": []
   },
   "outputs": [],
   "source": [
    "records = [['2014', 'F', '20799', 'Emma'], ['2014', 'F', '19674', 'Olivia'], ['2014', 'F', '18490', 'Sophia'], ['2014', 'F', '16950', 'Isabella'], ['2014', 'F', '15586', 'Ava'], ['2014', 'F', '13442', 'Mia'], ['2014', 'F', '12562', 'Emily'], ['2014', 'F', '11985', 'Abigail'], ['2014', 'F', '10247', 'Madison'], ['2014', 'F', '10048', 'Charlotte'], ['2014', 'F', '9564', 'Harper'], ['2014', 'F', '9542', 'Sofia'], ['2014', 'F', '9517', 'Avery'], ['2014', 'F', '9492', 'Elizabeth'], ['2014', 'F', '8727', 'Amelia'], ['2014', 'F', '8692', 'Evelyn'], ['2014', 'F', '8489', 'Ella'], ['2014', 'F', '8469', 'Chloe'], ['2014', 'F', '7955', 'Victoria'], ['2014', 'F', '7589', 'Aubrey'], ['2014', 'F', '7554', 'Grace'], ['2014', 'F', '7358', 'Zoey'], ['2014', 'F', '7061', 'Natalie'], ['2014', 'F', '6950', 'Addison'], ['2014', 'F', '6869', 'Lillian'], ['2014', 'F', '6767', 'Brooklyn']]"
   ]
  },
  {
   "cell_type": "code",
   "execution_count": null,
   "id": "9a4c720c-cdfb-4030-8fba-fdbe79779c3d",
   "metadata": {
    "tags": []
   },
   "outputs": [],
   "source": [
    "# Create the list comprehension: baby_names\n",
    "baby_names = [row[3] for row in records]\n",
    "    \n",
    "# Print the sorted baby names in ascending alphabetical order\n",
    "print(sorted(baby_names))"
   ]
  },
  {
   "cell_type": "code",
   "execution_count": null,
   "id": "a988076b-327f-455a-9991-b258759015fe",
   "metadata": {
    "tags": []
   },
   "outputs": [],
   "source": [
    "# Can include conditional statements (i.e. if statements)\n",
    "baby_names2 = [item[3] for item in records if len(item[3]) > 6]\n",
    "# Output is names with str length greater than 6 characters\n",
    "print(baby_names2)"
   ]
  },
  {
   "cell_type": "markdown",
   "id": "678b910d-4b6b-4476-84e0-af5bda705c8a",
   "metadata": {
    "tags": []
   },
   "source": [
    "## Tuples"
   ]
  },
  {
   "cell_type": "markdown",
   "id": "8ed9b898-724c-4b5f-b52f-604c59698ccf",
   "metadata": {
    "tags": []
   },
   "source": [
    "### Zipping Tuples\n",
    "make a list of paired elements from multiple lists"
   ]
  },
  {
   "cell_type": "code",
   "execution_count": null,
   "id": "8952949e-532a-4d5a-aabd-59e596dfe3eb",
   "metadata": {
    "tags": []
   },
   "outputs": [],
   "source": [
    "# given lists of top favorite cookies in US & EU, ordered most to least:\n",
    "us_fave_cookies = ['molasses', 'sugar', 'chocolate chip', 'chocolate']\n",
    "eu_fave_cookies = ['digestive', 'sugar', 'oatmeal', 'almond']"
   ]
  },
  {
   "cell_type": "code",
   "execution_count": null,
   "id": "018b858a-8451-410f-9847-572cf74148b6",
   "metadata": {
    "tags": []
   },
   "outputs": [],
   "source": [
    "top_pairs = list(zip(us_fave_cookies, eu_fave_cookies))\n",
    "print(top_pairs)\n",
    "# makes a list of tuples with each element of each list paired together by index"
   ]
  },
  {
   "cell_type": "code",
   "execution_count": null,
   "id": "88763ca8-3b1a-4b75-a09f-fe6cad4299d1",
   "metadata": {
    "tags": []
   },
   "outputs": [],
   "source": [
    "us_fave_cookies2 = ['molasses', 'sugar', 'chocolate chip', 'chocolate', 'moon']\n",
    "eu_fave_cookies2 = ['digestive', 'sugar', 'oatmeal', 'almond']\n",
    "top_pairs2 = list(zip(us_fave_cookies2, eu_fave_cookies2))\n",
    "print(top_pairs2)\n",
    "# only zips up to the the max index of the smaller list"
   ]
  },
  {
   "cell_type": "markdown",
   "id": "e35aa71a-4995-4083-a77e-dc087abc7997",
   "metadata": {
    "tags": []
   },
   "source": [
    "### Unpacking/Expansion (assigning elements to variable(s)"
   ]
  },
  {
   "cell_type": "code",
   "execution_count": null,
   "id": "ded44696-8d7e-4497-bddd-2889e61bf03f",
   "metadata": {
    "tags": []
   },
   "outputs": [],
   "source": [
    "# using zipping tuples code from above\n",
    "us_num_1, eu_num_1 = top_pairs[0]\n",
    "print(us_num_1)\n",
    "print(eu_num_1)"
   ]
  },
  {
   "cell_type": "markdown",
   "id": "ef834098-3d20-4a49-96cb-83a0c06a249a",
   "metadata": {},
   "source": [
    "#### Unpacking in loops"
   ]
  },
  {
   "cell_type": "code",
   "execution_count": null,
   "id": "447112fd-dbf0-4529-ae02-9d3ba3d37d10",
   "metadata": {
    "tags": []
   },
   "outputs": [],
   "source": [
    "for us_fave_cookies, eu_fave_cookies in top_pairs:\n",
    "    print(eu_fave_cookies)\n",
    "    print(us_fave_cookies)\n",
    "# breaks the tuples into seperate elements"
   ]
  },
  {
   "cell_type": "markdown",
   "id": "c456665c-74eb-4a13-b09a-ff44d5fc2fa1",
   "metadata": {},
   "source": [
    "### Enumerate function\n",
    "tells the index of an element"
   ]
  },
  {
   "cell_type": "code",
   "execution_count": null,
   "id": "cc5096de-5f9c-4402-a615-ed111785b19b",
   "metadata": {
    "tags": []
   },
   "outputs": [],
   "source": [
    "for idx, item in enumerate(top_pairs):\n",
    "    us_fave_cookies, eu_fave_cookies = item\n",
    "    print(idx, us_fave_cookies, eu_fave_cookies)\n",
    "# output prints index becasue enumerate returns the index location then the element/s at that index"
   ]
  },
  {
   "cell_type": "markdown",
   "id": "36bf5894-bf5f-4f44-8e35-f97bdff5a222",
   "metadata": {},
   "source": [
    "# Strings and different ways to type them"
   ]
  },
  {
   "cell_type": "markdown",
   "id": "6a855a9e-d3fb-4232-91be-66120a7da0ac",
   "metadata": {},
   "source": [
    "## Formatted String Literals (f-strings)\n",
    "let you include the value of Python expressions inside a string by prefixing the string with f or F and writing expressions as {expression}."
   ]
  },
  {
   "cell_type": "code",
   "execution_count": null,
   "id": "154c6148-09bd-46fe-a4dd-d1ff80d09bef",
   "metadata": {
    "tags": []
   },
   "outputs": [],
   "source": [
    "# need a string \n",
    "print(\"Both {us_fave_cookies2} and {eu_fave_cookies2} are made up by me\")\n",
    "print(f\"Both {us_fave_cookies2} and {eu_fave_cookies2} are made up by me\")"
   ]
  },
  {
   "cell_type": "markdown",
   "id": "b3fb2d10-f3fe-470f-a692-6147e271201d",
   "metadata": {},
   "source": [
    "## Joining strings to iterables"
   ]
  },
  {
   "cell_type": "code",
   "execution_count": null,
   "id": "403f464a-f214-48eb-a931-7c6c434293ed",
   "metadata": {
    "tags": []
   },
   "outputs": [],
   "source": [
    "child_ages = [\"3\",\"4\",\"7\",\"8\"] #iterable apparently has to be a str\n",
    "print(\",\".join(child_ages))"
   ]
  },
  {
   "cell_type": "code",
   "execution_count": null,
   "id": "b149b175-2b37-412c-a019-a727dfb41ab5",
   "metadata": {
    "tags": []
   },
   "outputs": [],
   "source": [
    "print(f\"The children are ages {','.join(child_ages[0:3])}, and {child_ages[-1]}.\")"
   ]
  },
  {
   "cell_type": "markdown",
   "id": "a45a5131-78ed-4ade-8c56-56c3c71210ec",
   "metadata": {},
   "source": [
    "## matching parts of a str\n",
    "    str_name.startswith(...) or str_name.endswith(...) or in operator"
   ]
  },
  {
   "cell_type": "code",
   "execution_count": null,
   "id": "c6e4e346-8d1e-4630-b76e-b2a4fab50568",
   "metadata": {
    "tags": []
   },
   "outputs": [],
   "source": [
    "boy_names3 = [\"Mohammed\", 'Youssef', 'Ahmed']\n",
    "print([name for name in boy_names3 if name.startswith('A')])\n",
    "#case-sensitive"
   ]
  },
  {
   "cell_type": "code",
   "execution_count": null,
   "id": "4ab401bd-b37a-4987-8195-9c7f6cbb7b55",
   "metadata": {
    "tags": []
   },
   "outputs": [],
   "source": [
    "# in operator - returns boolean, can be used for filtering\n",
    "print('long' in \"Life is a long time\")\n",
    "print('Time' in \"Life is a long time\") #case-sensitive\n",
    "\n",
    "#can work around case-sensitivity using .lower() or .upper() or other formatting method to make all characters lower or upper case\n",
    "print(\"Time\" in \"Life is a long time\".title()) # .title() makes all first letters caps"
   ]
  },
  {
   "cell_type": "markdown",
   "id": "4202ec9e-2581-434a-972e-07977848806e",
   "metadata": {},
   "source": [
    "# CSV files in python"
   ]
  },
  {
   "cell_type": "markdown",
   "id": "e1841e39-66ff-4690-8fe8-17ebc411a07f",
   "metadata": {},
   "source": [
    "## Importing"
   ]
  },
  {
   "cell_type": "code",
   "execution_count": null,
   "id": "c9450a26-4fd4-4bc0-8e43-1380a745e395",
   "metadata": {
    "tags": []
   },
   "outputs": [],
   "source": [
    "#using locally stored csv of google 10yr stock prices\n",
    "import csv\n",
    "from datetime import datetime # imports a date and time data type to allow converting to that data type\n",
    "# make variables so you don't have to retype things multiple times\n",
    "path = \"G:\\My Drive\\Career\\Springboard Data Science\\Google Stock Market Data - google_stock_data.csv.csv\"\n",
    "file = open(path, newline='')\n",
    "reader = csv.reader(file)\n",
    "\n",
    "header = next(reader) # The first line of this csv is a header, this var makes it so we can start reading at the actual 1st line of data"
   ]
  },
  {
   "cell_type": "code",
   "execution_count": null,
   "id": "c03934fa-eb34-4cfd-ab39-5dbd6141a573",
   "metadata": {
    "tags": []
   },
   "outputs": [],
   "source": [
    "data1 = [row for row in reader] # read the remaining data"
   ]
  },
  {
   "cell_type": "code",
   "execution_count": null,
   "id": "3af33ab2-7bab-403b-9343-b2603e887ded",
   "metadata": {
    "tags": []
   },
   "outputs": [],
   "source": [
    "# Check if data gets diplayed properly\n",
    "print(header)\n",
    "print(data1[0])"
   ]
  },
  {
   "cell_type": "code",
   "execution_count": null,
   "id": "5be2969e-9c6c-4034-a054-7fb8950c7ef5",
   "metadata": {
    "tags": []
   },
   "outputs": [],
   "source": [
    "# convert data to appropriate types\n",
    "\n",
    "data2 = []\n",
    "for row in reader:\n",
    "    # what row will look like: row = [Date, Open, High, Low, Close, Volume, Adj. Close]\n",
    "    date = datetime.strptime(row[0], '%m/%d/%Y') # strptime short for string-parse-time\n",
    "    open_price = float(row[1]) # open is name of a built-in function so need to name variable something else\n",
    "    high = float(row[2])\n",
    "    low = float(row[3])\n",
    "    close = float(row[4])\n",
    "    volume = int(row[5])\n",
    "    adj_close = float(row[6])\n",
    "    \n",
    "    data2.append([date, open_price, high, low, close, volume, adj_close])"
   ]
  },
  {
   "cell_type": "code",
   "execution_count": null,
   "id": "1f89b02c-fad1-4e84-aa05-0303da6c3f81",
   "metadata": {
    "tags": []
   },
   "outputs": [],
   "source": [
    "#to check that data are converted to appropriate types (only looking at first element, otherwise types would be list since it's list of lists)\n",
    "# Note that error for below code occurs if data1 variable is defined,I don't know why\n",
    "# Note2 this code needs to be in a different cell than data2 variable creation, error if combined cell run more than once\n",
    "data2types = []\n",
    "for item_type in data2[0]:\n",
    "    data2types.append(type(item_type))\n",
    "\n",
    "print(data2types)"
   ]
  },
  {
   "cell_type": "code",
   "execution_count": null,
   "id": "186774b2-92b5-4e7e-b225-4f13a935d74c",
   "metadata": {
    "tags": []
   },
   "outputs": [],
   "source": [
    "# Compute daily stock returns and write to seperate CSV\n",
    "\n",
    "# Make the path to the file, this doesn't create the file\n",
    "returns_path = \"G:\\My Drive\\Career\\Springboard Data Science\\google_retuns_CSVlesson.csv\"\n",
    "file_daily = open(returns_path, 'w') #open file in write mode (the 'w')\n",
    "writer = csv.writer(file_daily) #make a csv writer object for storing the computed results\n",
    "writer.writerow([\"Date\", \"Return\"]) #call writerow method with list of values with the header pre-written here\n",
    "\n",
    "# Data is already ordered cronologically (most recent first), can just loop through it. To compute daily return as %, need the day and the prior day's price\n",
    "#create for loop with index becasue looping over the list itself will just give only 1 row at a time\n",
    "\n",
    "for i in range(len(data2) - 1): # stop at 2nd to last row b/c 1st day (last element of list) doesn't have prior day to compare to\n",
    "    todays_row = data2[i] # i is the local variable and represnts \"todays\" date (whichever index location is currently being iterated over)\n",
    "    todays_date = todays_row[0] # date is first element\n",
    "    todays_price = todays_row[-1] # price is 2nd element\n",
    "    yesterdays_row = data2[i+1] \n",
    "    yesterdays_price = yesterdays_row[-1]\n",
    "    \n",
    "    daily_return = (todays_price - yesterdays_price) / yesterdays_price\n",
    "    #format date to be easier to read\n",
    "    formatted_date = todays_date.strftime('%m/%d/%Y') #strftime short for string-format-time\n",
    "    writer.writerow([formatted_date, daily_return])"
   ]
  },
  {
   "cell_type": "markdown",
   "id": "9843dd90-1850-4e45-9940-6636c3f78590",
   "metadata": {},
   "source": [
    "# Dictionaries"
   ]
  },
  {
   "cell_type": "code",
   "execution_count": null,
   "id": "c52b14a9-db59-4a6f-a2a3-ee5258cbdfd4",
   "metadata": {
    "tags": []
   },
   "outputs": [],
   "source": [
    "# make a dict from a list\n",
    "# Create an empty dictionary named squirrels_by_park\n",
    "squirrels = [('Marcus Garvey Park', ('Black', 'Cinnamon', 'Cleaning', None)), ('Highbridge Park', ('Gray', 'Cinnamon', 'Running, Eating', 'Runs From, watches us in short tree')), ('Madison Square Park', ('Gray', None, 'Foraging', 'Indifferent')), ('City Hall Park', ('Gray', 'Cinnamon', 'Eating', 'Approaches')), ('J. Hood Wright Park', ('Gray', 'White', 'Running', 'Indifferent')), ('Seward Park', ('Gray', 'Cinnamon', 'Eating', 'Indifferent')), ('Union Square Park', ('Gray', 'Black', 'Climbing', None)), ('Tompkins Square Park', ('Gray', 'Gray', 'Lounging', 'Approaches'))]\n",
    "squirrels_by_park = {} #start with empty dict\n",
    "\n",
    "# Loop over the squirrels list and unpack each tuple\n",
    "for park, squirrel_details in squirrels:\n",
    "    # Add each squirrel_details to the squirrels_by_park dictionary\n",
    "    squirrels_by_park[park] = squirrel_details\n",
    "    \n",
    "# Sort the squirrels_by_park dict alphabetically by park\n",
    "for park in sorted(squirrels_by_park):\n",
    "    # Print each park and its value in squirrels_by_park\n",
    "    print(f'{park}: {squirrels_by_park[park]}')"
   ]
  },
  {
   "cell_type": "markdown",
   "id": "67f960b8-f002-4f0a-95a1-2d79ae2d541f",
   "metadata": {},
   "source": [
    "## get method"
   ]
  },
  {
   "cell_type": "code",
   "execution_count": null,
   "id": "a38bcbc9-2eec-4134-8cba-ad838877a5dc",
   "metadata": {
    "tags": []
   },
   "outputs": [],
   "source": [
    "# Safely print 'Union Square Park' from the squirrels_by_park dictionary\n",
    "squirrels_by_park2 = {'Union Square Park': [{'primary_fur_color': 'Gray', 'highlights_in_fur_color': None, 'activities': 'Eating, Foraging', 'interactions_with_humans': None}, {'primary_fur_color': 'Gray', 'highlights_in_fur_color': 'Cinnamon', 'activities': 'Climbing, Eating', 'interactions_with_humans': None}, {'primary_fur_color': 'Cinnamon', 'highlights_in_fur_color': None, 'activities': 'Foraging', 'interactions_with_humans': 'Indifferent'}, {'primary_fur_color': 'Gray', 'highlights_in_fur_color': None, 'activities': 'Running, Digging', 'interactions_with_humans': 'Runs From'}, {'primary_fur_color': 'Gray', 'highlights_in_fur_color': None, 'activities': 'Digging', 'interactions_with_humans': 'Indifferent'}, {'primary_fur_color': 'Gray', 'highlights_in_fur_color': 'Black', 'activities': 'Climbing', 'interactions_with_humans': None}, {'primary_fur_color': 'Gray', 'highlights_in_fur_color': None, 'activities': 'Eating, Foraging', 'interactions_with_humans': None}], 'Madison Square Park': [{'primary_fur_color': 'Gray', 'highlights_in_fur_color': None, 'activities': 'Sitting', 'interactions_with_humans': 'Indifferent'}, {'primary_fur_color': 'Gray', 'highlights_in_fur_color': 'Cinnamon', 'activities': 'Foraging', 'interactions_with_humans': 'Indifferent'}, {'primary_fur_color': 'Gray', 'highlights_in_fur_color': None, 'activities': 'Climbing, Foraging', 'interactions_with_humans': 'Indifferent'}]}\n",
    "\n",
    "print(\"Union Square Park Squirrels: \\n\",squirrels_by_park2.get('Union Square Park'),'\\n')\n",
    "\n",
    "# Safely print the type of 'Fort Tryon Park' from the squirrels_by_park dictionary\n",
    "print(\"Fort Tryon Park Squirrels: \\n\",type(squirrels_by_park2.get('Fort Tryon Park')),'\\n')\n",
    "\n",
    "# Safely print 'Central Park' from the squirrels_by_park dictionary or 'Not Found'\n",
    "print(\"Central Park Squirrels: \\n\",squirrels_by_park2.get('Central Park', 'Not Found'),'\\n')"
   ]
  },
  {
   "cell_type": "code",
   "execution_count": null,
   "id": "1c952537-72d4-42ce-a8cf-cc849e9cc50e",
   "metadata": {
    "tags": []
   },
   "outputs": [],
   "source": [
    "squirrels_madison = [{'primary_fur_color': 'Gray', 'highlights_in_fur_color': None, 'activities': 'Sitting', 'interactions_with_humans': 'Indifferent'}, {'primary_fur_color': 'Gray', 'highlights_in_fur_color': 'Cinnamon', 'activities': 'Foraging', 'interactions_with_humans': 'Indifferent'}, {'primary_fur_color': 'Gray', 'highlights_in_fur_color': None, 'activities': 'Climbing, Foraging', 'interactions_with_humans': 'Indifferent'}]\n",
    "squirrels_union = ('Union Square Park', [{'primary_fur_color': 'Gray', 'highlights_in_fur_color': None, 'activities': 'Eating, Foraging', 'interactions_with_humans': None}, {'primary_fur_color': 'Gray', 'highlights_in_fur_color': 'Cinnamon', 'activities': 'Climbing, Eating', 'interactions_with_humans': None}, {'primary_fur_color': 'Cinnamon', 'highlights_in_fur_color': None, 'activities': 'Foraging', 'interactions_with_humans': 'Indifferent'}, {'primary_fur_color': 'Gray', 'highlights_in_fur_color': None, 'activities': 'Running, Digging', 'interactions_with_humans': 'Runs From'}, {'primary_fur_color': 'Gray', 'highlights_in_fur_color': None, 'activities': 'Digging', 'interactions_with_humans': 'Indifferent'}, {'primary_fur_color': 'Gray', 'highlights_in_fur_color': 'Black', 'activities': 'Climbing', 'interactions_with_humans': None}, {'primary_fur_color': 'Gray', 'highlights_in_fur_color': None, 'activities': 'Eating, Foraging', 'interactions_with_humans': None}])"
   ]
  },
  {
   "cell_type": "code",
   "execution_count": null,
   "id": "598d10e2-d6fe-4b5b-a86c-be9c8d48cd65",
   "metadata": {
    "tags": []
   },
   "outputs": [],
   "source": [
    "# Assign squirrels_madison as the value to the 'Madison Square Park' key\n",
    "squirrels_by_park['Madison Square Park'] = squirrels_madison\n",
    "\n",
    "# Update squirrels_by_park with the squirrels_union tuple\n",
    "squirrels_by_park.update([squirrels_union])\n",
    "\n",
    "# Loop over the park_name in the squirrels_by_park dictionary \n",
    "for park_name in squirrels_by_park:\n",
    "    #Safely print a list of the primary_fur_color for each squirrel in park_name\n",
    "    print(park_name, [squirrel.get('primary_fur_color', 'N/A') for squirrel in squirrels_by_park[park_name]])"
   ]
  },
  {
   "cell_type": "markdown",
   "id": "a2754c1b-5a82-4fcd-885c-3327fa57f19f",
   "metadata": {},
   "source": [
    "## .items() method"
   ]
  },
  {
   "cell_type": "code",
   "execution_count": null,
   "id": "caef3a61-bf23-4b55-847b-275bd2a8ce23",
   "metadata": {},
   "outputs": [],
   "source": [
    "print(squirrels_by_park2.items())"
   ]
  },
  {
   "cell_type": "code",
   "execution_count": null,
   "id": "0353070d-69bd-45e5-93ae-70ef6853bc85",
   "metadata": {
    "tags": []
   },
   "outputs": [],
   "source": [
    "# Iterate over the first squirrel entry in the Madison Square Park list\n",
    "for field, value in squirrels_by_park[\"Madison Square Park\"][0].items():\n",
    "    # Print field and value\n",
    "    print(field, value)\n",
    "\n",
    "print('-' * 13)\n",
    "\n",
    "# Iterate over the second squirrel entry in the Union Square Park list\n",
    "for field, value in squirrels_by_park[\"Union Square Park\"][1].items():\n",
    "    # Print field and value\n",
    "    print(field, value)"
   ]
  },
  {
   "cell_type": "code",
   "execution_count": null,
   "id": "c27a5c14-365a-454d-9d54-a1093d158349",
   "metadata": {
    "tags": []
   },
   "outputs": [],
   "source": [
    "# Use a for loop to iterate over the squirrels in Tompkins Square Park:\n",
    "for squirrel in squirrels_by_park[\"Tompkins Square Park\"]:\n",
    "\t# Safely print the activities of each squirrel or None\n",
    "    print(squirrel.get(\"activities\"))\n",
    "    \n",
    "# Print the list of 'Cinnamon' primary_fur_color squirrels in Union Square Park\n",
    "print([squirrel for squirrel in squirrels_by_park[\"Union Square Park\"] if \"Cinnamon\" in squirrel[\"primary_fur_color\"]])"
   ]
  },
  {
   "cell_type": "markdown",
   "id": "ff9dbacd-d511-4664-8904-b2ec557071e3",
   "metadata": {},
   "source": [
    "# Collections Module"
   ]
  },
  {
   "cell_type": "code",
   "execution_count": null,
   "id": "b9c21a27-5e3a-459e-8bc0-f37d236d0bc5",
   "metadata": {
    "tags": []
   },
   "outputs": [],
   "source": [
    "import collections"
   ]
  },
  {
   "cell_type": "markdown",
   "id": "e1b3190a-8b32-4276-bc84-fb103a019142",
   "metadata": {},
   "source": [
    "## Counter"
   ]
  },
  {
   "cell_type": "code",
   "execution_count": null,
   "id": "c6e8051d-75d8-4c62-acd5-7c2ee7a793ca",
   "metadata": {
    "tags": []
   },
   "outputs": [],
   "source": [
    "from collections import Counter #Counter is capitilized"
   ]
  },
  {
   "cell_type": "code",
   "execution_count": null,
   "id": "a3ce8caf-419b-4bb2-bf88-3e4fae9da96c",
   "metadata": {
    "tags": []
   },
   "outputs": [],
   "source": [
    "listcount = ['g','a','l','l','a','d']\n",
    "c = Counter(listcount)\n",
    "print(c)\n",
    "# counter object looks like a dict but \"key:value\" pairs are element and the count of how many times it appears in the container passed as an argument"
   ]
  },
  {
   "cell_type": "code",
   "execution_count": null,
   "id": "995437f3-925f-4c27-a548-d4d4fcbe70dc",
   "metadata": {
    "tags": []
   },
   "outputs": [],
   "source": [
    "list(c.elements())"
   ]
  },
  {
   "cell_type": "code",
   "execution_count": null,
   "id": "f8b0e25b-662d-4ce5-87ad-90546b793ab0",
   "metadata": {
    "tags": []
   },
   "outputs": [],
   "source": [
    "print(c)\n",
    "d = Counter(listcount)\n",
    "print(c+d)"
   ]
  },
  {
   "cell_type": "code",
   "execution_count": null,
   "id": "b71f767b-9bc6-431e-bdee-7e410e727dd7",
   "metadata": {
    "tags": []
   },
   "outputs": [],
   "source": [
    "#intersection\n",
    "print(c & d)\n",
    "#union\n",
    "print(c | d)"
   ]
  },
  {
   "cell_type": "code",
   "execution_count": null,
   "id": "c5100cd0-9b4d-4233-8f1e-f22616f44ca1",
   "metadata": {
    "tags": []
   },
   "outputs": [],
   "source": [
    "from collections import namedtuple"
   ]
  },
  {
   "cell_type": "code",
   "execution_count": null,
   "id": "d81a3f95-edc4-4d1c-9708-45003d218f63",
   "metadata": {
    "tags": []
   },
   "outputs": [],
   "source": [
    "Color = namedtuple('Color', ['red', 'green', 'blue'])\n",
    "color = Color(55,155,255)\n",
    "print(color.red)"
   ]
  },
  {
   "cell_type": "markdown",
   "id": "b18881bc-8f05-45a4-beb6-675ca6a8ea85",
   "metadata": {},
   "source": [
    "# Datetime module"
   ]
  },
  {
   "cell_type": "code",
   "execution_count": null,
   "id": "1a2e2bea-b2db-4439-a0ed-aa3f60f7195d",
   "metadata": {
    "tags": []
   },
   "outputs": [],
   "source": [
    "import datetime"
   ]
  },
  {
   "cell_type": "code",
   "execution_count": null,
   "id": "ea8d2e57-e936-410d-a04d-5d2fa767718c",
   "metadata": {
    "tags": []
   },
   "outputs": [],
   "source": [
    "date1 = datetime.date(1956, 1, 22)\n",
    "print(date1)"
   ]
  },
  {
   "cell_type": "code",
   "execution_count": null,
   "id": "ba968698-95f5-46e5-b123-6ac2ebd3405f",
   "metadata": {
    "tags": []
   },
   "outputs": [],
   "source": [
    "# no leading zeros\n",
    "date2 = datetime.date(1956, 01, 09)\n",
    "print(date2)"
   ]
  },
  {
   "cell_type": "code",
   "execution_count": null,
   "id": "4bc1dae5-2d28-4022-a1b2-711d138b9e58",
   "metadata": {
    "tags": []
   },
   "outputs": [],
   "source": [
    "# knows you can't have days or months outside of normal range (12mo, max 31 days)\n",
    "date3 = datetime.date(1956, 1, 0)\n",
    "print(date3)"
   ]
  },
  {
   "cell_type": "code",
   "execution_count": null,
   "id": "e164444d-04a2-46ef-b7d0-df93fe64a7f7",
   "metadata": {
    "tags": []
   },
   "outputs": [],
   "source": [
    "# knows how many days should be in each month\n",
    "date1 = datetime.date(1956, 2, 30)\n",
    "print(date1)"
   ]
  },
  {
   "cell_type": "markdown",
   "id": "db753f9b-eba6-447b-959e-d79b8a423f52",
   "metadata": {},
   "source": [
    "# Nested Functions"
   ]
  },
  {
   "cell_type": "code",
   "execution_count": 2,
   "id": "b07b9ab3-d3ec-4cae-8b8b-93381cf1deb8",
   "metadata": {},
   "outputs": [
    {
     "name": "stdout",
     "output_type": "stream",
     "text": [
      "16\n",
      "100\n"
     ]
    }
   ],
   "source": [
    "def raise_val(n):\n",
    "    '''returns the inner func'''\n",
    "    def inner(x):\n",
    "        '''raise x to the power of n'''\n",
    "        raisedvar = x ** n\n",
    "        return raisedvar\n",
    "    return inner\n",
    "square = raise_val(2) # sets n to 2\n",
    "print(square(4)) #sets x to 4\n",
    "print(square(10)) # sets x to 10"
   ]
  },
  {
   "cell_type": "code",
   "execution_count": 5,
   "id": "8851897f-0b15-457a-a9f4-bb0375a16d24",
   "metadata": {
    "tags": []
   },
   "outputs": [
    {
     "name": "stdout",
     "output_type": "stream",
     "text": [
      "16\n",
      "100\n"
     ]
    }
   ],
   "source": [
    "# can't pass both n & x at same time, get error. Have to pass nested variables in subsequent parentheses\n",
    "print(raise_val(2)(4))\n",
    "print(raise_val(2)(10))"
   ]
  },
  {
   "cell_type": "code",
   "execution_count": null,
   "id": "0be3b548-65f2-4c44-8ac9-6cb4ea31f045",
   "metadata": {},
   "outputs": [],
   "source": []
  }
 ],
 "metadata": {
  "kernelspec": {
   "display_name": "Python 3 (ipykernel)",
   "language": "python",
   "name": "python3"
  },
  "language_info": {
   "codemirror_mode": {
    "name": "ipython",
    "version": 3
   },
   "file_extension": ".py",
   "mimetype": "text/x-python",
   "name": "python",
   "nbconvert_exporter": "python",
   "pygments_lexer": "ipython3",
   "version": "3.11.5"
  }
 },
 "nbformat": 4,
 "nbformat_minor": 5
}

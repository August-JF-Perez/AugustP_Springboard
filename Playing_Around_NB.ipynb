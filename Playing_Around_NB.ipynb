{
 "cells": [
  {
   "cell_type": "code",
   "execution_count": 47,
   "id": "02be2ab8",
   "metadata": {},
   "outputs": [
    {
     "name": "stdout",
     "output_type": "stream",
     "text": [
      "name: name1\n"
     ]
    }
   ],
   "source": [
    "#name = 'me'\n",
    "name = input(\"name: \")"
   ]
  },
  {
   "cell_type": "code",
   "execution_count": 52,
   "id": "a1b60191",
   "metadata": {},
   "outputs": [
    {
     "name": "stdout",
     "output_type": "stream",
     "text": [
      "Height feet: 5\n",
      "Height inches: 1\n"
     ]
    }
   ],
   "source": [
    "#height_f = 5.8\n",
    "height_f = int(input(\"Height feet: \")) + (int(input(\"Height inches: \"))/12)"
   ]
  },
  {
   "cell_type": "code",
   "execution_count": 53,
   "id": "001ec350",
   "metadata": {},
   "outputs": [
    {
     "name": "stdout",
     "output_type": "stream",
     "text": [
      "Weight: 180\n"
     ]
    }
   ],
   "source": [
    "#weight_lb = 160\n",
    "weight_lb = int(input('Weight: '))"
   ]
  },
  {
   "cell_type": "code",
   "execution_count": 54,
   "id": "b7f1a58f",
   "metadata": {},
   "outputs": [],
   "source": [
    "def bmi_calc(name, height_f, weight_lb):\n",
    "    bmi = weight_lb / (height_f ** 2)\n",
    "    print('bmi: ')\n",
    "    print(bmi)\n",
    "    if bmi < 25:\n",
    "        return name + ' not overweight'\n",
    "    else:\n",
    "        return name + ' is overweight'"
   ]
  },
  {
   "cell_type": "code",
   "execution_count": 56,
   "id": "eb1ccb73",
   "metadata": {},
   "outputs": [
    {
     "ename": "TypeError",
     "evalue": "bmi_calc() missing 3 required positional arguments: 'name', 'height_f', and 'weight_lb'",
     "output_type": "error",
     "traceback": [
      "\u001b[1;31m---------------------------------------------------------------------------\u001b[0m",
      "\u001b[1;31mTypeError\u001b[0m                                 Traceback (most recent call last)",
      "Cell \u001b[1;32mIn[56], line 1\u001b[0m\n\u001b[1;32m----> 1\u001b[0m result1 \u001b[38;5;241m=\u001b[39m bmi_calc()\n",
      "\u001b[1;31mTypeError\u001b[0m: bmi_calc() missing 3 required positional arguments: 'name', 'height_f', and 'weight_lb'"
     ]
    }
   ],
   "source": [
    "result1 = bmi_calc()"
   ]
  },
  {
   "cell_type": "code",
   "execution_count": 46,
   "id": "7d1ddf79",
   "metadata": {
    "scrolled": true
   },
   "outputs": [
    {
     "name": "stdout",
     "output_type": "stream",
     "text": [
      "me not overweight\n"
     ]
    }
   ],
   "source": [
    "print(result1)"
   ]
  },
  {
   "cell_type": "code",
   "execution_count": 7,
   "id": "7b897141",
   "metadata": {},
   "outputs": [],
   "source": [
    "#x = 'awesome'"
   ]
  },
  {
   "cell_type": "code",
   "execution_count": 8,
   "id": "a896dce7",
   "metadata": {},
   "outputs": [
    {
     "ename": "IndentationError",
     "evalue": "unexpected indent (617123336.py, line 2)",
     "output_type": "error",
     "traceback": [
      "\u001b[1;36m  Cell \u001b[1;32mIn[8], line 2\u001b[1;36m\u001b[0m\n\u001b[1;33m    x = 'fantastic'\u001b[0m\n\u001b[1;37m    ^\u001b[0m\n\u001b[1;31mIndentationError\u001b[0m\u001b[1;31m:\u001b[0m unexpected indent\n"
     ]
    }
   ],
   "source": [
    "#def myfunc():\n",
    "    x = 'fantastic'\n",
    "    print('Python is ' + x)"
   ]
  },
  {
   "cell_type": "code",
   "execution_count": null,
   "id": "c98d128b",
   "metadata": {},
   "outputs": [],
   "source": [
    "#myfunc()"
   ]
  },
  {
   "cell_type": "code",
   "execution_count": null,
   "id": "4144d419",
   "metadata": {},
   "outputs": [],
   "source": [
    "#print('Python is ' + x)"
   ]
  },
  {
   "cell_type": "code",
   "execution_count": null,
   "id": "a5bb617e",
   "metadata": {},
   "outputs": [],
   "source": [
    "#print('text',3,'text2',5+6)"
   ]
  },
  {
   "cell_type": "code",
   "execution_count": 28,
   "id": "b29c09ce",
   "metadata": {},
   "outputs": [
    {
     "name": "stdout",
     "output_type": "stream",
     "text": [
      "16\n"
     ]
    }
   ],
   "source": [
    "w = int(input())"
   ]
  },
  {
   "cell_type": "code",
   "execution_count": 37,
   "id": "1a8aefbe",
   "metadata": {},
   "outputs": [],
   "source": [
    "def funct1(w):\n",
    "    y = w + 1\n",
    "    return y"
   ]
  },
  {
   "cell_type": "code",
   "execution_count": 38,
   "id": "7df1693d",
   "metadata": {},
   "outputs": [],
   "source": [
    "r = w + 2"
   ]
  },
  {
   "cell_type": "code",
   "execution_count": 39,
   "id": "cb1e14ae",
   "metadata": {},
   "outputs": [
    {
     "name": "stdout",
     "output_type": "stream",
     "text": [
      "18\n"
     ]
    }
   ],
   "source": [
    "print(r)"
   ]
  },
  {
   "cell_type": "code",
   "execution_count": 40,
   "id": "095b6c56",
   "metadata": {},
   "outputs": [
    {
     "name": "stdout",
     "output_type": "stream",
     "text": [
      "17\n"
     ]
    }
   ],
   "source": [
    "print(funct1(16))"
   ]
  },
  {
   "cell_type": "code",
   "execution_count": null,
   "id": "2c8473e4",
   "metadata": {},
   "outputs": [],
   "source": []
  },
  {
   "cell_type": "code",
   "execution_count": null,
   "id": "4e4245a1",
   "metadata": {},
   "outputs": [],
   "source": []
  }
 ],
 "metadata": {
  "kernelspec": {
   "display_name": "Python 3 (ipykernel)",
   "language": "python",
   "name": "python3"
  },
  "language_info": {
   "codemirror_mode": {
    "name": "ipython",
    "version": 3
   },
   "file_extension": ".py",
   "mimetype": "text/x-python",
   "name": "python",
   "nbconvert_exporter": "python",
   "pygments_lexer": "ipython3",
   "version": "3.11.5"
  }
 },
 "nbformat": 4,
 "nbformat_minor": 5
}

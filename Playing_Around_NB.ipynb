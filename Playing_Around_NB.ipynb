{
 "cells": [
  {
   "cell_type": "code",
   "execution_count": null,
   "id": "237d614f",
   "metadata": {},
   "outputs": [],
   "source": [
    "#import numpy as np"
   ]
  },
  {
   "cell_type": "markdown",
   "id": "53076880",
   "metadata": {
    "tags": []
   },
   "source": [
    "# Playing with functions & local vs global variables"
   ]
  },
  {
   "cell_type": "code",
   "execution_count": null,
   "id": "6c08b517",
   "metadata": {},
   "outputs": [],
   "source": [
    "#"
   ]
  },
  {
   "cell_type": "code",
   "execution_count": null,
   "id": "02be2ab8",
   "metadata": {},
   "outputs": [],
   "source": [
    "#name = 'me'\n",
    "#name = input(\"name: \")"
   ]
  },
  {
   "cell_type": "code",
   "execution_count": null,
   "id": "a1b60191",
   "metadata": {},
   "outputs": [],
   "source": [
    "#height_f = 5.8\n",
    "#height_f = int(input(\"Height feet: \")) + (int(input(\"Height inches: \"))/12)"
   ]
  },
  {
   "cell_type": "code",
   "execution_count": null,
   "id": "001ec350",
   "metadata": {},
   "outputs": [],
   "source": [
    "#weight_lb = 160\n",
    "#weight_lb = int(input('Weight: '))"
   ]
  },
  {
   "cell_type": "code",
   "execution_count": null,
   "id": "b7f1a58f",
   "metadata": {},
   "outputs": [],
   "source": [
    "#def bmi_calc(name = input(\"Name: \"), height_f = (int(input(\"Height Ft: \"))*12) + int(input('Height In: ')), weight_lb = int(input(\"Weight lb: \"))):\n",
    "    bmi = (weight_lb / (height_f ** 2)) * 703\n",
    "    print('bmi: ')\n",
    "    print(bmi)\n",
    "    if bmi < 25:\n",
    "        return name + ' is not overweight'\n",
    "    else:\n",
    "        return name + ' is overweight'"
   ]
  },
  {
   "cell_type": "code",
   "execution_count": null,
   "id": "eb1ccb73",
   "metadata": {},
   "outputs": [],
   "source": [
    "result1 = bmi_calc()"
   ]
  },
  {
   "cell_type": "code",
   "execution_count": null,
   "id": "7d1ddf79",
   "metadata": {
    "scrolled": true
   },
   "outputs": [],
   "source": [
    "print(result1)"
   ]
  },
  {
   "cell_type": "code",
   "execution_count": null,
   "id": "7b897141",
   "metadata": {},
   "outputs": [],
   "source": [
    "#x = 'awesome'"
   ]
  },
  {
   "cell_type": "code",
   "execution_count": null,
   "id": "a896dce7",
   "metadata": {},
   "outputs": [],
   "source": [
    "#def myfunc():\n",
    "#    x = 'fantastic'\n",
    "#    print('Python is ' + x)"
   ]
  },
  {
   "cell_type": "code",
   "execution_count": null,
   "id": "c98d128b",
   "metadata": {},
   "outputs": [],
   "source": [
    "#myfunc()"
   ]
  },
  {
   "cell_type": "code",
   "execution_count": null,
   "id": "4144d419",
   "metadata": {},
   "outputs": [],
   "source": [
    "#print('Python is ' + x)"
   ]
  },
  {
   "cell_type": "code",
   "execution_count": null,
   "id": "a5bb617e",
   "metadata": {},
   "outputs": [],
   "source": [
    "#print('text',3,'text2',5+6)"
   ]
  },
  {
   "cell_type": "code",
   "execution_count": null,
   "id": "b29c09ce",
   "metadata": {},
   "outputs": [],
   "source": [
    "#w = int(input())"
   ]
  },
  {
   "cell_type": "code",
   "execution_count": null,
   "id": "1a8aefbe",
   "metadata": {},
   "outputs": [],
   "source": [
    "#def funct1(w):\n",
    "#    y = w + 1\n",
    "#    return y"
   ]
  },
  {
   "cell_type": "code",
   "execution_count": null,
   "id": "7df1693d",
   "metadata": {},
   "outputs": [],
   "source": [
    "#r = w + 2"
   ]
  },
  {
   "cell_type": "code",
   "execution_count": null,
   "id": "cb1e14ae",
   "metadata": {},
   "outputs": [],
   "source": [
    "#print(r)"
   ]
  },
  {
   "cell_type": "code",
   "execution_count": null,
   "id": "095b6c56",
   "metadata": {},
   "outputs": [],
   "source": [
    "#print(funct1(16))"
   ]
  },
  {
   "cell_type": "code",
   "execution_count": null,
   "id": "df6ca6e6",
   "metadata": {},
   "outputs": [],
   "source": [
    "#name = input(\"name: \")"
   ]
  },
  {
   "cell_type": "code",
   "execution_count": null,
   "id": "fc43b1f1",
   "metadata": {},
   "outputs": [],
   "source": [
    "#height_in = (int(input(\"Height feet: \"))*12) + int(input(\"Height inches: \"))"
   ]
  },
  {
   "cell_type": "code",
   "execution_count": null,
   "id": "2c8473e4",
   "metadata": {},
   "outputs": [],
   "source": [
    "#weight_lb = int(input('Weight: '))"
   ]
  },
  {
   "cell_type": "code",
   "execution_count": null,
   "id": "4e4245a1",
   "metadata": {},
   "outputs": [],
   "source": [
    "#def bmi_calc(name = name, height_in = height_in, weight_lb = weight_lb):\n",
    " #   bmi = (weight_lb / (height_in ** 2)) * 703\n",
    "  #  print('bmi: ')\n",
    "   # print(bmi)\n",
    "    #if bmi < 25:\n",
    "     #   return name + ' is not overweight'\n",
    "    #else:\n",
    "     #   return name + ' is overweight'"
   ]
  },
  {
   "cell_type": "code",
   "execution_count": null,
   "id": "11f94012",
   "metadata": {},
   "outputs": [],
   "source": [
    "#result1 = bmi_calc()"
   ]
  },
  {
   "cell_type": "code",
   "execution_count": null,
   "id": "dce818fc",
   "metadata": {},
   "outputs": [],
   "source": [
    "#print(result1)"
   ]
  },
  {
   "cell_type": "code",
   "execution_count": null,
   "id": "f32cc011",
   "metadata": {},
   "outputs": [],
   "source": [
    "#name = input(\"name: \")"
   ]
  },
  {
   "cell_type": "code",
   "execution_count": null,
   "id": "40fd583a",
   "metadata": {},
   "outputs": [],
   "source": [
    "#height_in = (int(input(\"Height feet: \"))*12) + int(input(\"Height inches: \"))"
   ]
  },
  {
   "cell_type": "code",
   "execution_count": null,
   "id": "9cc13c60",
   "metadata": {},
   "outputs": [],
   "source": [
    "#weight_lb = int(input('Weight: '))"
   ]
  },
  {
   "cell_type": "code",
   "execution_count": null,
   "id": "0c5f5a01",
   "metadata": {},
   "outputs": [],
   "source": [
    "#def bmi_calc(name, height_in, weight_lb):\n",
    " #   '''Calculate BMI in imperial units'''\n",
    "  #  bmi = (weight_lb / (height_in ** 2)) * 703\n",
    "   # print('bmi: ')\n",
    "    #print(bmi)\n",
    "    #return bmi\n",
    "    #if bmi < 25:\n",
    "     #   return name + ' is not overweight'\n",
    "    #else:\n",
    "     #   return name + ' is overweight'"
   ]
  },
  {
   "cell_type": "code",
   "execution_count": null,
   "id": "3c7b660f",
   "metadata": {},
   "outputs": [],
   "source": [
    "#print(bmi_calc)"
   ]
  },
  {
   "cell_type": "code",
   "execution_count": null,
   "id": "68537033",
   "metadata": {},
   "outputs": [],
   "source": [
    "#result1 = bmi_calc()"
   ]
  },
  {
   "cell_type": "code",
   "execution_count": null,
   "id": "d364600c",
   "metadata": {},
   "outputs": [],
   "source": [
    "print(result1)"
   ]
  },
  {
   "cell_type": "markdown",
   "id": "9c76cc4d",
   "metadata": {},
   "source": [
    "## Matplot lib follow-along"
   ]
  },
  {
   "cell_type": "code",
   "execution_count": null,
   "id": "ff16b544",
   "metadata": {},
   "outputs": [],
   "source": [
    "import matplotlib.pyplot as plt\n",
    "\n",
    "%matplotlib inline\n",
    "\n",
    "x = list(range(0, 10))\n",
    "y = list(range(-10, 0))\n",
    "\n",
    "plt.plot(x, y)"
   ]
  },
  {
   "cell_type": "code",
   "execution_count": null,
   "id": "6ab850dc",
   "metadata": {},
   "outputs": [],
   "source": [
    "a = [0, -100, 25, 67, -323]\n",
    "b = [0,3, 7, 3, 9]\n",
    "plt.plot(a,b)"
   ]
  },
  {
   "cell_type": "code",
   "execution_count": null,
   "id": "311d81ff",
   "metadata": {},
   "outputs": [],
   "source": [
    "plt.axis([-50, 80, 2, 8])\n",
    "plt.plot(a, b)"
   ]
  },
  {
   "cell_type": "code",
   "execution_count": null,
   "id": "3944abef",
   "metadata": {},
   "outputs": [],
   "source": [
    "plt.title(\"Triangle\")\n",
    "plt.xlabel(\"Array A\")\n",
    "plt.ylabel(\"Array B\")\n",
    "plt.axis([-50, 80, 2, 8])\n",
    "plt.plot(a,b)"
   ]
  },
  {
   "cell_type": "code",
   "execution_count": null,
   "id": "b3e0a2d0",
   "metadata": {},
   "outputs": [],
   "source": [
    "plt.title(\"Triangle\")\n",
    "plt.xlabel(\"Array A\")\n",
    "plt.ylabel(\"Array B\")\n",
    "plt.axis([-50, 80, 2, 8])\n",
    "plt.xticks((-40, -20, 0, 20, 40, 60, 80), ('h', 'e', 'l', 'l', 'o','o','o'))\n",
    "plt.plot(a,b)"
   ]
  },
  {
   "cell_type": "code",
   "execution_count": null,
   "id": "cfd777d1",
   "metadata": {},
   "outputs": [],
   "source": [
    "plt.title(\"Triangle\")\n",
    "plt.xlabel(\"Array A\")\n",
    "plt.ylabel(\"Array B\")\n",
    "plt.axis([-50, 80, 2, 8])\n",
    "plt.xticks((-40, -20, 0, 20, 40, 60, 80), ('h', 'e', 'l', 'l', 'o','o','o'))\n",
    "plt.plot(a,b, color = 'red')"
   ]
  },
  {
   "cell_type": "code",
   "execution_count": null,
   "id": "bedc6688",
   "metadata": {},
   "outputs": [],
   "source": [
    "plt.hist(a)"
   ]
  },
  {
   "cell_type": "code",
   "execution_count": null,
   "id": "e3c30974",
   "metadata": {},
   "outputs": [],
   "source": [
    "plt.hist(x)\n",
    "plt.hist(y)"
   ]
  },
  {
   "cell_type": "markdown",
   "id": "0900ffd2-2e8e-4818-a06d-728ad3c76ede",
   "metadata": {},
   "source": [
    "# Dictionaries"
   ]
  },
  {
   "cell_type": "code",
   "execution_count": null,
   "id": "e1c9c591-1b10-4bcf-a2fa-7fdc6aa00a9f",
   "metadata": {
    "tags": []
   },
   "outputs": [],
   "source": [
    "dict_ex = {'george': 24, 'tom': 32}"
   ]
  },
  {
   "cell_type": "code",
   "execution_count": null,
   "id": "bbc40d8e-13eb-49bb-b4f8-08d3165ac7c0",
   "metadata": {
    "tags": []
   },
   "outputs": [],
   "source": [
    "print(dict_ex)"
   ]
  },
  {
   "cell_type": "code",
   "execution_count": null,
   "id": "4d89515a-04ad-4cc1-be34-0771132a69bc",
   "metadata": {
    "tags": []
   },
   "outputs": [],
   "source": [
    "#add a key:value to dictionary\n",
    "dict_ex['jenny'] = 12"
   ]
  },
  {
   "cell_type": "code",
   "execution_count": null,
   "id": "5fcb34d1-2e49-4784-b116-6b2d8c7640bf",
   "metadata": {
    "tags": []
   },
   "outputs": [],
   "source": [
    "print(dict_ex)"
   ]
  },
  {
   "cell_type": "code",
   "execution_count": null,
   "id": "8ff751d7-2964-4ecc-acee-49ccdfb1219d",
   "metadata": {
    "tags": []
   },
   "outputs": [],
   "source": [
    "print(dict_ex['george'])"
   ]
  },
  {
   "cell_type": "code",
   "execution_count": null,
   "id": "4e196b00-527c-41ab-8d04-4ff87c9f2a83",
   "metadata": {
    "tags": []
   },
   "outputs": [],
   "source": [
    "#error if value not present in dictionary\n",
    "print(dict_ex['alice'])"
   ]
  },
  {
   "cell_type": "code",
   "execution_count": null,
   "id": "2053bb3e-cb02-4624-b910-f3709ebf0b8c",
   "metadata": {
    "tags": []
   },
   "outputs": [],
   "source": [
    "#iterate over key:value pairs \n",
    "dict_ex['tom'] = 20"
   ]
  },
  {
   "cell_type": "code",
   "execution_count": null,
   "id": "240df8fa-cfed-4e3c-a2aa-0256cd64b0f9",
   "metadata": {
    "tags": []
   },
   "outputs": [],
   "source": [
    "print(dict_ex)"
   ]
  },
  {
   "cell_type": "markdown",
   "id": "3c78b089-5337-422f-bf9a-ba3738fe5524",
   "metadata": {
    "tags": []
   },
   "source": [
    "# Pandas & CRUD"
   ]
  },
  {
   "cell_type": "code",
   "execution_count": null,
   "id": "be4c2578-8d0b-4bec-84c8-41fd84bef11d",
   "metadata": {
    "tags": []
   },
   "outputs": [],
   "source": [
    "import pandas as pd"
   ]
  },
  {
   "cell_type": "code",
   "execution_count": null,
   "id": "b0d3db8d-6e4e-464c-af63-9235f76d99fc",
   "metadata": {
    "tags": []
   },
   "outputs": [],
   "source": [
    "# create from dictionary\n",
    "tempdict = {'coll':[1,2,3], 'col2':[4,5,6], 'col3':[7,8,9]}"
   ]
  },
  {
   "cell_type": "code",
   "execution_count": null,
   "id": "f986e225-f186-4a73-91cc-3e7497e6d658",
   "metadata": {
    "tags": []
   },
   "outputs": [],
   "source": [
    "dictdf = pd.DataFrame.from_dict(tempdict)"
   ]
  },
  {
   "cell_type": "code",
   "execution_count": null,
   "id": "3391e4dc-aad8-47df-ba2e-6b812be69dee",
   "metadata": {
    "tags": []
   },
   "outputs": [],
   "source": [
    "dictdf.head()"
   ]
  },
  {
   "cell_type": "markdown",
   "id": "ee2b4181-4135-4239-a2fb-6f07297526ad",
   "metadata": {},
   "source": [
    "# if elif else Statements"
   ]
  },
  {
   "cell_type": "code",
   "execution_count": null,
   "id": "d9b6d786-080e-436c-a918-2c5ee9238e1b",
   "metadata": {
    "tags": []
   },
   "outputs": [],
   "source": [
    "name = \"Me\"\n",
    "height_m = 2\n",
    "weight_kg = 110\n",
    "\n",
    "bmi = weight_kg / (height_m ** 2)\n",
    "print(\"bmi: \" + str(bmi))\n",
    "if bmi < 25:\n",
    "    print(name + \" is not overweight\")\n",
    "else:\n",
    "    print(name + \" is overweight\")"
   ]
  },
  {
   "cell_type": "code",
   "execution_count": null,
   "id": "da7ad23f-e99a-406c-a8d1-b9dab78e85fb",
   "metadata": {
    "tags": []
   },
   "outputs": [],
   "source": [
    "inputtxt = input(\"Please enter test string: \")\n",
    "\n",
    "if len(inputtxt) < 6:\n",
    "    print(\"String too short\")\n",
    "    print('Use at least 6 characters')"
   ]
  },
  {
   "cell_type": "code",
   "execution_count": null,
   "id": "f3eb8588-72d6-4b7e-8f1f-12e50f84df31",
   "metadata": {
    "tags": []
   },
   "outputs": [],
   "source": [
    "give_int = input(\"Type and integer: \")\n",
    "int_form = int(give_int)\n",
    "\n",
    "if int_form % 2 == 0: #use modulus equal to zero to determine if numerator is multiple of denominator. divide by 2 to determine if even number\n",
    "    print(\"Even\")\n",
    "else:\n",
    "    print(\"Odd\")\n",
    "# in this case, str will output error"
   ]
  },
  {
   "cell_type": "code",
   "execution_count": null,
   "id": "0647df1b-245e-4697-882b-c4803c4b81d3",
   "metadata": {
    "tags": []
   },
   "outputs": [],
   "source": [
    "# if/then for more than 3 cases - ex determine traingle shape (scalene, isoceles, equilateral)\n",
    "# note this doesn't include test of whether inputs will actually form a triangle, would need angle info\n",
    "a = int(input('a length: ')) #this format converts input function to integer with single line\n",
    "b = int(input('b length: '))\n",
    "c = int(input('c length: '))\n",
    "\n",
    "if a != b and b != c and a != c:\n",
    "    print('Scalene Triangle')\n",
    "elif a == b and b == c:\n",
    "    print('Equilateral Traingle')\n",
    "else:\n",
    "    print('Isoceles Traingle') #uses process of elimination rather than code for 2 of 3 sides having same length"
   ]
  },
  {
   "cell_type": "markdown",
   "id": "ef2fd283-f2d8-4a42-9f3b-c981413847f6",
   "metadata": {
    "tags": []
   },
   "source": [
    "## for Loops"
   ]
  },
  {
   "cell_type": "code",
   "execution_count": 13,
   "id": "8d8b73a2-7aef-47ca-b328-3f0f5a65c06e",
   "metadata": {
    "tags": []
   },
   "outputs": [],
   "source": [
    "list1 = ['fruit', 'veggie', 'bean']"
   ]
  },
  {
   "cell_type": "code",
   "execution_count": null,
   "id": "326b5728-6e72-47f5-a906-8390e500a714",
   "metadata": {
    "tags": []
   },
   "outputs": [],
   "source": [
    "# long way:\n",
    "print(list1[0])\n",
    "print(list1[1])\n",
    "print(list1[2])"
   ]
  },
  {
   "cell_type": "code",
   "execution_count": 14,
   "id": "83fe1fb3-c920-48a9-b61f-a5accd0c630b",
   "metadata": {
    "tags": []
   },
   "outputs": [
    {
     "name": "stdout",
     "output_type": "stream",
     "text": [
      "fruit\n",
      "veggie\n",
      "bean\n"
     ]
    }
   ],
   "source": [
    "# for way:\n",
    "for element in list1:\n",
    "    print(element)"
   ]
  },
  {
   "cell_type": "code",
   "execution_count": null,
   "id": "7f07b171-aeff-446d-831a-2eb39d4021c7",
   "metadata": {
    "tags": []
   },
   "outputs": [],
   "source": [
    "# ex. find sum of list\n",
    "b = [20, 10, 5]\n",
    "total = 0\n",
    "\n",
    "for e in b:\n",
    "    total = total + e\n",
    "print(total)"
   ]
  },
  {
   "cell_type": "code",
   "execution_count": null,
   "id": "072bced3-2bf5-43e8-bfa2-069eb6370e34",
   "metadata": {
    "tags": []
   },
   "outputs": [],
   "source": [
    "total2 = 0\n",
    "for i in range(1,10):\n",
    "    total2 += i\n",
    "print(total2)"
   ]
  },
  {
   "cell_type": "code",
   "execution_count": null,
   "id": "72a64582-4ee7-49ca-9890-ef22a43f019a",
   "metadata": {
    "tags": []
   },
   "outputs": [],
   "source": [
    "# add all multiple of 3 in a range\n",
    "total3 = 0\n",
    "for r in range(1, 8):\n",
    "    if r % 3 == 0:\n",
    "        total3 += r\n",
    "print(total3)"
   ]
  },
  {
   "cell_type": "code",
   "execution_count": null,
   "id": "16b14033-8723-40f4-abf1-a7093f18e026",
   "metadata": {
    "tags": []
   },
   "outputs": [],
   "source": [
    "# compute all multiples of 3 & 5 that are less than 100\n",
    "list35 = []\n",
    "for number in range(1, 100): #limit range to 100 (1-99) elements to discard need for if statements to determine if the multiple is <100\n",
    "    if number % 3 == 0:\n",
    "        list35.append(number)\n",
    "    elif number % 5 == 0:\n",
    "        list35.append(number)\n",
    "print(list35)"
   ]
  },
  {
   "cell_type": "markdown",
   "id": "5a28672a-887e-4675-b53f-97313a4d6ad5",
   "metadata": {},
   "source": [
    "## while loops"
   ]
  },
  {
   "cell_type": "code",
   "execution_count": null,
   "id": "6859d1f8-d3ce-413f-96ef-0a8060029fed",
   "metadata": {
    "tags": []
   },
   "outputs": [],
   "source": [
    "j = 0\n",
    "\n",
    "while j <= 5:\n",
    "    print(j)\n",
    "    j += 1\n",
    "print('While loop condition met, moved to next line of code')"
   ]
  },
  {
   "cell_type": "code",
   "execution_count": null,
   "id": "06979e12-dedf-4d00-8972-d28260bae557",
   "metadata": {
    "tags": []
   },
   "outputs": [],
   "source": [
    "# apply loop to only certain elements in a list (sum positive numbers of list in this example)\n",
    "\n",
    "given_list = [5,4,4,3,1,-2,-3,-5]\n",
    "\n",
    "total3 = 0\n",
    "i = 0\n",
    "\n",
    "while i < len(given_list) and given_list[i] > 0: \n",
    "    total3 += given_list[i]\n",
    "    i += 1\n",
    "    # means first check the current element in given_list starting at index location [i] (starting at zero). \n",
    "    #this makes it so if the element at index location i is >0 then it will be added to total3. after each\n",
    "    #run throught the loop i will be increased by 1 to search the next index location of given_list\n",
    "    #\n",
    "print(total3)\n"
   ]
  },
  {
   "cell_type": "code",
   "execution_count": null,
   "id": "b4c080f9-d62a-4581-a528-984194c0a103",
   "metadata": {
    "tags": []
   },
   "outputs": [],
   "source": [
    "# break out of loop when certain condition met (sum of positive numbers in list)\n",
    "\n",
    "given_list2 = [5,4,4,3,1,-2,-3,-5]\n",
    "total4 = 0\n",
    "\n",
    "for element in given_list2:\n",
    "    if element <= 0:\n",
    "        break\n",
    "    total4 += element\n",
    "print(total4)"
   ]
  },
  {
   "cell_type": "code",
   "execution_count": null,
   "id": "3ce61ee4-bfd7-41b6-a959-dd8e81bf911c",
   "metadata": {
    "tags": []
   },
   "outputs": [],
   "source": [
    "given_list2 = [5,4,4,3,1,-2,-3,-5]\n",
    "total5 = 0\n",
    "i = 0\n",
    "\n",
    "while True:\n",
    "    total5 += given_list2[i]\n",
    "    i += 1\n",
    "    if given_list2[i] <= 0:\n",
    "        break\n",
    "print(total5)"
   ]
  },
  {
   "cell_type": "markdown",
   "id": "1505cc65-7057-4bba-bc1a-4582a3a88f7b",
   "metadata": {
    "tags": []
   },
   "source": [
    "## Random number generation"
   ]
  },
  {
   "cell_type": "code",
   "execution_count": null,
   "id": "443d18c3-3c9d-4050-afcf-fe2b4b8204d1",
   "metadata": {
    "tags": []
   },
   "outputs": [],
   "source": [
    "import random"
   ]
  },
  {
   "cell_type": "code",
   "execution_count": null,
   "id": "94a44a8c-5ba8-4035-b06e-72833e77c6a5",
   "metadata": {
    "tags": []
   },
   "outputs": [],
   "source": [
    "# display 10 random #'s from zero to one\n",
    "# will generate new random numbers each time code is run\n",
    "for i in range(10):\n",
    "    print(random.random())"
   ]
  },
  {
   "cell_type": "markdown",
   "id": "a2c9ccfb-464b-448b-857c-3fc466d1ad80",
   "metadata": {},
   "source": [
    "## Random Walks"
   ]
  },
  {
   "cell_type": "code",
   "execution_count": 1,
   "id": "58caa26b-fe53-4d3c-a764-0352e88276e7",
   "metadata": {
    "tags": []
   },
   "outputs": [],
   "source": [
    "import random"
   ]
  },
  {
   "cell_type": "code",
   "execution_count": 2,
   "id": "75f81448-f994-4d3e-b9a2-71011b4f44d8",
   "metadata": {
    "tags": []
   },
   "outputs": [],
   "source": [
    "#long form of function: random walk in a grid\n",
    "def random_walk(n): # arbituarily chose n as functions local variable \n",
    "    \"\"\"Return coordinates after 'n' block random walks in a grid\"\"\" #docstring to explain what function does\n",
    "    x = 0 #starting coords\n",
    "    y = 0 #starting coords\n",
    "    for i in range(n):\n",
    "        step = random.choice(['N', 'S','E','W'])\n",
    "        if step == 'N':\n",
    "            y = y + 1\n",
    "        elif step == 'S':\n",
    "            y = y - 1\n",
    "        elif step == \"E\":\n",
    "            x = x + 1\n",
    "        elif step == 'W':\n",
    "            x = x - 1\n",
    "    return (x, y) #coordinates returned as a tuple"
   ]
  },
  {
   "cell_type": "code",
   "execution_count": 4,
   "id": "1d41982d-74d9-4658-9e3d-052043cbd465",
   "metadata": {
    "tags": []
   },
   "outputs": [
    {
     "name": "stdout",
     "output_type": "stream",
     "text": [
      "(4, 2) distance from home =  6\n",
      "(1, -1) distance from home =  2\n",
      "(2, -2) distance from home =  4\n",
      "(-1, -1) distance from home =  2\n",
      "(1, 1) distance from home =  2\n",
      "(2, 2) distance from home =  4\n",
      "(1, 3) distance from home =  4\n",
      "(-2, -2) distance from home =  4\n",
      "(-2, 0) distance from home =  2\n",
      "(0, -2) distance from home =  2\n",
      "(-1, 3) distance from home =  4\n",
      "(-4, 2) distance from home =  6\n",
      "(-5, 3) distance from home =  8\n",
      "(-2, -2) distance from home =  4\n",
      "(-3, 3) distance from home =  6\n",
      "(-1, 1) distance from home =  2\n",
      "(-4, -2) distance from home =  6\n",
      "(-1, 3) distance from home =  4\n",
      "(0, -2) distance from home =  2\n",
      "(-2, 2) distance from home =  4\n",
      "(4, 2) distance from home =  6\n",
      "(0, 2) distance from home =  2\n",
      "(0, -2) distance from home =  2\n",
      "(-2, 0) distance from home =  2\n",
      "(2, 2) distance from home =  4\n"
     ]
    }
   ],
   "source": [
    "# test the function. 25 random walks, each 10 grid lengths long\n",
    "for i in range(25):\n",
    "    walk = random_walk(10) # call the function \n",
    "    print(walk, \"distance from home = \", abs(walk[0]) + abs(walk[1]))\n",
    "    # print coordinates and distance from home (absolute values because the +/- are for direction, not distance)"
   ]
  },
  {
   "cell_type": "code",
   "execution_count": 6,
   "id": "ed00b163-32df-4db4-a35c-2f2767471778",
   "metadata": {
    "tags": []
   },
   "outputs": [],
   "source": [
    "# Short form of function: random walk\n",
    "\n",
    "def random_walk_2(n):\n",
    "    \"\"\"Return coordinates after 'n' block random walks in a grid\"\"\"\n",
    "    x, y = 0, 0 #assign x & y in single line\n",
    "    for i in range(n):\n",
    "        (dx, dy) = random.choice([(0, 1), (0, -1), (1, 0), (-1, 0)]) \n",
    "        # dx & dy arbituarily chosen as varibles used to update x & y during walks\n",
    "        # North, S, E, & W represnted by the tuples in the list in random.choice. +/- represent direction\n",
    "        x += dx\n",
    "        y += dy\n",
    "    return (x, y)"
   ]
  },
  {
   "cell_type": "code",
   "execution_count": 7,
   "id": "175f41e4-97f7-4223-abd2-45e643c888a7",
   "metadata": {
    "tags": []
   },
   "outputs": [
    {
     "name": "stdout",
     "output_type": "stream",
     "text": [
      "(-2, -2) distance from home =  4\n",
      "(3, 1) distance from home =  4\n",
      "(-4, 4) distance from home =  8\n",
      "(2, 2) distance from home =  4\n",
      "(-1, 3) distance from home =  4\n",
      "(0, 2) distance from home =  2\n",
      "(0, 2) distance from home =  2\n",
      "(1, 1) distance from home =  2\n",
      "(3, -1) distance from home =  4\n",
      "(1, -1) distance from home =  2\n",
      "(2, -2) distance from home =  4\n",
      "(-2, -2) distance from home =  4\n",
      "(-3, 1) distance from home =  4\n",
      "(-1, 1) distance from home =  2\n",
      "(-3, -1) distance from home =  4\n",
      "(-1, -1) distance from home =  2\n",
      "(3, 1) distance from home =  4\n",
      "(0, 2) distance from home =  2\n",
      "(-1, -3) distance from home =  4\n",
      "(3, 1) distance from home =  4\n",
      "(-2, 2) distance from home =  4\n",
      "(4, 2) distance from home =  6\n",
      "(-1, -1) distance from home =  2\n",
      "(1, -3) distance from home =  4\n",
      "(4, 0) distance from home =  4\n"
     ]
    }
   ],
   "source": [
    "# test the function. 25 random walks, each 10 grid lengths long\n",
    "for i in range(25):\n",
    "    walk = random_walk_2(10) # call the function \n",
    "    print(walk, \"distance from home = \", abs(walk[0]) + abs(walk[1]))"
   ]
  },
  {
   "cell_type": "code",
   "execution_count": 10,
   "id": "c275923a-9b53-4314-a6ca-b86aa6d54dd1",
   "metadata": {
    "tags": []
   },
   "outputs": [
    {
     "name": "stdout",
     "output_type": "stream",
     "text": [
      "walk size =  1  / % of no transport =  100.0\n",
      "walk size =  2  / % of no transport =  100.0\n",
      "walk size =  3  / % of no transport =  100.0\n",
      "walk size =  4  / % of no transport =  100.0\n",
      "walk size =  5  / % of no transport =  88.0\n",
      "walk size =  6  / % of no transport =  93.73\n",
      "walk size =  7  / % of no transport =  76.825\n",
      "walk size =  8  / % of no transport =  86.72999999999999\n",
      "walk size =  9  / % of no transport =  67.465\n",
      "walk size =  10  / % of no transport =  79.35\n",
      "walk size =  11  / % of no transport =  59.62499999999999\n",
      "walk size =  12  / % of no transport =  73.21\n",
      "walk size =  13  / % of no transport =  54.245\n",
      "walk size =  14  / % of no transport =  67.795\n",
      "walk size =  15  / % of no transport =  48.230000000000004\n",
      "walk size =  16  / % of no transport =  62.31\n",
      "walk size =  17  / % of no transport =  44.84\n",
      "walk size =  18  / % of no transport =  58.245000000000005\n",
      "walk size =  19  / % of no transport =  41.795\n",
      "walk size =  20  / % of no transport =  54.31\n",
      "walk size =  21  / % of no transport =  38.45\n",
      "walk size =  22  / % of no transport =  50.74999999999999\n",
      "walk size =  23  / % of no transport =  35.135\n",
      "walk size =  24  / % of no transport =  48.085\n",
      "walk size =  25  / % of no transport =  33.215\n",
      "walk size =  26  / % of no transport =  45.035\n",
      "walk size =  27  / % of no transport =  31.045\n",
      "walk size =  28  / % of no transport =  43.16\n",
      "walk size =  29  / % of no transport =  29.395\n",
      "walk size =  30  / % of no transport =  41.099999999999994\n"
     ]
    }
   ],
   "source": [
    "# longest random walk possible so that on avg you end up <4 lengths from origin\n",
    "# Use Monte Carlo method\n",
    "\n",
    "number_of_walks = 20000\n",
    "\n",
    "for walk_length in range(1, 31):\n",
    "    no_transport = 0 # Number of walks that end 4 or fewer blocks from origin\n",
    "    for i in range(number_of_walks): #begin making the Monte Carlo loop\n",
    "        (x, y) = random_walk_2(walk_length)\n",
    "        distance = abs(x) + abs(y) # calculate distance from origin\n",
    "        if distance <= 4:\n",
    "            no_transport += 1\n",
    "    no_transport_percentage = float(no_transport) / number_of_walks\n",
    "    print(\"walk size = \", walk_length, \" / % of no transport = \", 100*no_transport_percentage)"
   ]
  },
  {
   "cell_type": "markdown",
   "id": "16234b3d-10b6-48d3-9283-05f62ec22082",
   "metadata": {},
   "source": [
    "## Playing around"
   ]
  },
  {
   "cell_type": "code",
   "execution_count": 11,
   "id": "a6f2e248-8e6c-4136-aaea-4b62c5d39ed6",
   "metadata": {
    "tags": []
   },
   "outputs": [],
   "source": [
    "import matplotlib.pyplot as plt"
   ]
  },
  {
   "cell_type": "code",
   "execution_count": 15,
   "id": "d9cf359d-68f7-4260-b448-d0c6b17eba77",
   "metadata": {
    "tags": []
   },
   "outputs": [
    {
     "name": "stdout",
     "output_type": "stream",
     "text": [
      "Help on function scatter in module matplotlib.pyplot:\n",
      "\n",
      "scatter(x, y, s=None, c=None, marker=None, cmap=None, norm=None, vmin=None, vmax=None, alpha=None, linewidths=None, *, edgecolors=None, plotnonfinite=False, data=None, **kwargs)\n",
      "    A scatter plot of *y* vs. *x* with varying marker size and/or color.\n",
      "    \n",
      "    Parameters\n",
      "    ----------\n",
      "    x, y : float or array-like, shape (n, )\n",
      "        The data positions.\n",
      "    \n",
      "    s : float or array-like, shape (n, ), optional\n",
      "        The marker size in points**2 (typographic points are 1/72 in.).\n",
      "        Default is ``rcParams['lines.markersize'] ** 2``.\n",
      "    \n",
      "    c : array-like or list of colors or color, optional\n",
      "        The marker colors. Possible values:\n",
      "    \n",
      "        - A scalar or sequence of n numbers to be mapped to colors using\n",
      "          *cmap* and *norm*.\n",
      "        - A 2D array in which the rows are RGB or RGBA.\n",
      "        - A sequence of colors of length n.\n",
      "        - A single color format string.\n",
      "    \n",
      "        Note that *c* should not be a single numeric RGB or RGBA sequence\n",
      "        because that is indistinguishable from an array of values to be\n",
      "        colormapped. If you want to specify the same RGB or RGBA value for\n",
      "        all points, use a 2D array with a single row.  Otherwise,\n",
      "        value-matching will have precedence in case of a size matching with\n",
      "        *x* and *y*.\n",
      "    \n",
      "        If you wish to specify a single color for all points\n",
      "        prefer the *color* keyword argument.\n",
      "    \n",
      "        Defaults to `None`. In that case the marker color is determined\n",
      "        by the value of *color*, *facecolor* or *facecolors*. In case\n",
      "        those are not specified or `None`, the marker color is determined\n",
      "        by the next color of the ``Axes``' current \"shape and fill\" color\n",
      "        cycle. This cycle defaults to :rc:`axes.prop_cycle`.\n",
      "    \n",
      "    marker : `~.markers.MarkerStyle`, default: :rc:`scatter.marker`\n",
      "        The marker style. *marker* can be either an instance of the class\n",
      "        or the text shorthand for a particular marker.\n",
      "        See :mod:`matplotlib.markers` for more information about marker\n",
      "        styles.\n",
      "    \n",
      "    cmap : str or `~matplotlib.colors.Colormap`, default: :rc:`image.cmap`\n",
      "        The Colormap instance or registered colormap name used to map scalar data\n",
      "        to colors.\n",
      "    \n",
      "        This parameter is ignored if *c* is RGB(A).\n",
      "    \n",
      "    norm : str or `~matplotlib.colors.Normalize`, optional\n",
      "        The normalization method used to scale scalar data to the [0, 1] range\n",
      "        before mapping to colors using *cmap*. By default, a linear scaling is\n",
      "        used, mapping the lowest value to 0 and the highest to 1.\n",
      "    \n",
      "        If given, this can be one of the following:\n",
      "    \n",
      "        - An instance of `.Normalize` or one of its subclasses\n",
      "          (see :doc:`/tutorials/colors/colormapnorms`).\n",
      "        - A scale name, i.e. one of \"linear\", \"log\", \"symlog\", \"logit\", etc.  For a\n",
      "          list of available scales, call `matplotlib.scale.get_scale_names()`.\n",
      "          In that case, a suitable `.Normalize` subclass is dynamically generated\n",
      "          and instantiated.\n",
      "    \n",
      "        This parameter is ignored if *c* is RGB(A).\n",
      "    \n",
      "    vmin, vmax : float, optional\n",
      "        When using scalar data and no explicit *norm*, *vmin* and *vmax* define\n",
      "        the data range that the colormap covers. By default, the colormap covers\n",
      "        the complete value range of the supplied data. It is an error to use\n",
      "        *vmin*/*vmax* when a *norm* instance is given (but using a `str` *norm*\n",
      "        name together with *vmin*/*vmax* is acceptable).\n",
      "    \n",
      "        This parameter is ignored if *c* is RGB(A).\n",
      "    \n",
      "    alpha : float, default: None\n",
      "        The alpha blending value, between 0 (transparent) and 1 (opaque).\n",
      "    \n",
      "    linewidths : float or array-like, default: :rc:`lines.linewidth`\n",
      "        The linewidth of the marker edges. Note: The default *edgecolors*\n",
      "        is 'face'. You may want to change this as well.\n",
      "    \n",
      "    edgecolors : {'face', 'none', *None*} or color or sequence of color, default: :rc:`scatter.edgecolors`\n",
      "        The edge color of the marker. Possible values:\n",
      "    \n",
      "        - 'face': The edge color will always be the same as the face color.\n",
      "        - 'none': No patch boundary will be drawn.\n",
      "        - A color or sequence of colors.\n",
      "    \n",
      "        For non-filled markers, *edgecolors* is ignored. Instead, the color\n",
      "        is determined like with 'face', i.e. from *c*, *colors*, or\n",
      "        *facecolors*.\n",
      "    \n",
      "    plotnonfinite : bool, default: False\n",
      "        Whether to plot points with nonfinite *c* (i.e. ``inf``, ``-inf``\n",
      "        or ``nan``). If ``True`` the points are drawn with the *bad*\n",
      "        colormap color (see `.Colormap.set_bad`).\n",
      "    \n",
      "    Returns\n",
      "    -------\n",
      "    `~matplotlib.collections.PathCollection`\n",
      "    \n",
      "    Other Parameters\n",
      "    ----------------\n",
      "    data : indexable object, optional\n",
      "        If given, the following parameters also accept a string ``s``, which is\n",
      "        interpreted as ``data[s]`` (unless this raises an exception):\n",
      "    \n",
      "        *x*, *y*, *s*, *linewidths*, *edgecolors*, *c*, *facecolor*, *facecolors*, *color*\n",
      "    **kwargs : `~matplotlib.collections.Collection` properties\n",
      "    \n",
      "    See Also\n",
      "    --------\n",
      "    plot : To plot scatter plots when markers are identical in size and\n",
      "        color.\n",
      "    \n",
      "    Notes\n",
      "    -----\n",
      "    * The `.plot` function will be faster for scatterplots where markers\n",
      "      don't vary in size or color.\n",
      "    \n",
      "    * Any or all of *x*, *y*, *s*, and *c* may be masked arrays, in which\n",
      "      case all masks will be combined and only unmasked points will be\n",
      "      plotted.\n",
      "    \n",
      "    * Fundamentally, scatter works with 1D arrays; *x*, *y*, *s*, and *c*\n",
      "      may be input as N-D arrays, but within scatter they will be\n",
      "      flattened. The exception is *c*, which will be flattened only if its\n",
      "      size matches the size of *x* and *y*.\n",
      "\n"
     ]
    }
   ],
   "source": [
    "help(plt.scatter)"
   ]
  }
 ],
 "metadata": {
  "kernelspec": {
   "display_name": "Python 3 (ipykernel)",
   "language": "python",
   "name": "python3"
  },
  "language_info": {
   "codemirror_mode": {
    "name": "ipython",
    "version": 3
   },
   "file_extension": ".py",
   "mimetype": "text/x-python",
   "name": "python",
   "nbconvert_exporter": "python",
   "pygments_lexer": "ipython3",
   "version": "3.11.5"
  }
 },
 "nbformat": 4,
 "nbformat_minor": 5
}

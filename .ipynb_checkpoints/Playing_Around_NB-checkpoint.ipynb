{
 "cells": [
  {
   "cell_type": "code",
   "execution_count": null,
   "id": "237d614f",
   "metadata": {},
   "outputs": [],
   "source": [
    "#import numpy as np"
   ]
  },
  {
   "cell_type": "markdown",
   "id": "53076880",
   "metadata": {
    "tags": []
   },
   "source": [
    "# Playing with functions & local vs global variables"
   ]
  },
  {
   "cell_type": "code",
   "execution_count": null,
   "id": "6c08b517",
   "metadata": {},
   "outputs": [],
   "source": [
    "#"
   ]
  },
  {
   "cell_type": "code",
   "execution_count": null,
   "id": "02be2ab8",
   "metadata": {},
   "outputs": [],
   "source": [
    "#name = 'me'\n",
    "#name = input(\"name: \")"
   ]
  },
  {
   "cell_type": "code",
   "execution_count": null,
   "id": "a1b60191",
   "metadata": {},
   "outputs": [],
   "source": [
    "#height_f = 5.8\n",
    "#height_f = int(input(\"Height feet: \")) + (int(input(\"Height inches: \"))/12)"
   ]
  },
  {
   "cell_type": "code",
   "execution_count": null,
   "id": "001ec350",
   "metadata": {},
   "outputs": [],
   "source": [
    "#weight_lb = 160\n",
    "#weight_lb = int(input('Weight: '))"
   ]
  },
  {
   "cell_type": "code",
   "execution_count": null,
   "id": "b7f1a58f",
   "metadata": {},
   "outputs": [],
   "source": [
    "#def bmi_calc(name = input(\"Name: \"), height_f = (int(input(\"Height Ft: \"))*12) + int(input('Height In: ')), weight_lb = int(input(\"Weight lb: \"))):\n",
    "    bmi = (weight_lb / (height_f ** 2)) * 703\n",
    "    print('bmi: ')\n",
    "    print(bmi)\n",
    "    if bmi < 25:\n",
    "        return name + ' is not overweight'\n",
    "    else:\n",
    "        return name + ' is overweight'"
   ]
  },
  {
   "cell_type": "code",
   "execution_count": null,
   "id": "eb1ccb73",
   "metadata": {},
   "outputs": [],
   "source": [
    "result1 = bmi_calc()"
   ]
  },
  {
   "cell_type": "code",
   "execution_count": null,
   "id": "7d1ddf79",
   "metadata": {
    "scrolled": true
   },
   "outputs": [],
   "source": [
    "print(result1)"
   ]
  },
  {
   "cell_type": "code",
   "execution_count": null,
   "id": "7b897141",
   "metadata": {},
   "outputs": [],
   "source": [
    "#x = 'awesome'"
   ]
  },
  {
   "cell_type": "code",
   "execution_count": null,
   "id": "a896dce7",
   "metadata": {},
   "outputs": [],
   "source": [
    "#def myfunc():\n",
    "#    x = 'fantastic'\n",
    "#    print('Python is ' + x)"
   ]
  },
  {
   "cell_type": "code",
   "execution_count": null,
   "id": "c98d128b",
   "metadata": {},
   "outputs": [],
   "source": [
    "#myfunc()"
   ]
  },
  {
   "cell_type": "code",
   "execution_count": null,
   "id": "4144d419",
   "metadata": {},
   "outputs": [],
   "source": [
    "#print('Python is ' + x)"
   ]
  },
  {
   "cell_type": "code",
   "execution_count": null,
   "id": "a5bb617e",
   "metadata": {},
   "outputs": [],
   "source": [
    "#print('text',3,'text2',5+6)"
   ]
  },
  {
   "cell_type": "code",
   "execution_count": null,
   "id": "b29c09ce",
   "metadata": {},
   "outputs": [],
   "source": [
    "#w = int(input())"
   ]
  },
  {
   "cell_type": "code",
   "execution_count": null,
   "id": "1a8aefbe",
   "metadata": {},
   "outputs": [],
   "source": [
    "#def funct1(w):\n",
    "#    y = w + 1\n",
    "#    return y"
   ]
  },
  {
   "cell_type": "code",
   "execution_count": null,
   "id": "7df1693d",
   "metadata": {},
   "outputs": [],
   "source": [
    "#r = w + 2"
   ]
  },
  {
   "cell_type": "code",
   "execution_count": null,
   "id": "cb1e14ae",
   "metadata": {},
   "outputs": [],
   "source": [
    "#print(r)"
   ]
  },
  {
   "cell_type": "code",
   "execution_count": null,
   "id": "095b6c56",
   "metadata": {},
   "outputs": [],
   "source": [
    "#print(funct1(16))"
   ]
  },
  {
   "cell_type": "code",
   "execution_count": null,
   "id": "df6ca6e6",
   "metadata": {},
   "outputs": [],
   "source": [
    "#name = input(\"name: \")"
   ]
  },
  {
   "cell_type": "code",
   "execution_count": null,
   "id": "fc43b1f1",
   "metadata": {},
   "outputs": [],
   "source": [
    "#height_in = (int(input(\"Height feet: \"))*12) + int(input(\"Height inches: \"))"
   ]
  },
  {
   "cell_type": "code",
   "execution_count": null,
   "id": "2c8473e4",
   "metadata": {},
   "outputs": [],
   "source": [
    "#weight_lb = int(input('Weight: '))"
   ]
  },
  {
   "cell_type": "code",
   "execution_count": null,
   "id": "4e4245a1",
   "metadata": {},
   "outputs": [],
   "source": [
    "#def bmi_calc(name = name, height_in = height_in, weight_lb = weight_lb):\n",
    " #   bmi = (weight_lb / (height_in ** 2)) * 703\n",
    "  #  print('bmi: ')\n",
    "   # print(bmi)\n",
    "    #if bmi < 25:\n",
    "     #   return name + ' is not overweight'\n",
    "    #else:\n",
    "     #   return name + ' is overweight'"
   ]
  },
  {
   "cell_type": "code",
   "execution_count": null,
   "id": "11f94012",
   "metadata": {},
   "outputs": [],
   "source": [
    "#result1 = bmi_calc()"
   ]
  },
  {
   "cell_type": "code",
   "execution_count": null,
   "id": "dce818fc",
   "metadata": {},
   "outputs": [],
   "source": [
    "#print(result1)"
   ]
  },
  {
   "cell_type": "code",
   "execution_count": null,
   "id": "f32cc011",
   "metadata": {},
   "outputs": [],
   "source": [
    "#name = input(\"name: \")"
   ]
  },
  {
   "cell_type": "code",
   "execution_count": null,
   "id": "40fd583a",
   "metadata": {},
   "outputs": [],
   "source": [
    "#height_in = (int(input(\"Height feet: \"))*12) + int(input(\"Height inches: \"))"
   ]
  },
  {
   "cell_type": "code",
   "execution_count": null,
   "id": "9cc13c60",
   "metadata": {},
   "outputs": [],
   "source": [
    "#weight_lb = int(input('Weight: '))"
   ]
  },
  {
   "cell_type": "code",
   "execution_count": null,
   "id": "0c5f5a01",
   "metadata": {},
   "outputs": [],
   "source": [
    "#def bmi_calc(name, height_in, weight_lb):\n",
    " #   '''Calculate BMI in imperial units'''\n",
    "  #  bmi = (weight_lb / (height_in ** 2)) * 703\n",
    "   # print('bmi: ')\n",
    "    #print(bmi)\n",
    "    #return bmi\n",
    "    #if bmi < 25:\n",
    "     #   return name + ' is not overweight'\n",
    "    #else:\n",
    "     #   return name + ' is overweight'"
   ]
  },
  {
   "cell_type": "code",
   "execution_count": null,
   "id": "3c7b660f",
   "metadata": {},
   "outputs": [],
   "source": [
    "#print(bmi_calc)"
   ]
  },
  {
   "cell_type": "code",
   "execution_count": null,
   "id": "68537033",
   "metadata": {},
   "outputs": [],
   "source": [
    "#result1 = bmi_calc()"
   ]
  },
  {
   "cell_type": "code",
   "execution_count": null,
   "id": "d364600c",
   "metadata": {},
   "outputs": [],
   "source": [
    "print(result1)"
   ]
  },
  {
   "cell_type": "markdown",
   "id": "9c76cc4d",
   "metadata": {},
   "source": [
    "## Matplot lib follow-along"
   ]
  },
  {
   "cell_type": "code",
   "execution_count": null,
   "id": "ff16b544",
   "metadata": {},
   "outputs": [],
   "source": [
    "import matplotlib.pyplot as plt\n",
    "\n",
    "%matplotlib inline\n",
    "\n",
    "x = list(range(0, 10))\n",
    "y = list(range(-10, 0))\n",
    "\n",
    "plt.plot(x, y)"
   ]
  },
  {
   "cell_type": "code",
   "execution_count": null,
   "id": "6ab850dc",
   "metadata": {},
   "outputs": [],
   "source": [
    "a = [0, -100, 25, 67, -323]\n",
    "b = [0,3, 7, 3, 9]\n",
    "plt.plot(a,b)"
   ]
  },
  {
   "cell_type": "code",
   "execution_count": null,
   "id": "311d81ff",
   "metadata": {},
   "outputs": [],
   "source": [
    "plt.axis([-50, 80, 2, 8])\n",
    "plt.plot(a, b)"
   ]
  },
  {
   "cell_type": "code",
   "execution_count": null,
   "id": "3944abef",
   "metadata": {},
   "outputs": [],
   "source": [
    "plt.title(\"Triangle\")\n",
    "plt.xlabel(\"Array A\")\n",
    "plt.ylabel(\"Array B\")\n",
    "plt.axis([-50, 80, 2, 8])\n",
    "plt.plot(a,b)"
   ]
  },
  {
   "cell_type": "code",
   "execution_count": null,
   "id": "b3e0a2d0",
   "metadata": {},
   "outputs": [],
   "source": [
    "plt.title(\"Triangle\")\n",
    "plt.xlabel(\"Array A\")\n",
    "plt.ylabel(\"Array B\")\n",
    "plt.axis([-50, 80, 2, 8])\n",
    "plt.xticks((-40, -20, 0, 20, 40, 60, 80), ('h', 'e', 'l', 'l', 'o','o','o'))\n",
    "plt.plot(a,b)"
   ]
  },
  {
   "cell_type": "code",
   "execution_count": null,
   "id": "cfd777d1",
   "metadata": {},
   "outputs": [],
   "source": [
    "plt.title(\"Triangle\")\n",
    "plt.xlabel(\"Array A\")\n",
    "plt.ylabel(\"Array B\")\n",
    "plt.axis([-50, 80, 2, 8])\n",
    "plt.xticks((-40, -20, 0, 20, 40, 60, 80), ('h', 'e', 'l', 'l', 'o','o','o'))\n",
    "plt.plot(a,b, color = 'red')"
   ]
  },
  {
   "cell_type": "code",
   "execution_count": null,
   "id": "bedc6688",
   "metadata": {},
   "outputs": [],
   "source": [
    "plt.hist(a)"
   ]
  },
  {
   "cell_type": "code",
   "execution_count": null,
   "id": "e3c30974",
   "metadata": {},
   "outputs": [],
   "source": [
    "plt.hist(x)\n",
    "plt.hist(y)"
   ]
  },
  {
   "cell_type": "markdown",
   "id": "0900ffd2-2e8e-4818-a06d-728ad3c76ede",
   "metadata": {},
   "source": [
    "# Dictionaries"
   ]
  },
  {
   "cell_type": "code",
   "execution_count": null,
   "id": "e1c9c591-1b10-4bcf-a2fa-7fdc6aa00a9f",
   "metadata": {
    "tags": []
   },
   "outputs": [],
   "source": [
    "dict_ex = {'george': 24, 'tom': 32}"
   ]
  },
  {
   "cell_type": "code",
   "execution_count": null,
   "id": "bbc40d8e-13eb-49bb-b4f8-08d3165ac7c0",
   "metadata": {
    "tags": []
   },
   "outputs": [],
   "source": [
    "print(dict_ex)"
   ]
  },
  {
   "cell_type": "code",
   "execution_count": null,
   "id": "4d89515a-04ad-4cc1-be34-0771132a69bc",
   "metadata": {
    "tags": []
   },
   "outputs": [],
   "source": [
    "#add a key:value to dictionary\n",
    "dict_ex['jenny'] = 12"
   ]
  },
  {
   "cell_type": "code",
   "execution_count": null,
   "id": "5fcb34d1-2e49-4784-b116-6b2d8c7640bf",
   "metadata": {
    "tags": []
   },
   "outputs": [],
   "source": [
    "print(dict_ex)"
   ]
  },
  {
   "cell_type": "code",
   "execution_count": null,
   "id": "8ff751d7-2964-4ecc-acee-49ccdfb1219d",
   "metadata": {
    "tags": []
   },
   "outputs": [],
   "source": [
    "print(dict_ex['george'])"
   ]
  },
  {
   "cell_type": "code",
   "execution_count": null,
   "id": "4e196b00-527c-41ab-8d04-4ff87c9f2a83",
   "metadata": {
    "tags": []
   },
   "outputs": [],
   "source": [
    "#error if value not present in dictionary\n",
    "print(dict_ex['alice'])"
   ]
  },
  {
   "cell_type": "code",
   "execution_count": null,
   "id": "2053bb3e-cb02-4624-b910-f3709ebf0b8c",
   "metadata": {
    "tags": []
   },
   "outputs": [],
   "source": [
    "#iterate over key:value pairs \n",
    "dict_ex['tom'] = 20"
   ]
  },
  {
   "cell_type": "code",
   "execution_count": null,
   "id": "240df8fa-cfed-4e3c-a2aa-0256cd64b0f9",
   "metadata": {
    "tags": []
   },
   "outputs": [],
   "source": [
    "print(dict_ex)"
   ]
  },
  {
   "cell_type": "markdown",
   "id": "3c78b089-5337-422f-bf9a-ba3738fe5524",
   "metadata": {
    "tags": []
   },
   "source": [
    "# Pandas & CRUD"
   ]
  },
  {
   "cell_type": "code",
   "execution_count": null,
   "id": "be4c2578-8d0b-4bec-84c8-41fd84bef11d",
   "metadata": {
    "tags": []
   },
   "outputs": [],
   "source": [
    "import pandas as pd"
   ]
  },
  {
   "cell_type": "code",
   "execution_count": null,
   "id": "b0d3db8d-6e4e-464c-af63-9235f76d99fc",
   "metadata": {
    "tags": []
   },
   "outputs": [],
   "source": [
    "# create from dictionary\n",
    "tempdict = {'coll':[1,2,3], 'col2':[4,5,6], 'col3':[7,8,9]}"
   ]
  },
  {
   "cell_type": "code",
   "execution_count": null,
   "id": "f986e225-f186-4a73-91cc-3e7497e6d658",
   "metadata": {
    "tags": []
   },
   "outputs": [],
   "source": [
    "dictdf = pd.DataFrame.from_dict(tempdict)"
   ]
  },
  {
   "cell_type": "code",
   "execution_count": null,
   "id": "3391e4dc-aad8-47df-ba2e-6b812be69dee",
   "metadata": {
    "tags": []
   },
   "outputs": [],
   "source": [
    "dictdf.head()"
   ]
  },
  {
   "cell_type": "markdown",
   "id": "ee2b4181-4135-4239-a2fb-6f07297526ad",
   "metadata": {},
   "source": [
    "# if elif else Statements"
   ]
  },
  {
   "cell_type": "code",
   "execution_count": null,
   "id": "d9b6d786-080e-436c-a918-2c5ee9238e1b",
   "metadata": {
    "tags": []
   },
   "outputs": [],
   "source": [
    "name = \"Me\"\n",
    "height_m = 2\n",
    "weight_kg = 110\n",
    "\n",
    "bmi = weight_kg / (height_m ** 2)\n",
    "print(\"bmi: \" + str(bmi))\n",
    "if bmi < 25:\n",
    "    print(name + \" is not overweight\")\n",
    "else:\n",
    "    print(name + \" is overweight\")"
   ]
  },
  {
   "cell_type": "code",
   "execution_count": null,
   "id": "da7ad23f-e99a-406c-a8d1-b9dab78e85fb",
   "metadata": {
    "tags": []
   },
   "outputs": [],
   "source": [
    "inputtxt = input(\"Please enter test string: \")\n",
    "\n",
    "if len(inputtxt) < 6:\n",
    "    print(\"String too short\")\n",
    "    print('Use at least 6 characters')"
   ]
  },
  {
   "cell_type": "code",
   "execution_count": null,
   "id": "f3eb8588-72d6-4b7e-8f1f-12e50f84df31",
   "metadata": {
    "tags": []
   },
   "outputs": [],
   "source": [
    "give_int = input(\"Type and integer: \")\n",
    "int_form = int(give_int)\n",
    "\n",
    "if int_form % 2 == 0: #use modulus equal to zero to determine if numerator is multiple of denominator. divide by 2 to determine if even number\n",
    "    print(\"Even\")\n",
    "else:\n",
    "    print(\"Odd\")\n",
    "# in this case, str will output error"
   ]
  },
  {
   "cell_type": "code",
   "execution_count": null,
   "id": "0647df1b-245e-4697-882b-c4803c4b81d3",
   "metadata": {
    "tags": []
   },
   "outputs": [],
   "source": [
    "# if/then for more than 3 cases - ex determine traingle shape (scalene, isoceles, equilateral)\n",
    "# note this doesn't include test of whether inputs will actually form a triangle, would need angle info\n",
    "a = int(input('a length: ')) #this format converts input function to integer with single line\n",
    "b = int(input('b length: '))\n",
    "c = int(input('c length: '))\n",
    "\n",
    "if a != b and b != c and a != c:\n",
    "    print('Scalene Triangle')\n",
    "elif a == b and b == c:\n",
    "    print('Equilateral Traingle')\n",
    "else:\n",
    "    print('Isoceles Traingle') #uses process of elimination rather than code for 2 of 3 sides having same length"
   ]
  },
  {
   "cell_type": "code",
   "execution_count": null,
   "id": "6fd0d886-fd14-4607-847a-cc1c4259e51d",
   "metadata": {},
   "outputs": [],
   "source": []
  }
 ],
 "metadata": {
  "kernelspec": {
   "display_name": "Python 3 (ipykernel)",
   "language": "python",
   "name": "python3"
  },
  "language_info": {
   "codemirror_mode": {
    "name": "ipython",
    "version": 3
   },
   "file_extension": ".py",
   "mimetype": "text/x-python",
   "name": "python",
   "nbconvert_exporter": "python",
   "pygments_lexer": "ipython3",
   "version": "3.11.5"
  }
 },
 "nbformat": 4,
 "nbformat_minor": 5
}

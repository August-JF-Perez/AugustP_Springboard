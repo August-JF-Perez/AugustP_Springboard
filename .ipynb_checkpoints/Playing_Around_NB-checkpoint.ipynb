{
 "cells": [
  {
   "cell_type": "code",
   "execution_count": null,
   "id": "02be2ab8",
   "metadata": {},
   "outputs": [],
   "source": [
    "#name = 'me'\n",
    "#name = input(\"name: \")"
   ]
  },
  {
   "cell_type": "code",
   "execution_count": null,
   "id": "a1b60191",
   "metadata": {},
   "outputs": [],
   "source": [
    "#height_f = 5.8\n",
    "#height_f = int(input(\"Height feet: \")) + (int(input(\"Height inches: \"))/12)"
   ]
  },
  {
   "cell_type": "code",
   "execution_count": null,
   "id": "001ec350",
   "metadata": {},
   "outputs": [],
   "source": [
    "#weight_lb = 160\n",
    "#weight_lb = int(input('Weight: '))"
   ]
  },
  {
   "cell_type": "code",
   "execution_count": null,
   "id": "b7f1a58f",
   "metadata": {},
   "outputs": [],
   "source": [
    "def bmi_calc(name = input(\"Name: \"), height_f = (int(input(\"Height Ft: \"))*12) + int(input('Height In: ')), weight_lb = int(input(\"Weight lb: \"))):\n",
    "    bmi = (weight_lb / (height_f ** 2)) * 703\n",
    "    print('bmi: ')\n",
    "    print(bmi)\n",
    "    if bmi < 25:\n",
    "        return name + ' is not overweight'\n",
    "    else:\n",
    "        return name + ' is overweight'"
   ]
  },
  {
   "cell_type": "code",
   "execution_count": null,
   "id": "eb1ccb73",
   "metadata": {},
   "outputs": [],
   "source": [
    "result1 = bmi_calc()"
   ]
  },
  {
   "cell_type": "code",
   "execution_count": null,
   "id": "7d1ddf79",
   "metadata": {
    "scrolled": true
   },
   "outputs": [],
   "source": [
    "print(result1)"
   ]
  },
  {
   "cell_type": "code",
   "execution_count": null,
   "id": "7b897141",
   "metadata": {},
   "outputs": [],
   "source": [
    "#x = 'awesome'"
   ]
  },
  {
   "cell_type": "code",
   "execution_count": null,
   "id": "a896dce7",
   "metadata": {},
   "outputs": [],
   "source": [
    "#def myfunc():\n",
    "#    x = 'fantastic'\n",
    "#    print('Python is ' + x)"
   ]
  },
  {
   "cell_type": "code",
   "execution_count": null,
   "id": "c98d128b",
   "metadata": {},
   "outputs": [],
   "source": [
    "#myfunc()"
   ]
  },
  {
   "cell_type": "code",
   "execution_count": null,
   "id": "4144d419",
   "metadata": {},
   "outputs": [],
   "source": [
    "#print('Python is ' + x)"
   ]
  },
  {
   "cell_type": "code",
   "execution_count": null,
   "id": "a5bb617e",
   "metadata": {},
   "outputs": [],
   "source": [
    "#print('text',3,'text2',5+6)"
   ]
  },
  {
   "cell_type": "code",
   "execution_count": null,
   "id": "b29c09ce",
   "metadata": {},
   "outputs": [],
   "source": [
    "#w = int(input())"
   ]
  },
  {
   "cell_type": "code",
   "execution_count": null,
   "id": "1a8aefbe",
   "metadata": {},
   "outputs": [],
   "source": [
    "#def funct1(w):\n",
    "#    y = w + 1\n",
    "#    return y"
   ]
  },
  {
   "cell_type": "code",
   "execution_count": null,
   "id": "7df1693d",
   "metadata": {},
   "outputs": [],
   "source": [
    "#r = w + 2"
   ]
  },
  {
   "cell_type": "code",
   "execution_count": null,
   "id": "cb1e14ae",
   "metadata": {},
   "outputs": [],
   "source": [
    "#print(r)"
   ]
  },
  {
   "cell_type": "code",
   "execution_count": null,
   "id": "095b6c56",
   "metadata": {},
   "outputs": [],
   "source": [
    "#print(funct1(16))"
   ]
  },
  {
   "cell_type": "code",
   "execution_count": null,
   "id": "df6ca6e6",
   "metadata": {},
   "outputs": [],
   "source": [
    "#name = input(\"name: \")"
   ]
  },
  {
   "cell_type": "code",
   "execution_count": null,
   "id": "fc43b1f1",
   "metadata": {},
   "outputs": [],
   "source": [
    "#height_in = (int(input(\"Height feet: \"))*12) + int(input(\"Height inches: \"))"
   ]
  },
  {
   "cell_type": "code",
   "execution_count": null,
   "id": "2c8473e4",
   "metadata": {},
   "outputs": [],
   "source": [
    "#weight_lb = int(input('Weight: '))"
   ]
  },
  {
   "cell_type": "code",
   "execution_count": null,
   "id": "4e4245a1",
   "metadata": {},
   "outputs": [],
   "source": [
    "#def bmi_calc(name = name, height_in = height_in, weight_lb = weight_lb):\n",
    " #   bmi = (weight_lb / (height_in ** 2)) * 703\n",
    "  #  print('bmi: ')\n",
    "   # print(bmi)\n",
    "    #if bmi < 25:\n",
    "     #   return name + ' is not overweight'\n",
    "    #else:\n",
    "     #   return name + ' is overweight'"
   ]
  },
  {
   "cell_type": "code",
   "execution_count": null,
   "id": "11f94012",
   "metadata": {},
   "outputs": [],
   "source": [
    "#result1 = bmi_calc()"
   ]
  },
  {
   "cell_type": "code",
   "execution_count": null,
   "id": "dce818fc",
   "metadata": {},
   "outputs": [],
   "source": [
    "#print(result1)"
   ]
  },
  {
   "cell_type": "code",
   "execution_count": null,
   "id": "f32cc011",
   "metadata": {},
   "outputs": [],
   "source": [
    "#name = input(\"name: \")"
   ]
  },
  {
   "cell_type": "code",
   "execution_count": null,
   "id": "40fd583a",
   "metadata": {},
   "outputs": [],
   "source": [
    "#height_in = (int(input(\"Height feet: \"))*12) + int(input(\"Height inches: \"))"
   ]
  },
  {
   "cell_type": "code",
   "execution_count": null,
   "id": "9cc13c60",
   "metadata": {},
   "outputs": [],
   "source": [
    "#weight_lb = int(input('Weight: '))"
   ]
  },
  {
   "cell_type": "code",
   "execution_count": null,
   "id": "0c5f5a01",
   "metadata": {},
   "outputs": [],
   "source": [
    "#def bmi_calc(name, height_in, weight_lb):\n",
    " #   '''Calculate BMI in imperial units'''\n",
    "  #  bmi = (weight_lb / (height_in ** 2)) * 703\n",
    "   # print('bmi: ')\n",
    "    #print(bmi)\n",
    "    #return bmi\n",
    "    #if bmi < 25:\n",
    "     #   return name + ' is not overweight'\n",
    "    #else:\n",
    "     #   return name + ' is overweight'"
   ]
  },
  {
   "cell_type": "code",
   "execution_count": null,
   "id": "3c7b660f",
   "metadata": {},
   "outputs": [],
   "source": [
    "#print(bmi_calc)"
   ]
  },
  {
   "cell_type": "code",
   "execution_count": null,
   "id": "68537033",
   "metadata": {},
   "outputs": [],
   "source": [
    "#result1 = bmi_calc()"
   ]
  },
  {
   "cell_type": "code",
   "execution_count": null,
   "id": "d364600c",
   "metadata": {
    "scrolled": false
   },
   "outputs": [],
   "source": [
    "#print(result1)"
   ]
  },
  {
   "cell_type": "code",
   "execution_count": null,
   "id": "237d614f",
   "metadata": {},
   "outputs": [],
   "source": [
    "#import numpy as np"
   ]
  },
  {
   "cell_type": "code",
   "execution_count": null,
   "id": "850671d1",
   "metadata": {},
   "outputs": [],
   "source": []
  }
 ],
 "metadata": {
  "kernelspec": {
   "display_name": "Python 3 (ipykernel)",
   "language": "python",
   "name": "python3"
  },
  "language_info": {
   "codemirror_mode": {
    "name": "ipython",
    "version": 3
   },
   "file_extension": ".py",
   "mimetype": "text/x-python",
   "name": "python",
   "nbconvert_exporter": "python",
   "pygments_lexer": "ipython3",
   "version": "3.11.5"
  }
 },
 "nbformat": 4,
 "nbformat_minor": 5
}

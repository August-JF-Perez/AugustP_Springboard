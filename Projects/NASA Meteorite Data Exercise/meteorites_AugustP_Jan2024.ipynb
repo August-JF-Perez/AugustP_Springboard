{
 "cells": [
  {
   "cell_type": "markdown",
   "metadata": {
    "id": "WZ3dZtUY-UD5"
   },
   "source": [
    "## Pandas Profiling: NASA Meteorites example\n",
    "Source of data: https://data.nasa.gov/Space-Science/Meteorite-Landings/gh4g-9sfh"
   ]
  },
  {
   "cell_type": "markdown",
   "metadata": {
    "id": "sDP_3a2x-UD7"
   },
   "source": [
    "The autoreload instruction reloads modules automatically before code execution, which is helpful for the update below."
   ]
  },
  {
   "cell_type": "markdown",
   "metadata": {},
   "source": [
    "#### AP: Note Not working in my Jupyter NB. Apparently \"ModuleNotFoundError: No module named 'ydata_profiling'\", Tried to install using pip, there's dependency discrepencies. Ran on the GoogleCollab link from curriculum. Nothing changed in this NB except in second code cell\n",
    "."
   ]
  },
  {
   "cell_type": "code",
   "execution_count": 1,
   "metadata": {
    "id": "QqZsguLj-UD7"
   },
   "outputs": [],
   "source": [
    "%load_ext autoreload\n",
    "%autoreload 2"
   ]
  },
  {
   "cell_type": "markdown",
   "metadata": {
    "id": "DXKVDCu8-UD7"
   },
   "source": [
    "Make sure that we have the latest version of pandas-profiling."
   ]
  },
  {
   "cell_type": "code",
   "execution_count": 2,
   "metadata": {
    "id": "0MEGaQ_0-UD7"
   },
   "outputs": [
    {
     "name": "stdout",
     "output_type": "stream",
     "text": [
      "Requirement already satisfied: pandas-profiling[notebook] in e:\\apps\\python\\anaconda\\lib\\site-packages (3.2.0)\n",
      "Requirement already satisfied: joblib~=1.1.0 in e:\\apps\\python\\anaconda\\lib\\site-packages (from pandas-profiling[notebook]) (1.1.1)\n",
      "Requirement already satisfied: scipy>=1.4.1 in e:\\apps\\python\\anaconda\\lib\\site-packages (from pandas-profiling[notebook]) (1.11.4)\n",
      "Requirement already satisfied: pandas!=1.0.0,!=1.0.1,!=1.0.2,!=1.1.0,>=0.25.3 in e:\\apps\\python\\anaconda\\lib\\site-packages (from pandas-profiling[notebook]) (2.1.4)\n",
      "Requirement already satisfied: matplotlib>=3.2.0 in e:\\apps\\python\\anaconda\\lib\\site-packages (from pandas-profiling[notebook]) (3.8.0)\n",
      "Requirement already satisfied: pydantic>=1.8.1 in e:\\apps\\python\\anaconda\\lib\\site-packages (from pandas-profiling[notebook]) (1.10.12)\n",
      "Requirement already satisfied: PyYAML>=5.0.0 in e:\\apps\\python\\anaconda\\lib\\site-packages (from pandas-profiling[notebook]) (6.0.1)\n",
      "Requirement already satisfied: jinja2>=2.11.1 in e:\\apps\\python\\anaconda\\lib\\site-packages (from pandas-profiling[notebook]) (3.1.2)\n",
      "Requirement already satisfied: markupsafe~=2.1.1 in e:\\apps\\python\\anaconda\\lib\\site-packages (from pandas-profiling[notebook]) (2.1.3)\n",
      "Requirement already satisfied: visions==0.7.4 in e:\\apps\\python\\anaconda\\lib\\site-packages (from visions[type_image_path]==0.7.4->pandas-profiling[notebook]) (0.7.4)\n",
      "Requirement already satisfied: numpy>=1.16.0 in e:\\apps\\python\\anaconda\\lib\\site-packages (from pandas-profiling[notebook]) (1.26.3)\n",
      "Requirement already satisfied: htmlmin>=0.1.12 in e:\\apps\\python\\anaconda\\lib\\site-packages (from pandas-profiling[notebook]) (0.1.12)\n",
      "Requirement already satisfied: missingno>=0.4.2 in e:\\apps\\python\\anaconda\\lib\\site-packages (from pandas-profiling[notebook]) (0.5.2)\n",
      "Requirement already satisfied: phik>=0.11.1 in e:\\apps\\python\\anaconda\\lib\\site-packages (from pandas-profiling[notebook]) (0.12.4)\n",
      "Requirement already satisfied: tangled-up-in-unicode==0.2.0 in e:\\apps\\python\\anaconda\\lib\\site-packages (from pandas-profiling[notebook]) (0.2.0)\n",
      "Requirement already satisfied: requests>=2.24.0 in e:\\apps\\python\\anaconda\\lib\\site-packages (from pandas-profiling[notebook]) (2.31.0)\n",
      "Requirement already satisfied: tqdm>=4.48.2 in e:\\apps\\python\\anaconda\\lib\\site-packages (from pandas-profiling[notebook]) (4.65.0)\n",
      "Requirement already satisfied: seaborn>=0.10.1 in e:\\apps\\python\\anaconda\\lib\\site-packages (from pandas-profiling[notebook]) (0.12.2)\n",
      "Requirement already satisfied: multimethod>=1.4 in e:\\apps\\python\\anaconda\\lib\\site-packages (from pandas-profiling[notebook]) (1.11)\n",
      "Requirement already satisfied: jupyter-client>=5.3.4 in e:\\apps\\python\\anaconda\\lib\\site-packages (from pandas-profiling[notebook]) (8.6.0)\n",
      "Requirement already satisfied: jupyter-core>=4.6.3 in e:\\apps\\python\\anaconda\\lib\\site-packages (from pandas-profiling[notebook]) (5.5.0)\n",
      "Requirement already satisfied: ipywidgets>=7.5.1 in e:\\apps\\python\\anaconda\\lib\\site-packages (from pandas-profiling[notebook]) (8.0.4)\n",
      "Requirement already satisfied: attrs>=19.3.0 in e:\\apps\\python\\anaconda\\lib\\site-packages (from visions==0.7.4->visions[type_image_path]==0.7.4->pandas-profiling[notebook]) (23.1.0)\n",
      "Requirement already satisfied: networkx>=2.4 in e:\\apps\\python\\anaconda\\lib\\site-packages (from visions==0.7.4->visions[type_image_path]==0.7.4->pandas-profiling[notebook]) (3.1)\n",
      "Requirement already satisfied: imagehash in e:\\apps\\python\\anaconda\\lib\\site-packages (from visions[type_image_path]==0.7.4->pandas-profiling[notebook]) (4.3.1)\n",
      "Requirement already satisfied: Pillow in e:\\apps\\python\\anaconda\\lib\\site-packages (from visions[type_image_path]==0.7.4->pandas-profiling[notebook]) (10.0.1)\n",
      "Requirement already satisfied: ipykernel>=4.5.1 in e:\\apps\\python\\anaconda\\lib\\site-packages (from ipywidgets>=7.5.1->pandas-profiling[notebook]) (6.28.0)\n",
      "Requirement already satisfied: ipython>=6.1.0 in e:\\apps\\python\\anaconda\\lib\\site-packages (from ipywidgets>=7.5.1->pandas-profiling[notebook]) (8.20.0)\n",
      "Requirement already satisfied: traitlets>=4.3.1 in e:\\apps\\python\\anaconda\\lib\\site-packages (from ipywidgets>=7.5.1->pandas-profiling[notebook]) (5.7.1)\n",
      "Requirement already satisfied: widgetsnbextension~=4.0 in e:\\apps\\python\\anaconda\\lib\\site-packages (from ipywidgets>=7.5.1->pandas-profiling[notebook]) (4.0.5)\n",
      "Requirement already satisfied: jupyterlab-widgets~=3.0 in e:\\apps\\python\\anaconda\\lib\\site-packages (from ipywidgets>=7.5.1->pandas-profiling[notebook]) (3.0.9)\n",
      "Requirement already satisfied: python-dateutil>=2.8.2 in e:\\apps\\python\\anaconda\\lib\\site-packages (from jupyter-client>=5.3.4->pandas-profiling[notebook]) (2.8.2)\n",
      "Requirement already satisfied: pyzmq>=23.0 in e:\\apps\\python\\anaconda\\lib\\site-packages (from jupyter-client>=5.3.4->pandas-profiling[notebook]) (25.1.2)\n",
      "Requirement already satisfied: tornado>=6.2 in e:\\apps\\python\\anaconda\\lib\\site-packages (from jupyter-client>=5.3.4->pandas-profiling[notebook]) (6.3.3)\n",
      "Requirement already satisfied: platformdirs>=2.5 in e:\\apps\\python\\anaconda\\lib\\site-packages (from jupyter-core>=4.6.3->pandas-profiling[notebook]) (3.10.0)\n",
      "Requirement already satisfied: pywin32>=300 in e:\\apps\\python\\anaconda\\lib\\site-packages (from jupyter-core>=4.6.3->pandas-profiling[notebook]) (305.1)\n",
      "Requirement already satisfied: contourpy>=1.0.1 in e:\\apps\\python\\anaconda\\lib\\site-packages (from matplotlib>=3.2.0->pandas-profiling[notebook]) (1.2.0)\n",
      "Requirement already satisfied: cycler>=0.10 in e:\\apps\\python\\anaconda\\lib\\site-packages (from matplotlib>=3.2.0->pandas-profiling[notebook]) (0.11.0)\n",
      "Requirement already satisfied: fonttools>=4.22.0 in e:\\apps\\python\\anaconda\\lib\\site-packages (from matplotlib>=3.2.0->pandas-profiling[notebook]) (4.25.0)\n",
      "Requirement already satisfied: kiwisolver>=1.0.1 in e:\\apps\\python\\anaconda\\lib\\site-packages (from matplotlib>=3.2.0->pandas-profiling[notebook]) (1.4.4)\n",
      "Requirement already satisfied: packaging>=20.0 in e:\\apps\\python\\anaconda\\lib\\site-packages (from matplotlib>=3.2.0->pandas-profiling[notebook]) (23.1)\n",
      "Requirement already satisfied: pyparsing>=2.3.1 in e:\\apps\\python\\anaconda\\lib\\site-packages (from matplotlib>=3.2.0->pandas-profiling[notebook]) (3.0.9)\n",
      "Requirement already satisfied: pytz>=2020.1 in e:\\apps\\python\\anaconda\\lib\\site-packages (from pandas!=1.0.0,!=1.0.1,!=1.0.2,!=1.1.0,>=0.25.3->pandas-profiling[notebook]) (2023.3.post1)\n",
      "Requirement already satisfied: tzdata>=2022.1 in e:\\apps\\python\\anaconda\\lib\\site-packages (from pandas!=1.0.0,!=1.0.1,!=1.0.2,!=1.1.0,>=0.25.3->pandas-profiling[notebook]) (2023.3)\n",
      "Requirement already satisfied: typing-extensions>=4.2.0 in e:\\apps\\python\\anaconda\\lib\\site-packages (from pydantic>=1.8.1->pandas-profiling[notebook]) (4.9.0)\n",
      "Requirement already satisfied: charset-normalizer<4,>=2 in e:\\apps\\python\\anaconda\\lib\\site-packages (from requests>=2.24.0->pandas-profiling[notebook]) (2.0.4)\n",
      "Requirement already satisfied: idna<4,>=2.5 in e:\\apps\\python\\anaconda\\lib\\site-packages (from requests>=2.24.0->pandas-profiling[notebook]) (3.4)\n",
      "Requirement already satisfied: urllib3<3,>=1.21.1 in e:\\apps\\python\\anaconda\\lib\\site-packages (from requests>=2.24.0->pandas-profiling[notebook]) (1.26.18)\n",
      "Requirement already satisfied: certifi>=2017.4.17 in e:\\apps\\python\\anaconda\\lib\\site-packages (from requests>=2.24.0->pandas-profiling[notebook]) (2023.11.17)\n",
      "Requirement already satisfied: colorama in e:\\apps\\python\\anaconda\\lib\\site-packages (from tqdm>=4.48.2->pandas-profiling[notebook]) (0.4.6)\n",
      "Requirement already satisfied: comm>=0.1.1 in e:\\apps\\python\\anaconda\\lib\\site-packages (from ipykernel>=4.5.1->ipywidgets>=7.5.1->pandas-profiling[notebook]) (0.1.2)\n",
      "Requirement already satisfied: debugpy>=1.6.5 in e:\\apps\\python\\anaconda\\lib\\site-packages (from ipykernel>=4.5.1->ipywidgets>=7.5.1->pandas-profiling[notebook]) (1.6.7)\n",
      "Requirement already satisfied: matplotlib-inline>=0.1 in e:\\apps\\python\\anaconda\\lib\\site-packages (from ipykernel>=4.5.1->ipywidgets>=7.5.1->pandas-profiling[notebook]) (0.1.6)\n",
      "Requirement already satisfied: nest-asyncio in e:\\apps\\python\\anaconda\\lib\\site-packages (from ipykernel>=4.5.1->ipywidgets>=7.5.1->pandas-profiling[notebook]) (1.5.6)\n",
      "Requirement already satisfied: psutil in e:\\apps\\python\\anaconda\\lib\\site-packages (from ipykernel>=4.5.1->ipywidgets>=7.5.1->pandas-profiling[notebook]) (5.9.0)\n",
      "Requirement already satisfied: decorator in e:\\apps\\python\\anaconda\\lib\\site-packages (from ipython>=6.1.0->ipywidgets>=7.5.1->pandas-profiling[notebook]) (5.1.1)\n",
      "Requirement already satisfied: jedi>=0.16 in e:\\apps\\python\\anaconda\\lib\\site-packages (from ipython>=6.1.0->ipywidgets>=7.5.1->pandas-profiling[notebook]) (0.18.1)\n",
      "Requirement already satisfied: prompt-toolkit<3.1.0,>=3.0.41 in e:\\apps\\python\\anaconda\\lib\\site-packages (from ipython>=6.1.0->ipywidgets>=7.5.1->pandas-profiling[notebook]) (3.0.43)\n",
      "Requirement already satisfied: pygments>=2.4.0 in e:\\apps\\python\\anaconda\\lib\\site-packages (from ipython>=6.1.0->ipywidgets>=7.5.1->pandas-profiling[notebook]) (2.15.1)\n",
      "Requirement already satisfied: stack-data in e:\\apps\\python\\anaconda\\lib\\site-packages (from ipython>=6.1.0->ipywidgets>=7.5.1->pandas-profiling[notebook]) (0.2.0)\n",
      "Requirement already satisfied: six>=1.5 in e:\\apps\\python\\anaconda\\lib\\site-packages (from python-dateutil>=2.8.2->jupyter-client>=5.3.4->pandas-profiling[notebook]) (1.16.0)\n",
      "Requirement already satisfied: PyWavelets in e:\\apps\\python\\anaconda\\lib\\site-packages (from imagehash->visions[type_image_path]==0.7.4->pandas-profiling[notebook]) (1.5.0)\n",
      "Requirement already satisfied: parso<0.9.0,>=0.8.0 in e:\\apps\\python\\anaconda\\lib\\site-packages (from jedi>=0.16->ipython>=6.1.0->ipywidgets>=7.5.1->pandas-profiling[notebook]) (0.8.3)\n",
      "Requirement already satisfied: wcwidth in e:\\apps\\python\\anaconda\\lib\\site-packages (from prompt-toolkit<3.1.0,>=3.0.41->ipython>=6.1.0->ipywidgets>=7.5.1->pandas-profiling[notebook]) (0.2.5)\n",
      "Requirement already satisfied: executing in e:\\apps\\python\\anaconda\\lib\\site-packages (from stack-data->ipython>=6.1.0->ipywidgets>=7.5.1->pandas-profiling[notebook]) (0.8.3)\n",
      "Requirement already satisfied: asttokens in e:\\apps\\python\\anaconda\\lib\\site-packages (from stack-data->ipython>=6.1.0->ipywidgets>=7.5.1->pandas-profiling[notebook]) (2.0.5)\n",
      "Requirement already satisfied: pure-eval in e:\\apps\\python\\anaconda\\lib\\site-packages (from stack-data->ipython>=6.1.0->ipywidgets>=7.5.1->pandas-profiling[notebook]) (0.2.2)\n"
     ]
    }
   ],
   "source": [
    "import sys\n",
    "\n",
    "!{sys.executable} -m pip install -U pandas-profiling[notebook]\n",
    "#!jupyter nbextension enable --py widgetsnbextension #Not compatible in JupyterLab\n",
    "!jupyter labextension enable widgetsnbextension"
   ]
  },
  {
   "cell_type": "markdown",
   "metadata": {
    "id": "l83pggCb-UD8"
   },
   "source": [
    "You might want to restart the kernel now."
   ]
  },
  {
   "cell_type": "markdown",
   "metadata": {
    "id": "3LQ2J8HS-UD8"
   },
   "source": [
    "### Import libraries"
   ]
  },
  {
   "cell_type": "code",
   "execution_count": 3,
   "metadata": {
    "id": "V7hWwsg9-UD8"
   },
   "outputs": [
    {
     "ename": "ModuleNotFoundError",
     "evalue": "No module named 'ydata_profiling'",
     "output_type": "error",
     "traceback": [
      "\u001b[1;31m---------------------------------------------------------------------------\u001b[0m",
      "\u001b[1;31mModuleNotFoundError\u001b[0m                       Traceback (most recent call last)",
      "Cell \u001b[1;32mIn[3], line 7\u001b[0m\n\u001b[0;32m      4\u001b[0m \u001b[38;5;28;01mimport\u001b[39;00m \u001b[38;5;21;01mpandas\u001b[39;00m \u001b[38;5;28;01mas\u001b[39;00m \u001b[38;5;21;01mpd\u001b[39;00m\n\u001b[0;32m      5\u001b[0m \u001b[38;5;28;01mimport\u001b[39;00m \u001b[38;5;21;01mrequests\u001b[39;00m\n\u001b[1;32m----> 7\u001b[0m \u001b[38;5;28;01mimport\u001b[39;00m \u001b[38;5;21;01mydata_profiling\u001b[39;00m\n\u001b[0;32m      8\u001b[0m \u001b[38;5;28;01mfrom\u001b[39;00m \u001b[38;5;21;01mydata_profiling\u001b[39;00m\u001b[38;5;21;01m.\u001b[39;00m\u001b[38;5;21;01mutils\u001b[39;00m\u001b[38;5;21;01m.\u001b[39;00m\u001b[38;5;21;01mcache\u001b[39;00m \u001b[38;5;28;01mimport\u001b[39;00m cache_file\n",
      "\u001b[1;31mModuleNotFoundError\u001b[0m: No module named 'ydata_profiling'"
     ]
    }
   ],
   "source": [
    "from pathlib import Path\n",
    "\n",
    "import numpy as np\n",
    "import pandas as pd\n",
    "import requests\n",
    "\n",
    "import ydata_profiling\n",
    "from ydata_profiling.utils.cache import cache_file"
   ]
  },
  {
   "cell_type": "markdown",
   "metadata": {
    "id": "WqbLaoaH-UD9"
   },
   "source": [
    "### Load and prepare example dataset\n",
    "We add some fake variables for illustrating pandas-profiling capabilities"
   ]
  },
  {
   "cell_type": "code",
   "execution_count": null,
   "metadata": {
    "id": "0buam5fS-UD-"
   },
   "outputs": [],
   "source": [
    "file_name = cache_file(\n",
    "    \"meteorites.csv\",\n",
    "    \"https://data.nasa.gov/api/views/gh4g-9sfh/rows.csv?accessType=DOWNLOAD\",\n",
    ")\n",
    "\n",
    "df = pd.read_csv(file_name)\n",
    "\n",
    "# Note: Pandas does not support dates before 1880, so we ignore these for this analysis\n",
    "df[\"year\"] = pd.to_datetime(df[\"year\"], errors=\"coerce\")\n",
    "\n",
    "# Example: Constant variable\n",
    "df[\"source\"] = \"NASA\"\n",
    "\n",
    "# Example: Boolean variable\n",
    "df[\"boolean\"] = np.random.choice([True, False], df.shape[0])\n",
    "\n",
    "# Example: Mixed with base types\n",
    "df[\"mixed\"] = np.random.choice([1, \"A\"], df.shape[0])\n",
    "\n",
    "# Example: Highly correlated variables\n",
    "df[\"reclat_city\"] = df[\"reclat\"] + np.random.normal(scale=5, size=(len(df)))\n",
    "\n",
    "# Example: Duplicate observations\n",
    "duplicates_to_add = pd.DataFrame(df.iloc[0:10])\n",
    "duplicates_to_add[\"name\"] = duplicates_to_add[\"name\"] + \" copy\"\n",
    "\n",
    "df = pd.concat([df, duplicates_to_add], ignore_index=True)"
   ]
  },
  {
   "cell_type": "markdown",
   "metadata": {
    "id": "2nIWfAbO-UD_"
   },
   "source": [
    "### Inline report without saving object"
   ]
  },
  {
   "cell_type": "code",
   "execution_count": null,
   "metadata": {
    "id": "M436u93a-UD_"
   },
   "outputs": [],
   "source": [
    "report = df.profile_report(\n",
    "    sort=None, html={\"style\": {\"full_width\": True}}, progress_bar=False\n",
    ")\n",
    "report"
   ]
  },
  {
   "cell_type": "markdown",
   "metadata": {
    "id": "d7334KGJ-UD_"
   },
   "source": [
    "### Save report to file"
   ]
  },
  {
   "cell_type": "code",
   "execution_count": null,
   "metadata": {
    "id": "sGZYMdmt-UEA"
   },
   "outputs": [],
   "source": [
    "profile_report = df.profile_report(html={\"style\": {\"full_width\": True}})\n",
    "profile_report.to_file(\"/tmp/example.html\")"
   ]
  },
  {
   "cell_type": "markdown",
   "metadata": {
    "id": "2cKC3deW-UEA"
   },
   "source": [
    "### More analysis (Unicode) and Print existing ProfileReport object inline"
   ]
  },
  {
   "cell_type": "code",
   "execution_count": null,
   "metadata": {
    "id": "HBjR4r9N-UEA"
   },
   "outputs": [],
   "source": [
    "profile_report = df.profile_report(\n",
    "    explorative=True, html={\"style\": {\"full_width\": True}}\n",
    ")\n",
    "profile_report"
   ]
  },
  {
   "cell_type": "markdown",
   "metadata": {
    "id": "baM5DXOP-UEA"
   },
   "source": [
    "### Notebook Widgets"
   ]
  },
  {
   "cell_type": "code",
   "execution_count": null,
   "metadata": {
    "id": "qohQMtdc-UED"
   },
   "outputs": [],
   "source": [
    "profile_report.to_widgets()"
   ]
  }
 ],
 "metadata": {
  "colab": {
   "provenance": []
  },
  "kernelspec": {
   "display_name": "Python 3 (ipykernel)",
   "language": "python",
   "name": "python3"
  },
  "language_info": {
   "codemirror_mode": {
    "name": "ipython",
    "version": 3
   },
   "file_extension": ".py",
   "mimetype": "text/x-python",
   "name": "python",
   "nbconvert_exporter": "python",
   "pygments_lexer": "ipython3",
   "version": "3.11.5"
  }
 },
 "nbformat": 4,
 "nbformat_minor": 4
}

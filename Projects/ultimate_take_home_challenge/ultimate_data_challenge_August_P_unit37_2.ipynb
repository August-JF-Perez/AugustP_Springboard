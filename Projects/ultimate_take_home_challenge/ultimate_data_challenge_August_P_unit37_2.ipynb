{
 "cells": [
  {
   "cell_type": "markdown",
   "id": "c67f3576-f7ec-4f6d-a434-ff4cb8457695",
   "metadata": {},
   "source": [
    "#  Ultimate Technologies Inc. Take-Home Challenge\n",
    "## August Perez\n",
    "\n",
    "Springboard Data Science track unit 37.2"
   ]
  },
  {
   "cell_type": "code",
   "execution_count": null,
   "id": "01febc99-65c2-4828-b7b7-a130b7ea7428",
   "metadata": {},
   "outputs": [],
   "source": [
    "#imports\n",
    "\n",
    "# data manipulation and math\n",
    "\n",
    "import numpy as np\n",
    "import scipy as sp\n",
    "import scipy.stats as stats\n",
    "import pandas as pd\n",
    "pd.set_option('display.max_columns', None)\n",
    "pd.set_option('display.max_colwidth', None)\n",
    "import datetime as dt\n",
    "\n",
    "# plotting and visualization\n",
    "\n",
    "import matplotlib.pyplot as plt\n",
    "import seaborn as sns\n",
    "\n",
    "# modeling & pre-processing\n",
    "    #commenting out since not necessary for this part of the project\n",
    "#    import sklearn.model_selection\n",
    "#    from sklearn.model_selection import train_test_split\n",
    "#    from sklearn.model_selection import KFold\n",
    "#    import sklearn.preprocessing\n",
    "#    import sklearn.metrics\n",
    "\n",
    "import warnings\n",
    "    #reminder code so I can ignore warnings for single code cells:\n",
    "    # warnings.filterwarnings('ignore')\n",
    "    # warnings.resetwarnings()"
   ]
  },
  {
   "cell_type": "markdown",
   "id": "73e6cbe1-7893-4a22-8ba2-9695a77be7c7",
   "metadata": {},
   "source": [
    "# Part 1 - Exploratory data analysis\n",
    "The attached logins.json file contains (simulated) timestamps of user logins in a particular geographic location. \n",
    "\n",
    "**Aggregate these login counts based on 15minute time intervals**, \n",
    "\n",
    "and **visualize and describe the resulting time series** of login counts in **ways that best characterize the underlying patterns of the demand**. \n",
    "\n",
    "Please **report/illustrate important features of the demand**, such as daily cycles. If there are **data quality issues, please report them**."
   ]
  },
  {
   "cell_type": "code",
   "execution_count": null,
   "id": "33e3e875-bf06-44be-a65e-522f12b01aca",
   "metadata": {},
   "outputs": [],
   "source": [
    "#load data\n",
    "\n",
    "logins_df = pd.read_json"
   ]
  },
  {
   "cell_type": "code",
   "execution_count": null,
   "id": "57e337d7-cec8-4b43-9f61-6cb20be1b1c8",
   "metadata": {},
   "outputs": [],
   "source": []
  },
  {
   "cell_type": "code",
   "execution_count": null,
   "id": "536d08ad-0f9c-462b-b377-9f9a97e84143",
   "metadata": {},
   "outputs": [],
   "source": []
  },
  {
   "cell_type": "code",
   "execution_count": null,
   "id": "9d47ff09-9936-48f5-96e3-7254c4e7f537",
   "metadata": {},
   "outputs": [],
   "source": []
  },
  {
   "cell_type": "code",
   "execution_count": null,
   "id": "379cb3a2-7ac0-4891-8347-874b9fa3cd60",
   "metadata": {},
   "outputs": [],
   "source": []
  },
  {
   "cell_type": "code",
   "execution_count": null,
   "id": "b335a535-fefe-4487-b334-38a746e2695e",
   "metadata": {},
   "outputs": [],
   "source": []
  },
  {
   "cell_type": "code",
   "execution_count": null,
   "id": "a145a704-ef53-4ae6-886d-df34bc5774cd",
   "metadata": {},
   "outputs": [],
   "source": []
  },
  {
   "cell_type": "code",
   "execution_count": null,
   "id": "add8644d-4808-4f8f-b764-5ccfb698f6d8",
   "metadata": {},
   "outputs": [],
   "source": []
  },
  {
   "cell_type": "code",
   "execution_count": null,
   "id": "e9532b32-40c9-40aa-9bea-ae95e479f260",
   "metadata": {},
   "outputs": [],
   "source": []
  },
  {
   "cell_type": "code",
   "execution_count": null,
   "id": "1112fb58-0e65-4c90-ae3a-9bbd25342cfd",
   "metadata": {},
   "outputs": [],
   "source": []
  },
  {
   "cell_type": "code",
   "execution_count": null,
   "id": "3d465ae5-7d1c-4053-9fe5-8412c971fcfa",
   "metadata": {},
   "outputs": [],
   "source": []
  },
  {
   "cell_type": "code",
   "execution_count": null,
   "id": "ea0722ad-235b-4a1a-b8f1-4cb60809f34d",
   "metadata": {},
   "outputs": [],
   "source": []
  },
  {
   "cell_type": "code",
   "execution_count": null,
   "id": "b6832bbf-c1ef-447f-af3f-c4aef863c902",
   "metadata": {},
   "outputs": [],
   "source": []
  },
  {
   "cell_type": "code",
   "execution_count": null,
   "id": "f4fb3b5e-dad1-4b98-888e-f0d4d1892ac9",
   "metadata": {},
   "outputs": [],
   "source": []
  },
  {
   "cell_type": "code",
   "execution_count": null,
   "id": "870793aa-0aba-4141-a798-ffd63c9aa6b9",
   "metadata": {},
   "outputs": [],
   "source": []
  },
  {
   "cell_type": "code",
   "execution_count": null,
   "id": "35a5e95a-6654-4783-9349-b28e2fdf3a02",
   "metadata": {},
   "outputs": [],
   "source": []
  },
  {
   "cell_type": "code",
   "execution_count": null,
   "id": "0fbdd946-e03e-4ea7-8406-aeeb005bb839",
   "metadata": {},
   "outputs": [],
   "source": []
  },
  {
   "cell_type": "code",
   "execution_count": null,
   "id": "ed992b50-5717-47ef-99b8-529cd2deb19c",
   "metadata": {},
   "outputs": [],
   "source": []
  },
  {
   "cell_type": "code",
   "execution_count": null,
   "id": "903a6012-8669-4057-9cc0-9c74696c2208",
   "metadata": {},
   "outputs": [],
   "source": []
  },
  {
   "cell_type": "code",
   "execution_count": null,
   "id": "37e688d5-3d07-4843-bb0e-b09db37bf153",
   "metadata": {},
   "outputs": [],
   "source": []
  },
  {
   "cell_type": "code",
   "execution_count": null,
   "id": "a65bc601-50a0-4652-84c6-0deff3901876",
   "metadata": {},
   "outputs": [],
   "source": []
  },
  {
   "cell_type": "code",
   "execution_count": null,
   "id": "51492923-c70f-4857-aaf5-f73ba92bd93a",
   "metadata": {},
   "outputs": [],
   "source": []
  },
  {
   "cell_type": "markdown",
   "id": "384d891c-b269-4c2e-befe-f2732bfb16b8",
   "metadata": {},
   "source": [
    "# Part 2 ‐ Experiment and metrics design"
   ]
  },
  {
   "cell_type": "code",
   "execution_count": null,
   "id": "068d3bb8-abe5-408b-93aa-8d88690faaad",
   "metadata": {},
   "outputs": [],
   "source": []
  },
  {
   "cell_type": "code",
   "execution_count": null,
   "id": "1d60443c-ada7-4cef-8f5f-ca8592cf2105",
   "metadata": {},
   "outputs": [],
   "source": []
  },
  {
   "cell_type": "code",
   "execution_count": null,
   "id": "ddf3b9a4-3b71-4a16-b83d-1a13b65ff190",
   "metadata": {},
   "outputs": [],
   "source": []
  },
  {
   "cell_type": "code",
   "execution_count": null,
   "id": "88f0a11b-d13f-4a8b-b869-6239e33eced6",
   "metadata": {},
   "outputs": [],
   "source": []
  },
  {
   "cell_type": "code",
   "execution_count": null,
   "id": "c0624b75-54d0-4e7b-b1fb-3449ee5ee6dd",
   "metadata": {},
   "outputs": [],
   "source": []
  },
  {
   "cell_type": "code",
   "execution_count": null,
   "id": "90e72eea-a9c5-4dc7-acf8-9c38e77f0837",
   "metadata": {},
   "outputs": [],
   "source": []
  },
  {
   "cell_type": "code",
   "execution_count": null,
   "id": "63734e09-9956-4fb2-b4df-795c82190c51",
   "metadata": {},
   "outputs": [],
   "source": []
  },
  {
   "cell_type": "code",
   "execution_count": null,
   "id": "2bc8f03a-440d-4918-b5d9-6c8421d45198",
   "metadata": {},
   "outputs": [],
   "source": []
  },
  {
   "cell_type": "code",
   "execution_count": null,
   "id": "e1a525ee-36b4-432a-aec3-903643ddeb61",
   "metadata": {},
   "outputs": [],
   "source": []
  },
  {
   "cell_type": "code",
   "execution_count": null,
   "id": "5d8d9529-12ea-4ee9-90b4-4712718051e5",
   "metadata": {},
   "outputs": [],
   "source": []
  },
  {
   "cell_type": "code",
   "execution_count": null,
   "id": "0ddff187-9503-471c-b85c-e32006f1df12",
   "metadata": {},
   "outputs": [],
   "source": []
  },
  {
   "cell_type": "code",
   "execution_count": null,
   "id": "b0705650-d13c-4693-a606-6b5bcca70fab",
   "metadata": {},
   "outputs": [],
   "source": []
  },
  {
   "cell_type": "code",
   "execution_count": null,
   "id": "46038bc2-ca75-48dc-84a9-700ba4aafe98",
   "metadata": {},
   "outputs": [],
   "source": []
  },
  {
   "cell_type": "code",
   "execution_count": null,
   "id": "c10bccee-c3a9-4da0-aca3-e3705ad9798f",
   "metadata": {},
   "outputs": [],
   "source": []
  },
  {
   "cell_type": "code",
   "execution_count": null,
   "id": "2afa4be8-cb6b-42e8-8b71-46b74ca91e29",
   "metadata": {},
   "outputs": [],
   "source": []
  },
  {
   "cell_type": "code",
   "execution_count": null,
   "id": "df96280e-2004-4411-ba88-a0620b8020e3",
   "metadata": {},
   "outputs": [],
   "source": []
  },
  {
   "cell_type": "code",
   "execution_count": null,
   "id": "49da3203-6187-4895-ad02-7545a9ef36f4",
   "metadata": {},
   "outputs": [],
   "source": []
  },
  {
   "cell_type": "markdown",
   "id": "525a75ad-dde9-4727-8818-d66890e08b5e",
   "metadata": {},
   "source": [
    "# Part 3 ‐ Predictive modeling"
   ]
  },
  {
   "cell_type": "code",
   "execution_count": null,
   "id": "364835bd-540b-4946-8d67-515aae55dbdb",
   "metadata": {},
   "outputs": [],
   "source": []
  },
  {
   "cell_type": "code",
   "execution_count": null,
   "id": "0fa4e745-b386-4c99-8bca-bbdf3633c5d1",
   "metadata": {},
   "outputs": [],
   "source": []
  },
  {
   "cell_type": "code",
   "execution_count": null,
   "id": "7868a7fb-5e7a-47f1-b1cb-e7ad30740f3a",
   "metadata": {},
   "outputs": [],
   "source": []
  },
  {
   "cell_type": "code",
   "execution_count": null,
   "id": "98f787cc-94d8-42ba-8518-55e3f25a39a9",
   "metadata": {},
   "outputs": [],
   "source": []
  },
  {
   "cell_type": "code",
   "execution_count": null,
   "id": "ab3f8581-ae61-4258-9aea-16176cc80eef",
   "metadata": {},
   "outputs": [],
   "source": []
  },
  {
   "cell_type": "code",
   "execution_count": null,
   "id": "d77b0b7c-c46b-495a-b159-dab41cc0c728",
   "metadata": {},
   "outputs": [],
   "source": []
  },
  {
   "cell_type": "code",
   "execution_count": null,
   "id": "0ad94d0d-20e1-4d15-967d-b238b8e373d2",
   "metadata": {},
   "outputs": [],
   "source": []
  },
  {
   "cell_type": "code",
   "execution_count": null,
   "id": "10d5cffc-e890-42b7-a2aa-36073c75ecc7",
   "metadata": {},
   "outputs": [],
   "source": []
  }
 ],
 "metadata": {
  "kernelspec": {
   "display_name": "Python 3 (ipykernel)",
   "language": "python",
   "name": "python3"
  },
  "language_info": {
   "codemirror_mode": {
    "name": "ipython",
    "version": 3
   },
   "file_extension": ".py",
   "mimetype": "text/x-python",
   "name": "python",
   "nbconvert_exporter": "python",
   "pygments_lexer": "ipython3",
   "version": "3.12.3"
  }
 },
 "nbformat": 4,
 "nbformat_minor": 5
}

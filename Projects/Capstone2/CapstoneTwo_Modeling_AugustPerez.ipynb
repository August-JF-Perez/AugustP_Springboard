{
 "cells": [
  {
   "cell_type": "markdown",
   "id": "449ffc1e-6ca5-48a2-8738-a9ec26391952",
   "metadata": {},
   "source": [
    "AP: Note that I have converted previous step cells to markdown cells to reduce system resource usage (just faster to rerun code so slower cells don't slow me down) (Mostly just the cells that made plots)"
   ]
  },
  {
   "cell_type": "markdown",
   "id": "272fd495-63c2-4301-9370-0db65946ddff",
   "metadata": {
    "editable": true,
    "slideshow": {
     "slide_type": ""
    },
    "tags": []
   },
   "source": [
    "# August Perez Capstone Two Project:\n",
    "## Asthma prediction model\n",
    "\n",
    "The goal is to build a model with at least 90% sensitivity (focusing on reducing false negatives)\n",
    "\n",
    "Data source: Asthma Disease Dataset (https://www.kaggle.com/datasets/rabieelkharoua/asthma-disease-dataset?resource=download)\n",
    "\n",
    "#### About the dataset: (from the kaggle description)\n",
    "- health information for 2,392 patients\n",
    "  - includes demographic details, lifestyle factors, environmental and allergy factors, medical history, clinical measurements, symptoms, and a diagnosis indicator\n"
   ]
  },
  {
   "cell_type": "markdown",
   "id": "4c212cea-f76d-439a-96bc-fd1b96217e44",
   "metadata": {},
   "source": [
    "Column Info: (from Kaggle description)\n",
    "Patient ID\n",
    "\n",
    "    PatientID: A unique identifier assigned to each patient (5034 to 7425).\n",
    "\n",
    "Demographic Details\n",
    "\n",
    "    Age: The age of the patients ranges from 5 to 80 years.\n",
    "    Gender: Gender of the patients, where 0 represents Male and 1 represents Female.\n",
    "    Ethnicity: The ethnicity of the patients, coded as follows:\n",
    "    0: Caucasian\n",
    "    1: African American\n",
    "    2: Asian\n",
    "    3: Other\n",
    "    EducationLevel: The education level of the patients, coded as follows:\n",
    "    0: None\n",
    "    1: High School\n",
    "    2: Bachelor's\n",
    "    3: Higher\n",
    "\n",
    "Lifestyle Factors\n",
    "\n",
    "    BMI: Body Mass Index of the patients, ranging from 15 to 40.\n",
    "    Smoking: Smoking status, where 0 indicates No and 1 indicates Yes.\n",
    "    PhysicalActivity: Weekly physical activity in hours, ranging from 0 to 10.\n",
    "    DietQuality: Diet quality score, ranging from 0 to 10.\n",
    "    SleepQuality: Sleep quality score, ranging from 4 to 10.\n",
    "\n",
    "Environmental and Allergy Factors\n",
    "\n",
    "    PollutionExposure: Exposure to pollution, score from 0 to 10.\n",
    "    PollenExposure: Exposure to pollen, score from 0 to 10.\n",
    "    DustExposure: Exposure to dust, score from 0 to 10.\n",
    "    PetAllergy: Pet allergy status, where 0 indicates No and 1 indicates Yes.\n",
    "\n",
    "Medical History\n",
    "\n",
    "    FamilyHistoryAsthma: Family history of asthma, where 0 indicates No and 1 indicates Yes.\n",
    "    HistoryOfAllergies: History of allergies, where 0 indicates No and 1 indicates Yes.\n",
    "    Eczema: Presence of eczema, where 0 indicates No and 1 indicates Yes.\n",
    "    HayFever: Presence of hay fever, where 0 indicates No and 1 indicates Yes.\n",
    "    GastroesophagealReflux: Presence of gastroesophageal reflux, where 0 indicates No and 1 indicates Yes.\n",
    "\n",
    "Clinical Measurements\n",
    "\n",
    "    LungFunctionFEV1: Forced Expiratory Volume in 1 second (FEV1), ranging from 1.0 to 4.0 liters.\n",
    "    LungFunctionFVC: Forced Vital Capacity (FVC), ranging from 1.5 to 6.0 liters.\n",
    "\n",
    "Symptoms\n",
    "\n",
    "    Wheezing: Presence of wheezing, where 0 indicates No and 1 indicates Yes.\n",
    "    ShortnessOfBreath: Presence of shortness of breath, where 0 indicates No and 1 indicates Yes.\n",
    "    ChestTightness: Presence of chest tightness, where 0 indicates No and 1 indicates Yes.\n",
    "    Coughing: Presence of coughing, where 0 indicates No and 1 indicates Yes.\n",
    "    NighttimeSymptoms: Presence of nighttime symptoms, where 0 indicates No and 1 indicates Yes.\n",
    "    ExerciseInduced: Presence of symptoms induced by exercise, where 0 indicates No and 1 indicates Yes.\n",
    "\n",
    "Diagnosis Information\n",
    "\n",
    "    Diagnosis: Diagnosis status for Asthma, where 0 indicates No and 1 indicates Yes.\n",
    "\n",
    "Confidential Information\n",
    "\n",
    "    DoctorInCharge: This column contains confidential information about the doctor in charge, with \"Dr_Confid\" as the value for all patients.\n"
   ]
  },
  {
   "cell_type": "markdown",
   "id": "91039550-44ef-414e-82d5-f1cf20dff6c0",
   "metadata": {},
   "source": [
    "#### Imports:"
   ]
  },
  {
   "cell_type": "code",
   "execution_count": null,
   "id": "a19e5199-c85f-47be-a278-6fd4bd7c3aa7",
   "metadata": {},
   "outputs": [],
   "source": [
    "%matplotlib inline\n",
    "\n",
    "# data manipulation and math\n",
    "\n",
    "import numpy as np\n",
    "import scipy as sp\n",
    "import pandas as pd\n",
    "pd.set_option('display.max_columns', None)\n",
    "pd.set_option('display.max_colwidth', None)\n",
    "\n",
    "# plotting and visualization\n",
    "\n",
    "import matplotlib.pyplot as plt\n",
    "import seaborn as sns\n",
    "\n",
    "# modeling & pre-processing\n",
    "import sklearn.model_selection\n",
    "from sklearn.model_selection import train_test_split\n",
    "from sklearn.model_selection import KFold\n",
    "import sklearn.preprocessing\n",
    "import sklearn.metrics\n"
   ]
  },
  {
   "cell_type": "code",
   "execution_count": null,
   "id": "df376573-7f36-4253-a101-4a2dfeb8a260",
   "metadata": {},
   "outputs": [],
   "source": [
    "plt.rcParams['figure.figsize'] = [6,6]"
   ]
  },
  {
   "cell_type": "markdown",
   "id": "9df76bb5-939b-48e8-841c-9aa4d908f638",
   "metadata": {},
   "source": [
    "#### Set random seed for reproducability\n",
    "Note that this should not be done for models used in real-world applications"
   ]
  },
  {
   "cell_type": "code",
   "execution_count": null,
   "id": "e89426b6-da99-4dda-9e99-7d7ecd942bd4",
   "metadata": {},
   "outputs": [],
   "source": [
    "np.random.seed(9)"
   ]
  },
  {
   "cell_type": "markdown",
   "id": "140293a1-498e-4e49-aa7f-86fa4170ac75",
   "metadata": {},
   "source": [
    "#### Load the data into a pandas df"
   ]
  },
  {
   "cell_type": "code",
   "execution_count": null,
   "id": "97fc332c-2ae6-405d-8d7f-6bafa0570e50",
   "metadata": {},
   "outputs": [],
   "source": [
    "df_adhd = pd.read_csv('asthma_disease_data.csv')\n",
    "df_adhd.head()"
   ]
  },
  {
   "cell_type": "code",
   "execution_count": null,
   "id": "c74c7612-25f6-4e34-81fd-95cfac496a14",
   "metadata": {
    "editable": true,
    "slideshow": {
     "slide_type": ""
    },
    "tags": []
   },
   "outputs": [],
   "source": [
    "print('shape:', df_adhd.shape,'\\n')\n",
    "print('columns:\\n','\\n'.join(list(df_adhd.columns)))\n",
    "print('\\nnumber of cols:', len(df_adhd.columns))"
   ]
  },
  {
   "cell_type": "markdown",
   "id": "a07d35c0-036f-4b3a-8edc-21241953042a",
   "metadata": {},
   "source": [
    "# Data Wrangling"
   ]
  },
  {
   "cell_type": "code",
   "execution_count": null,
   "id": "2cb5136b-0b20-41ac-8632-fb96fe1de4f4",
   "metadata": {
    "editable": true,
    "slideshow": {
     "slide_type": ""
    },
    "tags": []
   },
   "outputs": [],
   "source": [
    "df_adhd.info()"
   ]
  },
  {
   "cell_type": "markdown",
   "id": "b0a3ad49-3ee3-452d-9dd6-734bcc8318ed",
   "metadata": {},
   "source": [
    "AP: No null values found, making my job here easier than expected."
   ]
  },
  {
   "cell_type": "code",
   "execution_count": null,
   "id": "191919d7-b8b3-4879-973d-92389bc51333",
   "metadata": {
    "editable": true,
    "slideshow": {
     "slide_type": ""
    },
    "tags": []
   },
   "outputs": [],
   "source": [
    "# AP: Looking at col names to ensure they make sense\n",
    "df_adhd.head()"
   ]
  },
  {
   "cell_type": "markdown",
   "id": "e0555c5f-0402-4a9d-b1d3-65e3bac42681",
   "metadata": {},
   "source": [
    "##### AP: Col names to edit:\n",
    "- Change all to lower case (mainly makes my typing easier/faster)\n",
    "- "
   ]
  },
  {
   "cell_type": "code",
   "execution_count": null,
   "id": "93241393-5f8f-4da3-b972-041232a3f9f9",
   "metadata": {},
   "outputs": [],
   "source": [
    "# AP: change col names to lower case\n",
    "df_adhd.columns = df_adhd.columns.str.lower()\n",
    "df_adhd.head()"
   ]
  },
  {
   "cell_type": "markdown",
   "id": "837f2c94-b4c2-4ee3-9692-4aff326f80ce",
   "metadata": {},
   "source": [
    "#### Check the data types, ensure they make sense for the column"
   ]
  },
  {
   "cell_type": "code",
   "execution_count": null,
   "id": "7699aa8d-3948-4447-9679-9824d766cc28",
   "metadata": {},
   "outputs": [],
   "source": [
    "df_adhd.dtypes"
   ]
  },
  {
   "cell_type": "markdown",
   "id": "67dfc871-1fed-43cc-a989-13bb706adc4b",
   "metadata": {},
   "source": [
    "##### AP: Data types check out. doctorincharge col has every value as \"Dr_Confid\" so object type makes sense."
   ]
  },
  {
   "cell_type": "markdown",
   "id": "5a014fd1-c6bb-4455-a8ba-3142fb259104",
   "metadata": {},
   "source": [
    "#### Visualize the data\n",
    "Detection of possible duplicates and outliers"
   ]
  },
  {
   "cell_type": "markdown",
   "id": "157e1e56-4a2e-4ef0-a23d-12365a6f9ca6",
   "metadata": {
    "editable": true,
    "slideshow": {
     "slide_type": ""
    },
    "tags": []
   },
   "source": [
    "df_adhd.hist(figsize=(8,8))\n",
    "plt.tight_layout()\n",
    "plt.show()"
   ]
  },
  {
   "cell_type": "markdown",
   "id": "c06cad6a-2d02-4d3c-bc1b-84e1c70d528a",
   "metadata": {},
   "source": [
    "AP: Most of the data is categorical between 0 or 1 (yes or no)\n",
    "Continuous values don't seem to have any specific distribution\n"
   ]
  },
  {
   "cell_type": "code",
   "execution_count": null,
   "id": "7660e06f-03ac-4468-b466-8c28594eebb9",
   "metadata": {},
   "outputs": [],
   "source": [
    "# AP: Make list of cols that are non-categorical in nature\n",
    "\n",
    "non_cat_cols = ['age', 'bmi', 'physicalactivity', 'dietquality', 'sleepquality', 'pollutionexposure', 'pollenexposure', 'dustexposure', 'lungfunctionfev1', 'lungfunctionfvc']"
   ]
  },
  {
   "cell_type": "markdown",
   "id": "cc04cb49-a40c-4bb0-88f5-de707231add0",
   "metadata": {},
   "source": [
    "#AP: box & whisker plot to see potential outliers\n",
    "df_adhd[non_cat_cols].boxplot(rot=34)\n",
    "plt.tight_layout()\n",
    "plt.show()"
   ]
  },
  {
   "cell_type": "markdown",
   "id": "20d5cc7c-1e20-464d-be2a-5f870c87dfcd",
   "metadata": {},
   "source": [
    "# Boxplot without age & bmi so other columns can be inspected more closely\n",
    "\n",
    "non_cat_cols_noagebmi = [element for element in non_cat_cols if element != 'age' and element != 'bmi']\n",
    "df_adhd[non_cat_cols_noagebmi].boxplot(rot=35)\n",
    "plt.tight_layout()\n",
    "plt.show()"
   ]
  },
  {
   "cell_type": "markdown",
   "id": "9b10dd69-268b-4e28-b204-4879a6a4f305",
   "metadata": {},
   "source": [
    "AP: No outliers seen, max & min's seem reasonable for non-categorical cols"
   ]
  },
  {
   "cell_type": "markdown",
   "id": "be3202e7-d4e0-46c7-a929-89dd92b6dddd",
   "metadata": {},
   "source": [
    "#### A look at consistency in values within columns\n",
    "ex. categorical values are within specified ranges, numerical values are within reasonable ranges for the metric measured"
   ]
  },
  {
   "cell_type": "code",
   "execution_count": null,
   "id": "626ca807-a1b2-463f-bcac-abff9961fd8d",
   "metadata": {},
   "outputs": [],
   "source": [
    "df_adhd.nunique(axis=0)"
   ]
  },
  {
   "cell_type": "markdown",
   "id": "6005228a-e918-4943-9aba-1f96f0cc206e",
   "metadata": {},
   "source": [
    " AP: The count of unique values within each column is consistent with expectations"
   ]
  },
  {
   "cell_type": "markdown",
   "id": "eff14923-7467-414c-9c8d-e1380ae113e1",
   "metadata": {
    "jp-MarkdownHeadingCollapsed": true
   },
   "source": [
    "## Data Wrangling Conclusions:\n",
    "\n",
    "- Data is tidy (each observation is a row, each variable is a col)\n",
    "- No null values found, making my job here easier than expected.\n",
    "- Data types for each col check out. (all but doctorincharge are numerical int or float) (doctorincharge col has every value as \"Dr_Confid\" so object type makes sense)\n",
    "- Continuous values don't seem to have any specific distribution (flat). Most of the data is categorical (17 out of 29 cols) between 0 or 1 (yes or no).\n",
    "- No outliers detected, max & min's seem reasonable for non-categorical cols\n",
    "- The count of unique values within each column is consistent with expectations (as many unique values for cat cols as there are categories for that col; and for all but 'age' col, unique values equals sample count)"
   ]
  },
  {
   "cell_type": "markdown",
   "id": "acd54eb7-7fe4-44cd-ae47-99facf272d9e",
   "metadata": {},
   "source": [
    "# EDA"
   ]
  },
  {
   "cell_type": "markdown",
   "id": "2978e2c1-3946-41d7-8805-2ba8df024cc9",
   "metadata": {},
   "source": [
    "The Data Wrangling performed above did change the dataset in that col names are now all lower case, no other changes were made."
   ]
  },
  {
   "cell_type": "markdown",
   "id": "9f0ded6e-526e-43a5-8b43-175c9d2ee244",
   "metadata": {},
   "source": [
    "EDA Major Tasks:\n",
    "\n",
    "1. Form hypotheses/develop investigation themes to explore\n",
    "2. Exploration of each individual variable\n",
    "3. Assessment of the relationship between each variable and the target variable\n",
    "4. Assessment of the interaction between variables\n",
    "5. Exploration of data across many dimensions\n",
    "\n",
    "Target Variable: 'diagnosis'"
   ]
  },
  {
   "cell_type": "code",
   "execution_count": null,
   "id": "c8d360b1-d226-4311-97f0-7a99551f6a16",
   "metadata": {},
   "outputs": [],
   "source": [
    "df_adhd.head()"
   ]
  },
  {
   "cell_type": "markdown",
   "id": "07780e25-a2c8-4ca8-99f3-2755f9981f1a",
   "metadata": {},
   "source": [
    "## List of hypothesis' to consider\n",
    "\n",
    "- Before fully investigating data: (just looking at rows and columns, plus the quick visualizations from data wrangling steps)\n",
    "    - a diagnosis of asthma (1) occurs with low lung FEV & FVC\n",
    "    - a diagnosis of asthma (1) occurs with >1 symptom being present\n",
    "    - smoking has a high correlation with asthma diagnosis\n",
    "    - increased bmi is correlated with asthma diagnosis\n",
    "    - ethnicity does not affect asthma diagnosis\n",
    "        - acknowledging the possibility of cultural differences that can occur within ethnicity groups that could affect Lifestyle & Environmental and Allergy Factors\n",
    "- During EDA:\n",
    "    - fdsf"
   ]
  },
  {
   "cell_type": "markdown",
   "id": "6975ee36-2273-41d4-97df-ca1542b087cd",
   "metadata": {},
   "source": [
    "#### Drop unnecessary cols"
   ]
  },
  {
   "cell_type": "markdown",
   "id": "33328210-5aa4-4658-9001-e677a90b8888",
   "metadata": {},
   "source": [
    "cols  only for imformational purposes: (shouldn't be used in calculations/modeling)\n",
    "- patientid\n",
    "    - unique identifier that would matter for tracking specific patients, not for model creation (can use the numbered index for that if needed)\n",
    "- doctorincharge\n",
    "    - all rows have identical value"
   ]
  },
  {
   "cell_type": "code",
   "execution_count": null,
   "id": "00efa631-3b85-4436-9244-d7a7447adb14",
   "metadata": {},
   "outputs": [],
   "source": [
    "df_adhd.drop(['patientid', 'doctorincharge'], axis=1, inplace=True)\n",
    "df_adhd.head()"
   ]
  },
  {
   "cell_type": "code",
   "execution_count": null,
   "id": "82bb31d8-ad05-4c99-8d31-2985c6e2b443",
   "metadata": {},
   "outputs": [],
   "source": [
    "#AP Making lists of categorical features and continuous features\n",
    "\n",
    "cols_num = []\n",
    "cols_cat = []\n",
    "\n",
    "for col in df_adhd.columns:\n",
    "    if df_adhd[col].nunique() <= 4:\n",
    "        cols_cat.append(col)\n",
    "    elif df_adhd[col].nunique() > 4:\n",
    "        cols_num.append(col)\n",
    "print('num_cols:\\n', cols_num, '\\nlen:', len(cols_num))\n",
    "print('\\ncat_cols:\\n', cols_cat, '\\nlen:', len(cols_cat))\n",
    "\n",
    "print('\\n')\n",
    "if len(set(cols_num) & set(cols_cat)) > 0:\n",
    "    print(\"col split didn't work right\")\n",
    "else:\n",
    "    print('Good job August!')"
   ]
  },
  {
   "cell_type": "code",
   "execution_count": null,
   "id": "6ff4013d-c0fc-4e9b-bf91-a1a92f1ccefd",
   "metadata": {},
   "outputs": [],
   "source": [
    "df_adhd_num = pd.concat([df_adhd[cols_num], df_adhd['diagnosis']], axis=1)\n",
    "df_adhd_cat = df_adhd[cols_cat] #don't need to add 'diagnosis col since it will already be included'"
   ]
  },
  {
   "cell_type": "markdown",
   "id": "8c0215a1-f9ea-422c-8d6b-c85492208457",
   "metadata": {},
   "source": [
    "### Explore each variable"
   ]
  },
  {
   "cell_type": "markdown",
   "id": "c93262a0-4215-4c87-a4ab-c6bfc38a51ec",
   "metadata": {},
   "source": [
    "#### Descriptive stats"
   ]
  },
  {
   "cell_type": "markdown",
   "id": "73484d87-a7a5-4cbb-a9c8-d5014e430c83",
   "metadata": {},
   "source": [
    "# AP: numerical columns\n",
    "df_adhd[cols_num].describe().T"
   ]
  },
  {
   "cell_type": "markdown",
   "id": "cdb9dd87-8840-42ad-ae09-32bcbfa424a7",
   "metadata": {},
   "source": [
    "# AP: categorical columns\n",
    "df_adhd[cols_cat].describe().T"
   ]
  },
  {
   "cell_type": "markdown",
   "id": "4fa25f8d-78c4-4a9e-8d02-3b2ab290aa47",
   "metadata": {},
   "source": [
    "# AP: Change cat cols to dtype 'category' for better describe()\n",
    "\n",
    "df_adhd[cols_cat].astype('category').describe().T"
   ]
  },
  {
   "cell_type": "markdown",
   "id": "035e8465-e232-46ca-a10e-77f97acfe443",
   "metadata": {},
   "source": [
    "#### Plotting"
   ]
  },
  {
   "cell_type": "markdown",
   "id": "27bbfa70-4a76-41c5-b531-f7e082f62c1e",
   "metadata": {},
   "source": [
    "# histograms of categorical cols\n",
    "\n",
    "df_adhd[cols_cat].hist()\n",
    "plt.tight_layout()\n",
    "plt.show()"
   ]
  },
  {
   "cell_type": "markdown",
   "id": "9ae935e1-7fdd-4e41-b044-be7548135008",
   "metadata": {},
   "source": [
    "# histograms of numerical cols\n",
    "\n",
    "df_adhd[cols_num].hist()\n",
    "plt.tight_layout()\n",
    "plt.show()"
   ]
  },
  {
   "cell_type": "markdown",
   "id": "87b1ff5b-f7a9-4214-a5ae-32e8043e45b5",
   "metadata": {},
   "source": [
    "All columns have relatively flat distributions, indicating potentially good sampling technique from the population"
   ]
  },
  {
   "cell_type": "markdown",
   "id": "b6a31425-b1be-461a-888c-d754e942f558",
   "metadata": {},
   "source": [
    "### Looking at rows where diagnosis=1 and seeing those relationships"
   ]
  },
  {
   "cell_type": "markdown",
   "id": "fe65aa24-c468-4d90-b832-e50a17905961",
   "metadata": {},
   "source": [
    "df_adhd[df_adhd['diagnosis']==1].hist(figsize=(8,8))\n",
    "plt.tight_layout()\n",
    "plt.show()"
   ]
  },
  {
   "cell_type": "markdown",
   "id": "1b938f4a-6590-4988-8dc0-4292fe46e665",
   "metadata": {},
   "source": [
    "This shows a more interesting picture. I'd like to overlay the opposing plot (diagnosis=0) on this to make a comparison (different colors and either step style or play with alpha value)"
   ]
  },
  {
   "cell_type": "markdown",
   "id": "9d0ed675-c2af-485c-9505-78db200d6454",
   "metadata": {},
   "source": [
    "for col in df_adhd.columns:\n",
    "    plt.figure(figsize=(6,3))\n",
    "    sns.histplot(df_adhd, x=df_adhd[col], kde=True, bins='auto', hue='diagnosis')\n",
    "    plt.title(col)\n",
    "    plt.show()"
   ]
  },
  {
   "cell_type": "markdown",
   "id": "7e45bc68-7838-4f85-90d9-bc1b329748b5",
   "metadata": {},
   "source": [
    "#AP: distributions where diagnosis=1 & 0 to compare since y-scale too large to effectively investigate diagnosis=1 histograms\n",
    "\n",
    "for col in df_adhd.columns:\n",
    "    df_adhd_1 = df_adhd[df_adhd['diagnosis']==1]\n",
    "    plt.figure(figsize=(6,3))\n",
    "    sns.histplot(df_adhd_1, x=df_adhd_1[col], kde=True, bins='auto')\n",
    "    plt.title(f'{col} (diagnosis=1)')\n",
    "    plt.show()\n",
    "    \n",
    "    df_adhd_0 = df_adhd[df_adhd['diagnosis']==0]\n",
    "    plt.figure(figsize=(6,3))\n",
    "    sns.histplot(df_adhd_0, x=df_adhd[col], kde=True, bins='auto')\n",
    "    plt.title(f'{col} (diagnosis=0)')\n",
    "    plt.show()"
   ]
  },
  {
   "cell_type": "markdown",
   "id": "c496a8d6-16c4-43b7-9c1a-b43db6feb7ef",
   "metadata": {},
   "source": [
    "#AP: turning into markdown cell, sns.histplot does this better & prettier. Keeping this code to look back on in future\n",
    "\n",
    "#AP: plotting the distributions of all continuous cols, making comparison between diagnosis=0 & diagnosis=1 \n",
    "for col in df_adhd_num.columns:\n",
    "    fig1, ax1 = plt.subplots()\n",
    "    fig1.set_size_inches(w=4.0, h=2.5)\n",
    "    ax1.hist(x=col, data=df_adhd_num[df_adhd_num['diagnosis']==1], alpha=0.5, color='b', label='Diagnosis=1', histtype='step')\n",
    "    ax1.hist(x=col, data=df_adhd_num[df_adhd_num['diagnosis']==0], alpha=0.5, color='r', label='Diagnosis=0', histtype='step')\n",
    "    ax1.hist(x=col, data=df_adhd_num, alpha=0.5, color='g', label='All Data', histtype='step')\n",
    "    ax1.set_title(f'{col} column')\n",
    "    ax1.legend(loc='best', fontsize='x-small')\n",
    "    plt.show()"
   ]
  },
  {
   "cell_type": "markdown",
   "id": "16860371-2eae-426a-a5ec-25e795475a27",
   "metadata": {},
   "source": [
    "#AP: seperated distributions of cont cols, since overlaid hist plots can't show much detail of these due to diagnosis=0 makes y-axis range too high\n",
    "df_adhd_num[df_adhd_num['diagnosis']==1].hist(figsize=(6,6))\n",
    "plt.tight_layout()\n",
    "plt.show()"
   ]
  },
  {
   "cell_type": "markdown",
   "id": "2cd8e18d-3fd1-4d98-9dbd-04b838fff198",
   "metadata": {},
   "source": [
    "#### Continuous col Comparitive distribution takeaways:\n",
    "\n",
    "- Many fewer samples for diagnosis=1 than diagnosis=0\n",
    "- Generally flat distributions for both diagnosis=0 & diagnosis=1\n",
    "- No clear indication of a feature that differs between 1 or 0 for diagnosis\n",
    "    - will be trying scatter plots next to investigate correlation between continuous features and target"
   ]
  },
  {
   "cell_type": "markdown",
   "id": "7c656d60-71d7-4d60-bfb3-91ee6d621372",
   "metadata": {},
   "source": [
    "#AP: turning into markdown cell, sns.histplot does this better & prettier. Keeping this code to look back on in future\n",
    "\n",
    "#AP: plotting the distributions of all categorical cols, making comparison between diagnosis=0 & diagnosis=1\n",
    "\n",
    "for col in df_adhd_cat.columns:\n",
    "    fig2, ax2 = plt.subplots()\n",
    "    fig2.set_size_inches(w=4.0, h=2.5)\n",
    "    ax2.hist(x=col, data=df_adhd_cat[df_adhd_cat['diagnosis']==1], alpha=0.5, color='b', label='Diagnosis=1', histtype='step')\n",
    "    ax2.hist(x=col, data=df_adhd_cat[df_adhd_cat['diagnosis']==0], alpha=0.5, color='r', label='Diagnosis=0', histtype='step')\n",
    "    ax2.hist(x=col, data=df_adhd_cat, alpha=0.5, color='g', label='All Data', histtype='step')\n",
    "    ax2.set_title(f'{col} column')\n",
    "    ax2.legend(loc='best', fontsize='x-small')\n",
    "    plt.show()"
   ]
  },
  {
   "cell_type": "markdown",
   "id": "c1949e7b-5821-4465-9ac3-60741492f414",
   "metadata": {},
   "source": [
    "#AP: seperated distributions of cat cols, since overlaid hist plots can't show much detail of these due to diagnosis=0 makes y-axis range too high\n",
    "df_adhd_cat[df_adhd_cat['diagnosis']==1].hist(figsize=(6,6))\n",
    "plt.tight_layout(pad=0.3)\n",
    "plt.show()"
   ]
  },
  {
   "cell_type": "markdown",
   "id": "e3f759dc-b019-4ffc-802a-adf1297d481a",
   "metadata": {},
   "source": [
    "#### Categorical col Comparitive distribution takeaways:\n",
    "\n",
    "- Many fewer samples for diagnosis=1 than diagnosis=0\n",
    "- Presence of symptoms has potential for use in asthma prediction, diagnosis=1 mostly shows symptoms being present more often than not\n",
    "    - Kind of expected since diagnosis is usually based on symptoms\n",
    "- Other cols (non-symptoms) are not showing me a clear difference between diagnosis 0 or 1"
   ]
  },
  {
   "cell_type": "markdown",
   "id": "eb2df95d-31a8-4414-b949-eaa7d4d045b6",
   "metadata": {},
   "source": [
    "### Scatter plots of contininuous cols to investigate if there is a relationship to target"
   ]
  },
  {
   "cell_type": "markdown",
   "id": "6801218e-21d1-42b6-9b73-6aca73b6821f",
   "metadata": {},
   "source": [
    "#AP: plotting the distributions of all continuous cols, making comparison between diagnosis=0 & diagnosis=1 \n",
    "\n",
    "#for col in df_adhd_num.columns:\n",
    "#    fig1, ax1 = plt.subplots()\n",
    "#    fig1.set_size_inches(w=4.0, h=2.5)\n",
    "#    ax1.scatter(x=col, y='diagnosis', data=df_adhd_num, alpha=0.5, color='b',)\n",
    "#    #ax1.plot(x=col, data=df_adhd_num[df_adhd_num['diagnosis']==0], alpha=0.5, color='r', label='Diagnosis=0', histtype='step')\n",
    "#    ax1.set_title(f'{col} column')\n",
    "#    #ax1.legend(loc='best', fontsize='x-small')\n",
    "#    plt.show()"
   ]
  },
  {
   "cell_type": "markdown",
   "id": "56b7ad8f-6b28-4f0e-a3dc-71fec52dd573",
   "metadata": {},
   "source": [
    "AP: Of course a scatter plot wouldn't work when plotting vs a binary variable. Distributions & comparing between diagnosis= 0 or 1 helps draw clearer picture of relationships"
   ]
  },
  {
   "cell_type": "markdown",
   "id": "5c59f3a9-6cc0-48de-bc4c-87120494934f",
   "metadata": {},
   "source": [
    "### Visualizing possible relationships with a heatmap"
   ]
  },
  {
   "cell_type": "markdown",
   "id": "e5f2ea1a-f659-48fc-974c-30eab33d93fb",
   "metadata": {},
   "source": [
    "plt.figure(figsize=(12,10))\n",
    "sns.heatmap(df_adhd.corr(), annot=False)\n",
    "    #AP: lighter means more correlation"
   ]
  },
  {
   "cell_type": "markdown",
   "id": "a0103875-17d2-414b-97ad-23289c8a7656",
   "metadata": {},
   "source": [
    "# Heatmap of only continuous features: (easier for eyes to digest the plot)\n",
    "\n",
    "plt.figure(figsize=(12,10))\n",
    "sns.heatmap(df_adhd_num.corr(), annot=True)"
   ]
  },
  {
   "cell_type": "markdown",
   "id": "1781b1e4-90d3-46ba-b52f-7a143353e3f6",
   "metadata": {},
   "source": [
    "# Heatmap of only categorical features: (easier for eyes to digest the plot)\n",
    "\n",
    "plt.figure(figsize=(12,10))\n",
    "sns.heatmap(df_adhd_cat.corr(), annot=False)"
   ]
  },
  {
   "cell_type": "markdown",
   "id": "e229a886-59ee-437d-81aa-2395bc15b490",
   "metadata": {},
   "source": [
    "Pairplot with blue as diagnosis=0 & orange as diagnosis=1\n",
    "Used to \"quickly\" investigate if there is any relationship between different features"
   ]
  },
  {
   "cell_type": "markdown",
   "id": "f481f280-9a09-4ff7-911b-73f0d8dd2943",
   "metadata": {},
   "source": [
    "#AP Pairplot for the continuous cols (cat cols would not be helpful since values are just 0 or 1)\n",
    "sns.pairplot(df_adhd_num, hue='diagnosis')\n",
    "plt.show()"
   ]
  },
  {
   "cell_type": "markdown",
   "id": "9c272a27-c1ec-47a6-82db-03007693a95a",
   "metadata": {},
   "source": [
    "## EDA Conclusions"
   ]
  },
  {
   "cell_type": "markdown",
   "id": "b3dd6ad3-a2ae-4be3-9db7-8d718f6139bc",
   "metadata": {},
   "source": [
    "### Comments on the data itself:\n",
    "\n",
    "- The sampling from the population for this dataset seems well done in that it doesn't seem biased towards lower, upper or middle ranges for the **continuous** features\n",
    "- Distributions for continuos cols are relatively flat\n",
    "    - pollenexposure is *almost* bimodal, but not clear enough for me to confidently classify it as such\n",
    "- Categorical cols showing skewness towards value of 0, indication non-presence of the feature)\n",
    "    - smoking, petallergy, familyhistoryasthma, eczema, hayfever, gastroesophagealreflux, diagnosis (the target feature)\n",
    "    - Skewniss not surprising since these features should be in minority within the population\n",
    "- Categorical cols showing skewness towards value of 1, indication presence of the feature)\n",
    "    - wheezing, nighttimesymptoms, exerciseinduced\n",
    "    - each feature only 200 \"1\" samples more than \"0\" in 2392 sample dataset (close to 60% of samples with \"1\" value for each of the features)"
   ]
  },
  {
   "cell_type": "markdown",
   "id": "16d520f8-c0e7-4a64-8c16-14af8dc9463b",
   "metadata": {},
   "source": [
    "### Relationships between each feature & target\n",
    "\n",
    "- Continuous cols:\n",
    "    - No feature shows a true relationship between a lower, middle, or upper range and a diagnosis=1\n",
    "    -  lungfunctionfev1 & lungfunctionfvc both show a potential that a higher value may correlate with a diagnosis=1, this appears to be a week relationship at current investigative stages\n",
    "    -  dustexposure seems to correlate to diagnosis=1 with lower values\n",
    "        - I would have originally expected higher values to correlate\n",
    "- Categorical cols:\n",
    "    - All cat cols except those listed below have distributions that are a very close match between diagnosis=0 & =1\n",
    "    - Cat cols with non matching distributions between diagnosis= 0 or 1 & notes\n",
    "        - shortnessofbreath: fewer shortnessofbreath=1 than =0 where diag=1 (where diag=0, ratio between shortnessofbreath=0 or 1 was just about equal)\n",
    "        -  chesttightness: fewer chesttightness=1 than =0 where diag=1 (where diag=0, ratio between chesttightness=0 or 1 was just about equal)\n",
    "        -  coughing: fewer coughing=1 than =0 where diag=1 (where diag=0, ratio between coughing=0 or 1 was just about equal)"
   ]
  },
  {
   "cell_type": "markdown",
   "id": "e94d54be-42b4-491d-8258-444c9faadb5c",
   "metadata": {},
   "source": [
    "### Inter-feature relationships:\n",
    "\n",
    "- No strong realtionships between features found using heatmaps or pairplots"
   ]
  },
  {
   "cell_type": "markdown",
   "id": "f89d5b64-619b-4b4e-bba6-4cb09ad13c55",
   "metadata": {},
   "source": [
    "### Next steps thoughts:\n",
    "\n",
    "- Explore if combinations of features (& which combos) correlate with the target\n",
    "    - ex. does a combo of bmi & PollutionExposure result in diag=1 when both those values are high?\n",
    "    - Kind of already done with the pairplot since colored points based of diagnosis value"
   ]
  },
  {
   "cell_type": "markdown",
   "id": "a4507b45-0482-4a7a-975e-aae36c4d72f9",
   "metadata": {},
   "source": [
    "# Preprocessing and Training Data Development"
   ]
  },
  {
   "cell_type": "markdown",
   "id": "f890b847-f835-46d4-b4e4-c0f50f7c7e58",
   "metadata": {},
   "source": [
    "AP: Note that I have converted previous step cells to markdown cells to reduce system resource usage (just faster to rerun code so slower cells don't slow me down) (Mostly just the cells that made plots)"
   ]
  },
  {
   "cell_type": "markdown",
   "id": "0e4ef76d-a8d6-4ae5-a6ed-1d2c064cd610",
   "metadata": {},
   "source": [
    "usefull vars I've made:\n",
    "\n",
    "- df_adhd_num : the continuous/numerical columns\n",
    "- df_adhd_cat : the categorical columns. Values are mostly binary (0 or 1)"
   ]
  },
  {
   "cell_type": "markdown",
   "id": "f8b0b668-8588-4db0-b436-016058880782",
   "metadata": {},
   "source": [
    "Goal: Create a cleaned development dataset you can use to complete the\n",
    "modeling step of your project.\n",
    "\n",
    "Steps:\n",
    "\n",
    "- Dummy features for categorical variables\n",
    "- Standardize the magnitude of numeric features using a scaler\n",
    "- Split data into testing and training datasets\n",
    "\n",
    "Optional Steps: (If I can include within reasonable timeframe and effort)\n",
    "\n",
    "- create new features based on existing features\n",
    "    - ex. combine multiple cat cols to see if there's a min threshold of feature=1 (presence of feature) for diagnosis=1"
   ]
  },
  {
   "cell_type": "markdown",
   "id": "b3561334-599a-4b45-82f0-c2a2129c92cb",
   "metadata": {},
   "source": [
    "## Dummy features for categorical variables"
   ]
  },
  {
   "cell_type": "code",
   "execution_count": null,
   "id": "b0a3f167-53ad-425a-97b7-85fd2597a2d2",
   "metadata": {},
   "outputs": [],
   "source": [
    "df_adhd_cat.head()"
   ]
  },
  {
   "cell_type": "code",
   "execution_count": null,
   "id": "c24276e4-1c78-4a6a-8590-bb4aac269743",
   "metadata": {},
   "outputs": [],
   "source": [
    "df_adhd_cat.dtypes"
   ]
  },
  {
   "cell_type": "code",
   "execution_count": null,
   "id": "a18c3f96-9265-4a40-9cd9-abca1783f166",
   "metadata": {},
   "outputs": [],
   "source": [
    "df_adhd_cat.nunique()"
   ]
  },
  {
   "cell_type": "markdown",
   "id": "8297c180-9dc5-4c24-a42c-4a2befaeb2a4",
   "metadata": {},
   "source": [
    "AP: nunique shows that there is already limited values for each col, suggesting non-continuous"
   ]
  },
  {
   "cell_type": "code",
   "execution_count": null,
   "id": "be6ad854-aab7-4a5b-ab4b-406f073dd5fb",
   "metadata": {
    "scrolled": true
   },
   "outputs": [],
   "source": [
    "for col in df_adhd_cat.columns:\n",
    "    print(df_adhd_cat[col].value_counts().sort_index())"
   ]
  },
  {
   "cell_type": "markdown",
   "id": "42ff0146-4423-4090-9429-2f7312975fcc",
   "metadata": {},
   "source": [
    "AP: each col is confirmed to already be encoded such that I don't need to create dummy variables"
   ]
  },
  {
   "cell_type": "markdown",
   "id": "23103d78-9d88-4c2d-9517-b4f54807c612",
   "metadata": {},
   "source": [
    "## Make X & y"
   ]
  },
  {
   "cell_type": "code",
   "execution_count": null,
   "id": "3a9a2ba3-88b9-4f82-b7c0-5d58fb81b7a7",
   "metadata": {},
   "outputs": [],
   "source": [
    "#X's so I can transform continuous/numerical cols and merge the categorical cols back in\n",
    "X_num = df_adhd_num.drop('diagnosis', axis=1)\n",
    "X_cat = df_adhd_cat.drop('diagnosis', axis=1)\n",
    "\n",
    "#The real X & y\n",
    "X =  df_adhd.drop('diagnosis', axis=1)\n",
    "y = df_adhd['diagnosis']"
   ]
  },
  {
   "cell_type": "markdown",
   "id": "22aae110-28e4-465f-9fbd-4497588d24a0",
   "metadata": {},
   "source": [
    "## Standardize the magnitude of numeric features using a scaler"
   ]
  },
  {
   "cell_type": "code",
   "execution_count": null,
   "id": "4d0b40be-02dc-4aa9-88ac-9c13a3ef60ca",
   "metadata": {},
   "outputs": [],
   "source": [
    "scaler_insta = sklearn.preprocessing.MinMaxScaler()\n",
    "\n",
    "scaler = scaler_insta.fit(X_num)"
   ]
  },
  {
   "cell_type": "code",
   "execution_count": null,
   "id": "864f8474-b589-46f9-b863-f11d5ab9ed41",
   "metadata": {},
   "outputs": [],
   "source": [
    "X_scaled = scaler.transform(X_num)\n",
    "X_scaled = pd.DataFrame(X_scaled, columns=X_num.columns)\n",
    "X_scaled.head()"
   ]
  },
  {
   "cell_type": "code",
   "execution_count": null,
   "id": "3f658b16-d19d-43f9-8b4e-17704f375ae5",
   "metadata": {},
   "outputs": [],
   "source": [
    "X_scaled = pd.concat([df_scaled, X_cat], axis=1)\n",
    "\n",
    "X_scaled.head()"
   ]
  },
  {
   "cell_type": "markdown",
   "id": "97b4476c-d728-482b-909d-83c9e92a2276",
   "metadata": {},
   "source": [
    "### Reasoning behind scaler choice:\n",
    "I chose a MinMaxScaler instead of StandardScaler because having values range from 0 to 1 makes more sense in my head than having the values centered around zero. Essentially 0 & 1 represent the min and max values of the feature with the values in between scaled to essentially be a proportion of where they lay in the range from the original min to max values"
   ]
  },
  {
   "cell_type": "markdown",
   "id": "70e8739a-8e17-4b28-b779-53d606d2881f",
   "metadata": {},
   "source": [
    "## Split data into training and testing subsets"
   ]
  },
  {
   "cell_type": "code",
   "execution_count": null,
   "id": "7fac42fd-cc26-4de0-8523-aaf7b79c9dac",
   "metadata": {},
   "outputs": [],
   "source": [
    "X_train, X_test, y_train, y_test = train_test_split(X_scaled, y, test_size = 0.25)"
   ]
  },
  {
   "cell_type": "code",
   "execution_count": null,
   "id": "d718ae3b-9225-42c7-9f71-b1da362fe61c",
   "metadata": {},
   "outputs": [],
   "source": [
    "print(f'shape of X_train: {X_train.shape}')\n",
    "print(f'shape of X_test: {X_test.shape}')\n",
    "print(f'shape of y_train: {y_train.shape}')\n",
    "print(f'shape of y_test: {y_test.shape}')"
   ]
  },
  {
   "cell_type": "code",
   "execution_count": null,
   "id": "905556c8-7339-424d-8dbc-4e94d7d70872",
   "metadata": {},
   "outputs": [],
   "source": []
  }
 ],
 "metadata": {
  "kernelspec": {
   "display_name": "Python 3 (ipykernel)",
   "language": "python",
   "name": "python3"
  },
  "language_info": {
   "codemirror_mode": {
    "name": "ipython",
    "version": 3
   },
   "file_extension": ".py",
   "mimetype": "text/x-python",
   "name": "python",
   "nbconvert_exporter": "python",
   "pygments_lexer": "ipython3",
   "version": "3.12.3"
  }
 },
 "nbformat": 4,
 "nbformat_minor": 5
}

{
 "cells": [
  {
   "cell_type": "markdown",
   "id": "272fd495-63c2-4301-9370-0db65946ddff",
   "metadata": {},
   "source": [
    "# August Perez Capstone Two Project:\n",
    "## Asthma prediction model\n",
    "\n",
    "The goal is to build a model with at least 90% sensitivity (focusing on reducing false negatives)\n",
    "\n",
    "Data source: Asthma Disease Dataset (https://www.kaggle.com/datasets/rabieelkharoua/asthma-disease-dataset?resource=download)\n",
    "\n",
    "#### About the dataset: (from the kaggle description)\n",
    "- health information for 2,392 patients\n",
    "  - includes demographic details, lifestyle factors, environmental and allergy factors, medical history, clinical measurements, symptoms, and a diagnosis indicator\n"
   ]
  },
  {
   "cell_type": "markdown",
   "id": "4c212cea-f76d-439a-96bc-fd1b96217e44",
   "metadata": {},
   "source": [
    "Column Info: (from Kaggle description)\n",
    "Patient ID\n",
    "\n",
    "    PatientID: A unique identifier assigned to each patient (5034 to 7425).\n",
    "\n",
    "Demographic Details\n",
    "\n",
    "    Age: The age of the patients ranges from 5 to 80 years.\n",
    "    Gender: Gender of the patients, where 0 represents Male and 1 represents Female.\n",
    "    Ethnicity: The ethnicity of the patients, coded as follows:\n",
    "    0: Caucasian\n",
    "    1: African American\n",
    "    2: Asian\n",
    "    3: Other\n",
    "    EducationLevel: The education level of the patients, coded as follows:\n",
    "    0: None\n",
    "    1: High School\n",
    "    2: Bachelor's\n",
    "    3: Higher\n",
    "\n",
    "Lifestyle Factors\n",
    "\n",
    "    BMI: Body Mass Index of the patients, ranging from 15 to 40.\n",
    "    Smoking: Smoking status, where 0 indicates No and 1 indicates Yes.\n",
    "    PhysicalActivity: Weekly physical activity in hours, ranging from 0 to 10.\n",
    "    DietQuality: Diet quality score, ranging from 0 to 10.\n",
    "    SleepQuality: Sleep quality score, ranging from 4 to 10.\n",
    "\n",
    "Environmental and Allergy Factors\n",
    "\n",
    "    PollutionExposure: Exposure to pollution, score from 0 to 10.\n",
    "    PollenExposure: Exposure to pollen, score from 0 to 10.\n",
    "    DustExposure: Exposure to dust, score from 0 to 10.\n",
    "    PetAllergy: Pet allergy status, where 0 indicates No and 1 indicates Yes.\n",
    "\n",
    "Medical History\n",
    "\n",
    "    FamilyHistoryAsthma: Family history of asthma, where 0 indicates No and 1 indicates Yes.\n",
    "    HistoryOfAllergies: History of allergies, where 0 indicates No and 1 indicates Yes.\n",
    "    Eczema: Presence of eczema, where 0 indicates No and 1 indicates Yes.\n",
    "    HayFever: Presence of hay fever, where 0 indicates No and 1 indicates Yes.\n",
    "    GastroesophagealReflux: Presence of gastroesophageal reflux, where 0 indicates No and 1 indicates Yes.\n",
    "\n",
    "Clinical Measurements\n",
    "\n",
    "    LungFunctionFEV1: Forced Expiratory Volume in 1 second (FEV1), ranging from 1.0 to 4.0 liters.\n",
    "    LungFunctionFVC: Forced Vital Capacity (FVC), ranging from 1.5 to 6.0 liters.\n",
    "\n",
    "Symptoms\n",
    "\n",
    "    Wheezing: Presence of wheezing, where 0 indicates No and 1 indicates Yes.\n",
    "    ShortnessOfBreath: Presence of shortness of breath, where 0 indicates No and 1 indicates Yes.\n",
    "    ChestTightness: Presence of chest tightness, where 0 indicates No and 1 indicates Yes.\n",
    "    Coughing: Presence of coughing, where 0 indicates No and 1 indicates Yes.\n",
    "    NighttimeSymptoms: Presence of nighttime symptoms, where 0 indicates No and 1 indicates Yes.\n",
    "    ExerciseInduced: Presence of symptoms induced by exercise, where 0 indicates No and 1 indicates Yes.\n",
    "\n",
    "Diagnosis Information\n",
    "\n",
    "    Diagnosis: Diagnosis status for Asthma, where 0 indicates No and 1 indicates Yes.\n",
    "\n",
    "Confidential Information\n",
    "\n",
    "    DoctorInCharge: This column contains confidential information about the doctor in charge, with \"Dr_Confid\" as the value for all patients.\n"
   ]
  },
  {
   "cell_type": "markdown",
   "id": "91039550-44ef-414e-82d5-f1cf20dff6c0",
   "metadata": {},
   "source": [
    "#### Imports:"
   ]
  },
  {
   "cell_type": "code",
   "execution_count": null,
   "id": "a19e5199-c85f-47be-a278-6fd4bd7c3aa7",
   "metadata": {},
   "outputs": [],
   "source": [
    "%matplotlib inline\n",
    "\n",
    "# data manipulation and math\n",
    "\n",
    "import numpy as np\n",
    "import scipy as sp\n",
    "import pandas as pd\n",
    "pd.set_option('display.max_columns', None)\n",
    "pd.set_option('display.max_colwidth', None)\n",
    "\n",
    "# plotting and visualization\n",
    "\n",
    "import matplotlib.pyplot as plt\n",
    "import seaborn as sns\n",
    "\n",
    "# modeling & pre-processing\n",
    "import sklearn.model_selection\n",
    "from sklearn.model_selection import train_test_split\n",
    "from sklearn.model_selection import KFold\n",
    "import sklearn.preprocessing\n",
    "import sklearn.metrics\n"
   ]
  },
  {
   "cell_type": "markdown",
   "id": "9df76bb5-939b-48e8-841c-9aa4d908f638",
   "metadata": {},
   "source": [
    "#### Set random seed for reproducability\n",
    "Note that this should not be done for models used in real-world applications"
   ]
  },
  {
   "cell_type": "code",
   "execution_count": null,
   "id": "e89426b6-da99-4dda-9e99-7d7ecd942bd4",
   "metadata": {},
   "outputs": [],
   "source": [
    "np.random.seed(9)"
   ]
  },
  {
   "cell_type": "markdown",
   "id": "140293a1-498e-4e49-aa7f-86fa4170ac75",
   "metadata": {},
   "source": [
    "#### Load the data into a pandas df"
   ]
  },
  {
   "cell_type": "code",
   "execution_count": null,
   "id": "97fc332c-2ae6-405d-8d7f-6bafa0570e50",
   "metadata": {},
   "outputs": [],
   "source": [
    "df_adhd = pd.read_csv('asthma_disease_data.csv')\n",
    "df_adhd.head()"
   ]
  },
  {
   "cell_type": "code",
   "execution_count": null,
   "id": "c74c7612-25f6-4e34-81fd-95cfac496a14",
   "metadata": {
    "editable": true,
    "slideshow": {
     "slide_type": ""
    },
    "tags": []
   },
   "outputs": [],
   "source": [
    "print('shape:', df_adhd.shape,'\\n')\n",
    "print('columns:\\n','\\n'.join(list(df_adhd.columns)))\n",
    "print('\\nnumber of cols:', len(df_adhd.columns))"
   ]
  },
  {
   "cell_type": "markdown",
   "id": "a07d35c0-036f-4b3a-8edc-21241953042a",
   "metadata": {},
   "source": [
    "#### Data Wrangling"
   ]
  },
  {
   "cell_type": "code",
   "execution_count": null,
   "id": "2cb5136b-0b20-41ac-8632-fb96fe1de4f4",
   "metadata": {
    "editable": true,
    "slideshow": {
     "slide_type": ""
    },
    "tags": []
   },
   "outputs": [],
   "source": [
    "df_adhd.info()"
   ]
  },
  {
   "cell_type": "markdown",
   "id": "b0a3ad49-3ee3-452d-9dd6-734bcc8318ed",
   "metadata": {},
   "source": [
    "AP: No null values found, making my job here easier than expected."
   ]
  },
  {
   "cell_type": "code",
   "execution_count": null,
   "id": "191919d7-b8b3-4879-973d-92389bc51333",
   "metadata": {
    "editable": true,
    "slideshow": {
     "slide_type": ""
    },
    "tags": []
   },
   "outputs": [],
   "source": [
    "# AP: Looking at col names to ensure they make sense\n",
    "df_adhd.head()"
   ]
  },
  {
   "cell_type": "markdown",
   "id": "e0555c5f-0402-4a9d-b1d3-65e3bac42681",
   "metadata": {},
   "source": [
    "##### AP: Col names to edit:\n",
    "- Change all to lower case (mainly makes my typing easier/faster)\n",
    "- "
   ]
  },
  {
   "cell_type": "code",
   "execution_count": null,
   "id": "93241393-5f8f-4da3-b972-041232a3f9f9",
   "metadata": {},
   "outputs": [],
   "source": [
    "# AP: change col names to lower case\n",
    "df_adhd.columns = df_adhd.columns.str.lower()\n",
    "df_adhd.head()"
   ]
  },
  {
   "cell_type": "markdown",
   "id": "837f2c94-b4c2-4ee3-9692-4aff326f80ce",
   "metadata": {},
   "source": [
    "#### Check the data types, ensure they make sense for the column"
   ]
  },
  {
   "cell_type": "code",
   "execution_count": null,
   "id": "7699aa8d-3948-4447-9679-9824d766cc28",
   "metadata": {},
   "outputs": [],
   "source": [
    "df_adhd.dtypes"
   ]
  },
  {
   "cell_type": "markdown",
   "id": "67dfc871-1fed-43cc-a989-13bb706adc4b",
   "metadata": {},
   "source": [
    "##### AP: Data types check out. doctorincharge col has every value as \"Dr_Confid\" so object type makes sense."
   ]
  },
  {
   "cell_type": "markdown",
   "id": "5a014fd1-c6bb-4455-a8ba-3142fb259104",
   "metadata": {},
   "source": [
    "#### Visualize the data\n",
    "Detection of possible duplicates and outliers"
   ]
  },
  {
   "cell_type": "code",
   "execution_count": null,
   "id": "c012c4bb-8df0-4c58-985d-ee74ddab699f",
   "metadata": {
    "editable": true,
    "slideshow": {
     "slide_type": ""
    },
    "tags": []
   },
   "outputs": [],
   "source": [
    "df_adhd.hist(figsize=(8,8))\n",
    "plt.tight_layout()\n",
    "plt.show()"
   ]
  },
  {
   "cell_type": "markdown",
   "id": "c06cad6a-2d02-4d3c-bc1b-84e1c70d528a",
   "metadata": {},
   "source": [
    "AP: Most of the data is categorical between 0 or 1 (yes or no)\n",
    "Continuous values don't seem to have any specific distribution\n"
   ]
  },
  {
   "cell_type": "code",
   "execution_count": null,
   "id": "7660e06f-03ac-4468-b466-8c28594eebb9",
   "metadata": {},
   "outputs": [],
   "source": [
    "# AP: Make list of cols that are non-categorical in nature\n",
    "\n",
    "non_cat_cols = ['age', 'bmi', 'physicalactivity', 'dietquality', 'sleepquality', 'pollutionexposure', 'pollenexposure', 'dustexposure', 'lungfunctionfev1', 'lungfunctionfvc']"
   ]
  },
  {
   "cell_type": "code",
   "execution_count": null,
   "id": "2d652eff-3f07-4fdb-83cd-aa5c005c579a",
   "metadata": {},
   "outputs": [],
   "source": [
    "#AP: box & whisker plot to see potential outliers\n",
    "df_adhd[non_cat_cols].boxplot(figsize=(9,9), rot=34)\n",
    "plt.tight_layout()\n",
    "plt.show()"
   ]
  },
  {
   "cell_type": "code",
   "execution_count": null,
   "id": "37a2c022-b809-47b3-a9ba-17a60eeef838",
   "metadata": {},
   "outputs": [],
   "source": [
    "# Boxplot without age & bmi so other columns can be inspected more closely\n",
    "\n",
    "non_cat_cols_noagebmi = [element for element in non_cat_cols if element != 'age' and element != 'bmi']\n",
    "df_adhd[non_cat_cols_noagebmi].boxplot(figsize=(9,9), rot=35)\n",
    "plt.tight_layout()\n",
    "plt.show()"
   ]
  },
  {
   "cell_type": "markdown",
   "id": "9b10dd69-268b-4e28-b204-4879a6a4f305",
   "metadata": {},
   "source": [
    "AP: No outliers seen, max & min's seem reasonable for non-categorical cols"
   ]
  },
  {
   "cell_type": "markdown",
   "id": "be3202e7-d4e0-46c7-a929-89dd92b6dddd",
   "metadata": {},
   "source": [
    "#### A look at consistency in values within columns\n",
    "ex. categorical values are within specified ranges, numerical values are within reasonable ranges for the metric measured"
   ]
  },
  {
   "cell_type": "code",
   "execution_count": null,
   "id": "626ca807-a1b2-463f-bcac-abff9961fd8d",
   "metadata": {},
   "outputs": [],
   "source": [
    "df_adhd.nunique(axis=0)"
   ]
  },
  {
   "cell_type": "markdown",
   "id": "6005228a-e918-4943-9aba-1f96f0cc206e",
   "metadata": {},
   "source": [
    "#### AP: The count of unique values within each column is consistent with expectations"
   ]
  },
  {
   "cell_type": "markdown",
   "id": "87c43faa-11de-4899-97a0-608c2cc6bd8a",
   "metadata": {},
   "source": [
    "## Data Wrangling Conclusions:\n",
    "\n",
    "- Data is tidy (each observation is a row, each variable is a col)\n",
    "- No null values found, making my job here easier than expected.\n",
    "- Data types for each col check out. (all but doctorincharge are numerical int or float) (doctorincharge col has every value as \"Dr_Confid\" so object type makes sense)\n",
    "- Continuous values don't seem to have any specific distribution (flat). Most of the data is categorical (17 out of 29 cols) between 0 or 1 (yes or no).\n",
    "- No outliers detected, max & min's seem reasonable for non-categorical cols\n",
    "- The count of unique values within each column is consistent with expectations (as many unique values for cat cols as there are categories for that col; and for all but 'age' col, unique values equals sample count)"
   ]
  },
  {
   "cell_type": "code",
   "execution_count": null,
   "id": "9e38d611-c6e2-4786-b24a-6544d828ca22",
   "metadata": {},
   "outputs": [],
   "source": []
  }
 ],
 "metadata": {
  "kernelspec": {
   "display_name": "Python 3 (ipykernel)",
   "language": "python",
   "name": "python3"
  },
  "language_info": {
   "codemirror_mode": {
    "name": "ipython",
    "version": 3
   },
   "file_extension": ".py",
   "mimetype": "text/x-python",
   "name": "python",
   "nbconvert_exporter": "python",
   "pygments_lexer": "ipython3",
   "version": "3.12.3"
  }
 },
 "nbformat": 4,
 "nbformat_minor": 5
}

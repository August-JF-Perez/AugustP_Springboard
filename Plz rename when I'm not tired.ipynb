{
 "cells": [
  {
   "cell_type": "markdown",
   "id": "f2b1f65a-e5a4-4c0b-96f7-9a4b37362965",
   "metadata": {},
   "source": [
    "# 7.9 Take Home Practice Exercise: Intermediate Python"
   ]
  },
  {
   "cell_type": "code",
   "execution_count": 9,
   "id": "ab4f63ee-72ba-4aa2-8e03-623f9fa41d6f",
   "metadata": {
    "tags": []
   },
   "outputs": [],
   "source": [
    "# Complete the 'return_odds' function below to return all odd numbers from inout_list\n",
    "def return_odds(input_list):\n",
    "    return [num for num in input_list if num%2 != 0]"
   ]
  },
  {
   "cell_type": "code",
   "execution_count": 10,
   "id": "fff86d8d-14bf-44d0-be7d-139ea2451d3d",
   "metadata": {
    "tags": []
   },
   "outputs": [],
   "source": [
    "ex_input_list = [1, 2, 3, 4, 5]"
   ]
  },
  {
   "cell_type": "code",
   "execution_count": 11,
   "id": "82463f39-5ed7-4533-9758-7acc7c24795c",
   "metadata": {
    "tags": []
   },
   "outputs": [
    {
     "data": {
      "text/plain": [
       "[1, 3, 5]"
      ]
     },
     "execution_count": 11,
     "metadata": {},
     "output_type": "execute_result"
    }
   ],
   "source": [
    "return_odds(ex_input_list)"
   ]
  },
  {
   "cell_type": "markdown",
   "id": "b4609c02-d0c5-4a8a-9df7-e5a9c61f1e22",
   "metadata": {},
   "source": [
    "# 7.9 Intermediate Python II Quiz"
   ]
  },
  {
   "cell_type": "markdown",
   "id": "20b6ef5e-a381-49fb-b018-23eacc88d693",
   "metadata": {},
   "source": [
    "Only hiccup: Q about syntax for list comprehension\n",
    "    -had to check my notes to check if expression or iterable came first"
   ]
  },
  {
   "cell_type": "markdown",
   "id": "550eb583-06ca-4a9e-a7c5-56262ff194be",
   "metadata": {},
   "source": [
    "# TSS attempt 1 02Nov2023"
   ]
  },
  {
   "cell_type": "code",
   "execution_count": 6,
   "id": "60d0f219-552f-4228-89be-0405fba21372",
   "metadata": {
    "tags": []
   },
   "outputs": [],
   "source": [
    "#Q5 - Dictionairies\n",
    "#construct dict using two lists of strings then print the dict object\n",
    "def print_dict(keys, values):\n",
    "    dict_to_print = {keys : values}\n",
    "    print(dict_to_print)"
   ]
  },
  {
   "cell_type": "code",
   "execution_count": 7,
   "id": "c2b80d45-f8e4-44b6-a626-b025e978b84d",
   "metadata": {
    "tags": []
   },
   "outputs": [],
   "source": [
    "keys1 = ['key1', 'key2']\n",
    "values1 = ['value1', 'value2']"
   ]
  },
  {
   "cell_type": "code",
   "execution_count": 8,
   "id": "06ec6abe-25c3-4db9-93b5-48f1183355a8",
   "metadata": {
    "tags": []
   },
   "outputs": [
    {
     "ename": "TypeError",
     "evalue": "unhashable type: 'list'",
     "output_type": "error",
     "traceback": [
      "\u001b[1;31m---------------------------------------------------------------------------\u001b[0m",
      "\u001b[1;31mTypeError\u001b[0m                                 Traceback (most recent call last)",
      "Cell \u001b[1;32mIn[8], line 1\u001b[0m\n\u001b[1;32m----> 1\u001b[0m print_dict(keys1, values1)\n",
      "Cell \u001b[1;32mIn[6], line 4\u001b[0m, in \u001b[0;36mprint_dict\u001b[1;34m(keys, values)\u001b[0m\n\u001b[0;32m      3\u001b[0m \u001b[38;5;28;01mdef\u001b[39;00m \u001b[38;5;21mprint_dict\u001b[39m(keys, values):\n\u001b[1;32m----> 4\u001b[0m     dict_to_print \u001b[38;5;241m=\u001b[39m {keys : values}\n\u001b[0;32m      5\u001b[0m     \u001b[38;5;28mprint\u001b[39m(dict_to_print)\n",
      "\u001b[1;31mTypeError\u001b[0m: unhashable type: 'list'"
     ]
    }
   ],
   "source": [
    "print_dict(keys1, values1)"
   ]
  },
  {
   "cell_type": "code",
   "execution_count": 9,
   "id": "46db7387-31a9-45fc-8c07-178fbf13daee",
   "metadata": {
    "tags": []
   },
   "outputs": [],
   "source": [
    "#Solved: used:\n",
    "def print_dict(keys, values):\n",
    "    dict_to_print = dict(zip(keys, values))\n",
    "    print(dict_to_print)"
   ]
  },
  {
   "cell_type": "code",
   "execution_count": 10,
   "id": "d2642716-983c-4a01-bf05-2163a4501075",
   "metadata": {
    "tags": []
   },
   "outputs": [],
   "source": [
    "#Q7 - Loops - print all int's between 1 & num argument\n",
    "def print_counter(num):\n",
    "    for i in range(1, num+1):\n",
    "        print(i)"
   ]
  },
  {
   "cell_type": "code",
   "execution_count": 12,
   "id": "0aa36df2-40f6-4be2-a6b8-bce4b7a7f74e",
   "metadata": {
    "tags": []
   },
   "outputs": [
    {
     "name": "stdout",
     "output_type": "stream",
     "text": [
      "1\n",
      "2\n",
      "3\n",
      "4\n",
      "5\n",
      "6\n",
      "7\n",
      "8\n",
      "9\n",
      "10\n",
      "11\n",
      "12\n"
     ]
    }
   ],
   "source": [
    "print_counter(12)"
   ]
  },
  {
   "cell_type": "code",
   "execution_count": 13,
   "id": "8e23e835-b1b2-4f84-a973-70f90a326b9f",
   "metadata": {
    "tags": []
   },
   "outputs": [],
   "source": [
    "#Q8 - User defined functions -Reurn 3rd item of a list or return -1 if list has < 3 elements\n",
    "def return_third(num_list):\n",
    "    if len(num_list) < 3:\n",
    "        return -1\n",
    "    else:\n",
    "        return num_list[2]"
   ]
  },
  {
   "cell_type": "code",
   "execution_count": 19,
   "id": "3f113e14-4824-4517-9d93-3342bfb8b0e7",
   "metadata": {
    "tags": []
   },
   "outputs": [
    {
     "data": {
      "text/plain": [
       "2"
      ]
     },
     "execution_count": 19,
     "metadata": {},
     "output_type": "execute_result"
    }
   ],
   "source": [
    "return_third([2,1,2])"
   ]
  },
  {
   "cell_type": "markdown",
   "id": "058b529f-97c9-448c-9bee-8b9102e8b17c",
   "metadata": {},
   "source": [
    "Q8 Odd thing:\\ \n",
    "their input:\\\n",
    "2\\\n",
    "1\\\n",
    "2\\\n",
    "my output: -1\\\n",
    "expected output: -1\n",
    "\n",
    "??The length of the list they inputed seems to be 3. Why is my & expected output -1??"
   ]
  },
  {
   "cell_type": "code",
   "execution_count": 20,
   "id": "c9ba65ed-87ad-43ec-adea-2c43b025faff",
   "metadata": {
    "tags": []
   },
   "outputs": [],
   "source": [
    "#Q9 Advanced loops/iterators 1 - function to loop through list and only print (seperately) values >10\n",
    "def print_big(num_list):\n",
    "    for num in num_list:\n",
    "        if num > 10:\n",
    "            print(num)"
   ]
  },
  {
   "cell_type": "code",
   "execution_count": 23,
   "id": "527e1fe8-f530-4a29-9407-f170a619201f",
   "metadata": {
    "tags": []
   },
   "outputs": [
    {
     "name": "stdout",
     "output_type": "stream",
     "text": [
      "99\n",
      "99\n",
      "99\n",
      "99\n"
     ]
    }
   ],
   "source": [
    "print_big([3,99,99,99,99])"
   ]
  },
  {
   "cell_type": "code",
   "execution_count": 24,
   "id": "1d1b5267-243a-48d0-9312-fec1715937df",
   "metadata": {
    "tags": []
   },
   "outputs": [],
   "source": [
    "# Wondering if there's a way to filter right in the for line (maybe below code?)\n",
    "def print_big1(num_list):\n",
    "    great_ten = num_list > 10\n",
    "    for num in num_list:\n",
    "        print(num)"
   ]
  },
  {
   "cell_type": "code",
   "execution_count": 26,
   "id": "b977f5c2-2a7d-4278-803b-4985cbffeaf6",
   "metadata": {
    "tags": []
   },
   "outputs": [
    {
     "ename": "TypeError",
     "evalue": "'>' not supported between instances of 'list' and 'int'",
     "output_type": "error",
     "traceback": [
      "\u001b[1;31m---------------------------------------------------------------------------\u001b[0m",
      "\u001b[1;31mTypeError\u001b[0m                                 Traceback (most recent call last)",
      "Cell \u001b[1;32mIn[26], line 1\u001b[0m\n\u001b[1;32m----> 1\u001b[0m print_big1([\u001b[38;5;241m1\u001b[39m,\u001b[38;5;241m15\u001b[39m,\u001b[38;5;241m75\u001b[39m,\u001b[38;5;241m8\u001b[39m,\u001b[38;5;241m9\u001b[39m])\n",
      "Cell \u001b[1;32mIn[24], line 3\u001b[0m, in \u001b[0;36mprint_big1\u001b[1;34m(num_list)\u001b[0m\n\u001b[0;32m      2\u001b[0m \u001b[38;5;28;01mdef\u001b[39;00m \u001b[38;5;21mprint_big1\u001b[39m(num_list):\n\u001b[1;32m----> 3\u001b[0m     great_ten \u001b[38;5;241m=\u001b[39m num_list \u001b[38;5;241m>\u001b[39m \u001b[38;5;241m10\u001b[39m\n\u001b[0;32m      4\u001b[0m     \u001b[38;5;28;01mfor\u001b[39;00m num \u001b[38;5;129;01min\u001b[39;00m num_list:\n\u001b[0;32m      5\u001b[0m         \u001b[38;5;28mprint\u001b[39m(num)\n",
      "\u001b[1;31mTypeError\u001b[0m: '>' not supported between instances of 'list' and 'int'"
     ]
    }
   ],
   "source": [
    "print_big1([1,15,75,8,9])"
   ]
  },
  {
   "cell_type": "code",
   "execution_count": 78,
   "id": "f12e3916-4b9c-4d7a-8a80-7747ae287f48",
   "metadata": {
    "tags": []
   },
   "outputs": [
    {
     "name": "stdout",
     "output_type": "stream",
     "text": [
      "[1, 2, 3, 4, 5, 6, 7, 8]\n"
     ]
    }
   ],
   "source": [
    "#Just a function to make a list of int's of whatever size\n",
    "def make_int_list(n):\n",
    "    func_list = []\n",
    "    for i in range(1, n+1):\n",
    "        func_list.append(i)\n",
    "    return func_list\n",
    "\n",
    "print(make_int_list(8))"
   ]
  },
  {
   "cell_type": "code",
   "execution_count": 122,
   "id": "eeaf8a09-93cd-4d98-b097-567ae43d7e6d",
   "metadata": {
    "tags": []
   },
   "outputs": [],
   "source": [
    "#Q 12 basic stats - find median of a list of int's\n",
    "def calc_median(num_list):\n",
    "    # Write your code here\n",
    "    sorted(num_list)\n",
    "    max_index = (int(num_list.index(num_list[-1])))\n",
    "    max_by2 = max_index / 2\n",
    "    len_by2 = (len(num_list) / 2)\n",
    "    if max_index % 2 == 0:\n",
    "        return num_list[int(max_by2)]\n",
    "    else:\n",
    "        return (num_list[int(len_by2)] + num_list[int((len_by2) -1)]) / 2"
   ]
  },
  {
   "cell_type": "code",
   "execution_count": 123,
   "id": "18ec566f-f0de-4214-8978-ce6ef54a3e4e",
   "metadata": {
    "tags": []
   },
   "outputs": [
    {
     "data": {
      "text/plain": [
       "4"
      ]
     },
     "execution_count": 123,
     "metadata": {},
     "output_type": "execute_result"
    }
   ],
   "source": [
    "calc_median(make_int_list(7))"
   ]
  },
  {
   "cell_type": "code",
   "execution_count": 119,
   "id": "bc4b707d-7aac-427a-9128-5b525d2d0528",
   "metadata": {
    "tags": []
   },
   "outputs": [
    {
     "name": "stdout",
     "output_type": "stream",
     "text": [
      "[1, 2, 3, 4, 5, 6, 7] List\n",
      "7 Len\n",
      "3.5\n",
      "[0, 1, 2, 3, 4, 5, 6] index\n"
     ]
    }
   ],
   "source": [
    "n_of_list = 7\n",
    "print(make_int_list(n_of_list), \"List\")\n",
    "print(len(make_int_list(n_of_list)), \"Len\")\n",
    "print((len(make_int_list(n_of_list))/2))\n",
    "\n",
    "index_list = []\n",
    "for ind in range((n_of_list)):\n",
    "    index_list.append(ind)\n",
    "\n",
    "print(index_list, \"index\")"
   ]
  },
  {
   "cell_type": "code",
   "execution_count": 112,
   "id": "0298cd28-4f73-4e13-a3eb-1920c96daf67",
   "metadata": {
    "tags": []
   },
   "outputs": [
    {
     "name": "stdout",
     "output_type": "stream",
     "text": [
      "[1, 2, 3, 4, 5, 6] List\n",
      "6 Len\n",
      "3.0\n",
      "[0, 1, 2, 3, 4, 5] index\n"
     ]
    }
   ],
   "source": [
    "n_of_list = 6\n",
    "print(make_int_list(n_of_list), \"List\")\n",
    "print(len(make_int_list(n_of_list)), \"Len\")\n",
    "print((len(make_int_list(n_of_list))/2))\n",
    "\n",
    "index_list = []\n",
    "for ind in range((n_of_list)):\n",
    "    index_list.append(ind)\n",
    "\n",
    "print(index_list, \"index\")"
   ]
  },
  {
   "cell_type": "code",
   "execution_count": 113,
   "id": "65d33db2-4ab3-425e-b66f-143af41d50af",
   "metadata": {
    "tags": []
   },
   "outputs": [
    {
     "name": "stdout",
     "output_type": "stream",
     "text": [
      "[1, 2, 3, 4, 5, 6, 7, 8, 9, 10, 11, 12] List\n",
      "12 Len\n",
      "6.0\n",
      "[0, 1, 2, 3, 4, 5, 6, 7, 8, 9, 10, 11] index\n"
     ]
    }
   ],
   "source": [
    "n_of_list = 12\n",
    "print(make_int_list(n_of_list), \"List\")\n",
    "print(len(make_int_list(n_of_list)), \"Len\")\n",
    "print((len(make_int_list(n_of_list))/2))\n",
    "\n",
    "index_list = []\n",
    "for ind in range((n_of_list)):\n",
    "    index_list.append(ind)\n",
    "\n",
    "print(index_list, \"index\")"
   ]
  },
  {
   "cell_type": "code",
   "execution_count": 124,
   "id": "22e2d925-9db8-4b23-bfcd-8cea9661133a",
   "metadata": {
    "tags": []
   },
   "outputs": [],
   "source": [
    "#This worked: I just wanted to use the stats module or convert to pandas df and use np.median buuut noooo...\n",
    "def calculate_median(num_list):\n",
    "    num_list.sort()\n",
    "    list_len = len(num_list)\n",
    "    if list_len % 2 != 0:\n",
    "        return num_list[list_len//2]\n",
    "    else:\n",
    "        return (num_list[list_len//2] + num_list[(list_len//2) - 1]) / 2"
   ]
  },
  {
   "cell_type": "code",
   "execution_count": 125,
   "id": "54ac7beb-e869-4d94-a291-91ea1c086a3c",
   "metadata": {
    "tags": []
   },
   "outputs": [],
   "source": [
    "#Q13 Had to look up syntax for np functions like mean, sum, sqrt\n",
    "#learned that np.whatever can be applied to lists"
   ]
  },
  {
   "cell_type": "code",
   "execution_count": 144,
   "id": "88b4d798-e352-494e-b0db-aeff4319d07d",
   "metadata": {
    "tags": []
   },
   "outputs": [
    {
     "data": {
      "text/plain": [
       "69.0"
      ]
     },
     "execution_count": 144,
     "metadata": {},
     "output_type": "execute_result"
    }
   ],
   "source": [
    "#Q17 stats -avg height of men b/c -typing b/c I don't feel like opening calculator\n",
    "import numpy as np\n",
    "np.mean([69,68,67,71,70])"
   ]
  },
  {
   "cell_type": "code",
   "execution_count": 161,
   "id": "ba101553-ce45-4a73-afbb-3ab29a3192db",
   "metadata": {
    "tags": []
   },
   "outputs": [
    {
     "data": {
      "text/plain": [
       "0.011111111111111112"
      ]
     },
     "execution_count": 161,
     "metadata": {},
     "output_type": "execute_result"
    }
   ],
   "source": [
    "(1/10)*(1/9)"
   ]
  },
  {
   "cell_type": "code",
   "execution_count": 164,
   "id": "4171c9ac-0fbd-40f5-a1bd-ee71645b98f6",
   "metadata": {
    "tags": []
   },
   "outputs": [
    {
     "name": "stdout",
     "output_type": "stream",
     "text": [
      "0.015625\n",
      "0.421875\n",
      "0.578125\n"
     ]
    }
   ],
   "source": [
    "#Q21 p of getting at least 1 of 3 Q's correct in 4-choice multiple choice\n",
    "q1_right = 0.25\n",
    "q1_wrong = 0.75\n",
    "\n",
    "q2_right = 0.25\n",
    "q2_wrong = 0.75\n",
    "\n",
    "q3_right = 0.25\n",
    "q3_wrong = 0.75\n",
    "\n",
    "right_cube = 0.25**3\n",
    "wrong_cube = 0.75**3\n",
    "print(right_cube)\n",
    "print(wrong_cube)\n",
    "print(1-wrong_cube)"
   ]
  },
  {
   "cell_type": "code",
   "execution_count": 163,
   "id": "8f13d2a3-99ee-4597-8025-5379b3b6fe79",
   "metadata": {
    "tags": []
   },
   "outputs": [
    {
     "name": "stdout",
     "output_type": "stream",
     "text": [
      "0.421875\n",
      "0.3333333333333333\n",
      "0.578125\n",
      "0.1875\n"
     ]
    }
   ],
   "source": [
    "print(27/64)\n",
    "print(1/3)\n",
    "print(37/64)\n",
    "print(3/16)"
   ]
  },
  {
   "cell_type": "code",
   "execution_count": null,
   "id": "aa374ba4-ba7b-4e13-90ae-2f76892dcdd2",
   "metadata": {},
   "outputs": [],
   "source": []
  }
 ],
 "metadata": {
  "kernelspec": {
   "display_name": "Python 3 (ipykernel)",
   "language": "python",
   "name": "python3"
  },
  "language_info": {
   "codemirror_mode": {
    "name": "ipython",
    "version": 3
   },
   "file_extension": ".py",
   "mimetype": "text/x-python",
   "name": "python",
   "nbconvert_exporter": "python",
   "pygments_lexer": "ipython3",
   "version": "3.11.5"
  }
 },
 "nbformat": 4,
 "nbformat_minor": 5
}

{
 "cells": [
  {
   "cell_type": "markdown",
   "id": "f2b1f65a-e5a4-4c0b-96f7-9a4b37362965",
   "metadata": {},
   "source": [
    "# 7.9 Take Home Practice Exercise: Intermediate Python"
   ]
  },
  {
   "cell_type": "code",
   "execution_count": 9,
   "id": "ab4f63ee-72ba-4aa2-8e03-623f9fa41d6f",
   "metadata": {
    "tags": []
   },
   "outputs": [],
   "source": [
    "# Complete the 'return_odds' function below to return all odd numbers from inout_list\n",
    "def return_odds(input_list):\n",
    "    return [num for num in input_list if num%2 != 0]"
   ]
  },
  {
   "cell_type": "code",
   "execution_count": 10,
   "id": "fff86d8d-14bf-44d0-be7d-139ea2451d3d",
   "metadata": {
    "tags": []
   },
   "outputs": [],
   "source": [
    "ex_input_list = [1, 2, 3, 4, 5]"
   ]
  },
  {
   "cell_type": "code",
   "execution_count": 11,
   "id": "82463f39-5ed7-4533-9758-7acc7c24795c",
   "metadata": {
    "tags": []
   },
   "outputs": [
    {
     "data": {
      "text/plain": [
       "[1, 3, 5]"
      ]
     },
     "execution_count": 11,
     "metadata": {},
     "output_type": "execute_result"
    }
   ],
   "source": [
    "return_odds(ex_input_list)"
   ]
  },
  {
   "cell_type": "markdown",
   "id": "b4609c02-d0c5-4a8a-9df7-e5a9c61f1e22",
   "metadata": {},
   "source": [
    "# 7.9 Intermediate Python II Quiz"
   ]
  },
  {
   "cell_type": "markdown",
   "id": "20b6ef5e-a381-49fb-b018-23eacc88d693",
   "metadata": {},
   "source": [
    "Only hiccup: Q about syntax for list comprehension\n",
    "    -had to check my notes to check if expression or iterable came first"
   ]
  },
  {
   "cell_type": "code",
   "execution_count": null,
   "id": "910e5e7d-29b1-489b-bb5b-6cdd3c6191a2",
   "metadata": {},
   "outputs": [],
   "source": []
  }
 ],
 "metadata": {
  "kernelspec": {
   "display_name": "Python 3 (ipykernel)",
   "language": "python",
   "name": "python3"
  },
  "language_info": {
   "codemirror_mode": {
    "name": "ipython",
    "version": 3
   },
   "file_extension": ".py",
   "mimetype": "text/x-python",
   "name": "python",
   "nbconvert_exporter": "python",
   "pygments_lexer": "ipython3",
   "version": "3.11.5"
  }
 },
 "nbformat": 4,
 "nbformat_minor": 5
}

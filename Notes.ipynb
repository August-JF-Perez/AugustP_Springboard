{
 "cells": [
  {
   "cell_type": "markdown",
   "id": "39d48120-8ba2-44c6-809f-25f8309f8f9b",
   "metadata": {},
   "source": [
    "# SpringBoard Data Science\n",
    "## Oct Cohort 2023\n",
    "\n",
    "## Contacts\n",
    "    Student advisors:\n",
    "        Cindy: cindy.advising@springboard.com\n",
    "    General: advising@springboard.com\n",
    "    Commuity Manager: Contact through Slack\n",
    "    Support Group: support@springboard.com (for logistics, & billing)"
   ]
  },
  {
   "cell_type": "markdown",
   "id": "119e9210-548c-4409-b209-9352c32708d3",
   "metadata": {
    "tags": []
   },
   "source": [
    "# Misc."
   ]
  },
  {
   "cell_type": "markdown",
   "id": "4ab0e8c2-1fe0-4000-8fc2-73a0cf1d9e3c",
   "metadata": {},
   "source": [
    "## Quotations\n",
    "    -if there will be quotes inside quotes, use different types. Otherwise your quotes will end at first isntance of "
   ]
  }
 ],
 "metadata": {
  "kernelspec": {
   "display_name": "Python 3 (ipykernel)",
   "language": "python",
   "name": "python3"
  },
  "language_info": {
   "codemirror_mode": {
    "name": "ipython",
    "version": 3
   },
   "file_extension": ".py",
   "mimetype": "text/x-python",
   "name": "python",
   "nbconvert_exporter": "python",
   "pygments_lexer": "ipython3",
   "version": "3.11.5"
  }
 },
 "nbformat": 4,
 "nbformat_minor": 5
}
